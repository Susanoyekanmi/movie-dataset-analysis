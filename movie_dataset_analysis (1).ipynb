{
 "cells": [
  {
   "cell_type": "markdown",
   "id": "7e85105b",
   "metadata": {},
   "source": [
    "# MOVIE DATASET ANALYSIS "
   ]
  },
  {
   "cell_type": "markdown",
   "id": "81390aac",
   "metadata": {},
   "source": [
    "# Project: Investigate a Dataset - [Movies.csv]\n",
    "# Table of Contents\n",
    "# Introduction\n",
    "# Visual assessment \n",
    "# programmatic assessment \n",
    "# Data cleaning\n",
    "# Exploratory Data Analysis\n",
    "# Conclusions\n",
    "# Limitations"
   ]
  },
  {
   "cell_type": "markdown",
   "id": "053e168e",
   "metadata": {},
   "source": [
    "# Introduction\n",
    "# Dataset Description\n",
    "This dataset contain over ten thousands entries of movies done over fifty years. The goal of this work is to analyse this dataset 'tmdb-movies.csv'so that future investors in the movie industry can make reasonable decisions. "
   ]
  },
  {
   "cell_type": "markdown",
   "id": "3cf13942",
   "metadata": {},
   "source": [
    "import libraries "
   ]
  },
  {
   "cell_type": "code",
   "execution_count": 1,
   "id": "62e97919",
   "metadata": {},
   "outputs": [],
   "source": [
    "import pandas as pd\n",
    "import numpy as np\n",
    "import matplotlib.pyplot as plt\n",
    "%matplotlib inline\n",
    "import seaborn as sbn"
   ]
  },
  {
   "cell_type": "markdown",
   "id": "488a4ef0",
   "metadata": {},
   "source": [
    "## load dataset"
   ]
  },
  {
   "cell_type": "code",
   "execution_count": 2,
   "id": "53c513f8",
   "metadata": {},
   "outputs": [
    {
     "data": {
      "text/html": [
       "<div>\n",
       "<style scoped>\n",
       "    .dataframe tbody tr th:only-of-type {\n",
       "        vertical-align: middle;\n",
       "    }\n",
       "\n",
       "    .dataframe tbody tr th {\n",
       "        vertical-align: top;\n",
       "    }\n",
       "\n",
       "    .dataframe thead th {\n",
       "        text-align: right;\n",
       "    }\n",
       "</style>\n",
       "<table border=\"1\" class=\"dataframe\">\n",
       "  <thead>\n",
       "    <tr style=\"text-align: right;\">\n",
       "      <th></th>\n",
       "      <th>id</th>\n",
       "      <th>imdb_id</th>\n",
       "      <th>popularity</th>\n",
       "      <th>budget</th>\n",
       "      <th>revenue</th>\n",
       "      <th>original_title</th>\n",
       "      <th>cast</th>\n",
       "      <th>homepage</th>\n",
       "      <th>director</th>\n",
       "      <th>tagline</th>\n",
       "      <th>...</th>\n",
       "      <th>overview</th>\n",
       "      <th>runtime</th>\n",
       "      <th>genres</th>\n",
       "      <th>production_companies</th>\n",
       "      <th>release_date</th>\n",
       "      <th>vote_count</th>\n",
       "      <th>vote_average</th>\n",
       "      <th>release_year</th>\n",
       "      <th>budget_adj</th>\n",
       "      <th>revenue_adj</th>\n",
       "    </tr>\n",
       "  </thead>\n",
       "  <tbody>\n",
       "    <tr>\n",
       "      <th>0</th>\n",
       "      <td>135397</td>\n",
       "      <td>tt0369610</td>\n",
       "      <td>32.985763</td>\n",
       "      <td>150000000</td>\n",
       "      <td>1513528810</td>\n",
       "      <td>Jurassic World</td>\n",
       "      <td>Chris Pratt|Bryce Dallas Howard|Irrfan Khan|Vi...</td>\n",
       "      <td>http://www.jurassicworld.com/</td>\n",
       "      <td>Colin Trevorrow</td>\n",
       "      <td>The park is open.</td>\n",
       "      <td>...</td>\n",
       "      <td>Twenty-two years after the events of Jurassic ...</td>\n",
       "      <td>124</td>\n",
       "      <td>Action|Adventure|Science Fiction|Thriller</td>\n",
       "      <td>Universal Studios|Amblin Entertainment|Legenda...</td>\n",
       "      <td>6/9/15</td>\n",
       "      <td>5562</td>\n",
       "      <td>6.5</td>\n",
       "      <td>2015</td>\n",
       "      <td>1.379999e+08</td>\n",
       "      <td>1.392446e+09</td>\n",
       "    </tr>\n",
       "    <tr>\n",
       "      <th>1</th>\n",
       "      <td>76341</td>\n",
       "      <td>tt1392190</td>\n",
       "      <td>28.419936</td>\n",
       "      <td>150000000</td>\n",
       "      <td>378436354</td>\n",
       "      <td>Mad Max: Fury Road</td>\n",
       "      <td>Tom Hardy|Charlize Theron|Hugh Keays-Byrne|Nic...</td>\n",
       "      <td>http://www.madmaxmovie.com/</td>\n",
       "      <td>George Miller</td>\n",
       "      <td>What a Lovely Day.</td>\n",
       "      <td>...</td>\n",
       "      <td>An apocalyptic story set in the furthest reach...</td>\n",
       "      <td>120</td>\n",
       "      <td>Action|Adventure|Science Fiction|Thriller</td>\n",
       "      <td>Village Roadshow Pictures|Kennedy Miller Produ...</td>\n",
       "      <td>5/13/15</td>\n",
       "      <td>6185</td>\n",
       "      <td>7.1</td>\n",
       "      <td>2015</td>\n",
       "      <td>1.379999e+08</td>\n",
       "      <td>3.481613e+08</td>\n",
       "    </tr>\n",
       "    <tr>\n",
       "      <th>2</th>\n",
       "      <td>262500</td>\n",
       "      <td>tt2908446</td>\n",
       "      <td>13.112507</td>\n",
       "      <td>110000000</td>\n",
       "      <td>295238201</td>\n",
       "      <td>Insurgent</td>\n",
       "      <td>Shailene Woodley|Theo James|Kate Winslet|Ansel...</td>\n",
       "      <td>http://www.thedivergentseries.movie/#insurgent</td>\n",
       "      <td>Robert Schwentke</td>\n",
       "      <td>One Choice Can Destroy You</td>\n",
       "      <td>...</td>\n",
       "      <td>Beatrice Prior must confront her inner demons ...</td>\n",
       "      <td>119</td>\n",
       "      <td>Adventure|Science Fiction|Thriller</td>\n",
       "      <td>Summit Entertainment|Mandeville Films|Red Wago...</td>\n",
       "      <td>3/18/15</td>\n",
       "      <td>2480</td>\n",
       "      <td>6.3</td>\n",
       "      <td>2015</td>\n",
       "      <td>1.012000e+08</td>\n",
       "      <td>2.716190e+08</td>\n",
       "    </tr>\n",
       "    <tr>\n",
       "      <th>3</th>\n",
       "      <td>140607</td>\n",
       "      <td>tt2488496</td>\n",
       "      <td>11.173104</td>\n",
       "      <td>200000000</td>\n",
       "      <td>2068178225</td>\n",
       "      <td>Star Wars: The Force Awakens</td>\n",
       "      <td>Harrison Ford|Mark Hamill|Carrie Fisher|Adam D...</td>\n",
       "      <td>http://www.starwars.com/films/star-wars-episod...</td>\n",
       "      <td>J.J. Abrams</td>\n",
       "      <td>Every generation has a story.</td>\n",
       "      <td>...</td>\n",
       "      <td>Thirty years after defeating the Galactic Empi...</td>\n",
       "      <td>136</td>\n",
       "      <td>Action|Adventure|Science Fiction|Fantasy</td>\n",
       "      <td>Lucasfilm|Truenorth Productions|Bad Robot</td>\n",
       "      <td>12/15/15</td>\n",
       "      <td>5292</td>\n",
       "      <td>7.5</td>\n",
       "      <td>2015</td>\n",
       "      <td>1.839999e+08</td>\n",
       "      <td>1.902723e+09</td>\n",
       "    </tr>\n",
       "    <tr>\n",
       "      <th>4</th>\n",
       "      <td>168259</td>\n",
       "      <td>tt2820852</td>\n",
       "      <td>9.335014</td>\n",
       "      <td>190000000</td>\n",
       "      <td>1506249360</td>\n",
       "      <td>Furious 7</td>\n",
       "      <td>Vin Diesel|Paul Walker|Jason Statham|Michelle ...</td>\n",
       "      <td>http://www.furious7.com/</td>\n",
       "      <td>James Wan</td>\n",
       "      <td>Vengeance Hits Home</td>\n",
       "      <td>...</td>\n",
       "      <td>Deckard Shaw seeks revenge against Dominic Tor...</td>\n",
       "      <td>137</td>\n",
       "      <td>Action|Crime|Thriller</td>\n",
       "      <td>Universal Pictures|Original Film|Media Rights ...</td>\n",
       "      <td>4/1/15</td>\n",
       "      <td>2947</td>\n",
       "      <td>7.3</td>\n",
       "      <td>2015</td>\n",
       "      <td>1.747999e+08</td>\n",
       "      <td>1.385749e+09</td>\n",
       "    </tr>\n",
       "  </tbody>\n",
       "</table>\n",
       "<p>5 rows × 21 columns</p>\n",
       "</div>"
      ],
      "text/plain": [
       "       id    imdb_id  popularity     budget     revenue  \\\n",
       "0  135397  tt0369610   32.985763  150000000  1513528810   \n",
       "1   76341  tt1392190   28.419936  150000000   378436354   \n",
       "2  262500  tt2908446   13.112507  110000000   295238201   \n",
       "3  140607  tt2488496   11.173104  200000000  2068178225   \n",
       "4  168259  tt2820852    9.335014  190000000  1506249360   \n",
       "\n",
       "                 original_title  \\\n",
       "0                Jurassic World   \n",
       "1            Mad Max: Fury Road   \n",
       "2                     Insurgent   \n",
       "3  Star Wars: The Force Awakens   \n",
       "4                     Furious 7   \n",
       "\n",
       "                                                cast  \\\n",
       "0  Chris Pratt|Bryce Dallas Howard|Irrfan Khan|Vi...   \n",
       "1  Tom Hardy|Charlize Theron|Hugh Keays-Byrne|Nic...   \n",
       "2  Shailene Woodley|Theo James|Kate Winslet|Ansel...   \n",
       "3  Harrison Ford|Mark Hamill|Carrie Fisher|Adam D...   \n",
       "4  Vin Diesel|Paul Walker|Jason Statham|Michelle ...   \n",
       "\n",
       "                                            homepage          director  \\\n",
       "0                      http://www.jurassicworld.com/   Colin Trevorrow   \n",
       "1                        http://www.madmaxmovie.com/     George Miller   \n",
       "2     http://www.thedivergentseries.movie/#insurgent  Robert Schwentke   \n",
       "3  http://www.starwars.com/films/star-wars-episod...       J.J. Abrams   \n",
       "4                           http://www.furious7.com/         James Wan   \n",
       "\n",
       "                         tagline  ...  \\\n",
       "0              The park is open.  ...   \n",
       "1             What a Lovely Day.  ...   \n",
       "2     One Choice Can Destroy You  ...   \n",
       "3  Every generation has a story.  ...   \n",
       "4            Vengeance Hits Home  ...   \n",
       "\n",
       "                                            overview runtime  \\\n",
       "0  Twenty-two years after the events of Jurassic ...     124   \n",
       "1  An apocalyptic story set in the furthest reach...     120   \n",
       "2  Beatrice Prior must confront her inner demons ...     119   \n",
       "3  Thirty years after defeating the Galactic Empi...     136   \n",
       "4  Deckard Shaw seeks revenge against Dominic Tor...     137   \n",
       "\n",
       "                                      genres  \\\n",
       "0  Action|Adventure|Science Fiction|Thriller   \n",
       "1  Action|Adventure|Science Fiction|Thriller   \n",
       "2         Adventure|Science Fiction|Thriller   \n",
       "3   Action|Adventure|Science Fiction|Fantasy   \n",
       "4                      Action|Crime|Thriller   \n",
       "\n",
       "                                production_companies release_date vote_count  \\\n",
       "0  Universal Studios|Amblin Entertainment|Legenda...       6/9/15       5562   \n",
       "1  Village Roadshow Pictures|Kennedy Miller Produ...      5/13/15       6185   \n",
       "2  Summit Entertainment|Mandeville Films|Red Wago...      3/18/15       2480   \n",
       "3          Lucasfilm|Truenorth Productions|Bad Robot     12/15/15       5292   \n",
       "4  Universal Pictures|Original Film|Media Rights ...       4/1/15       2947   \n",
       "\n",
       "   vote_average  release_year    budget_adj   revenue_adj  \n",
       "0           6.5          2015  1.379999e+08  1.392446e+09  \n",
       "1           7.1          2015  1.379999e+08  3.481613e+08  \n",
       "2           6.3          2015  1.012000e+08  2.716190e+08  \n",
       "3           7.5          2015  1.839999e+08  1.902723e+09  \n",
       "4           7.3          2015  1.747999e+08  1.385749e+09  \n",
       "\n",
       "[5 rows x 21 columns]"
      ]
     },
     "execution_count": 2,
     "metadata": {},
     "output_type": "execute_result"
    }
   ],
   "source": [
    "df_movies=pd.read_csv('movies.csv')\n",
    "df_movies.head()"
   ]
  },
  {
   "cell_type": "markdown",
   "id": "5a4bc2ed",
   "metadata": {},
   "source": [
    " # assess dataset for tidiness and quality issues "
   ]
  },
  {
   "cell_type": "markdown",
   "id": "ea194780",
   "metadata": {},
   "source": [
    "# visual assessment "
   ]
  },
  {
   "cell_type": "code",
   "execution_count": 3,
   "id": "51e7d43f",
   "metadata": {},
   "outputs": [
    {
     "data": {
      "text/html": [
       "<div>\n",
       "<style scoped>\n",
       "    .dataframe tbody tr th:only-of-type {\n",
       "        vertical-align: middle;\n",
       "    }\n",
       "\n",
       "    .dataframe tbody tr th {\n",
       "        vertical-align: top;\n",
       "    }\n",
       "\n",
       "    .dataframe thead th {\n",
       "        text-align: right;\n",
       "    }\n",
       "</style>\n",
       "<table border=\"1\" class=\"dataframe\">\n",
       "  <thead>\n",
       "    <tr style=\"text-align: right;\">\n",
       "      <th></th>\n",
       "      <th>id</th>\n",
       "      <th>imdb_id</th>\n",
       "      <th>popularity</th>\n",
       "      <th>budget</th>\n",
       "      <th>revenue</th>\n",
       "      <th>original_title</th>\n",
       "      <th>cast</th>\n",
       "      <th>homepage</th>\n",
       "      <th>director</th>\n",
       "      <th>tagline</th>\n",
       "      <th>...</th>\n",
       "      <th>overview</th>\n",
       "      <th>runtime</th>\n",
       "      <th>genres</th>\n",
       "      <th>production_companies</th>\n",
       "      <th>release_date</th>\n",
       "      <th>vote_count</th>\n",
       "      <th>vote_average</th>\n",
       "      <th>release_year</th>\n",
       "      <th>budget_adj</th>\n",
       "      <th>revenue_adj</th>\n",
       "    </tr>\n",
       "  </thead>\n",
       "  <tbody>\n",
       "    <tr>\n",
       "      <th>0</th>\n",
       "      <td>135397</td>\n",
       "      <td>tt0369610</td>\n",
       "      <td>32.985763</td>\n",
       "      <td>150000000</td>\n",
       "      <td>1513528810</td>\n",
       "      <td>Jurassic World</td>\n",
       "      <td>Chris Pratt|Bryce Dallas Howard|Irrfan Khan|Vi...</td>\n",
       "      <td>http://www.jurassicworld.com/</td>\n",
       "      <td>Colin Trevorrow</td>\n",
       "      <td>The park is open.</td>\n",
       "      <td>...</td>\n",
       "      <td>Twenty-two years after the events of Jurassic ...</td>\n",
       "      <td>124</td>\n",
       "      <td>Action|Adventure|Science Fiction|Thriller</td>\n",
       "      <td>Universal Studios|Amblin Entertainment|Legenda...</td>\n",
       "      <td>6/9/15</td>\n",
       "      <td>5562</td>\n",
       "      <td>6.5</td>\n",
       "      <td>2015</td>\n",
       "      <td>1.379999e+08</td>\n",
       "      <td>1.392446e+09</td>\n",
       "    </tr>\n",
       "    <tr>\n",
       "      <th>1</th>\n",
       "      <td>76341</td>\n",
       "      <td>tt1392190</td>\n",
       "      <td>28.419936</td>\n",
       "      <td>150000000</td>\n",
       "      <td>378436354</td>\n",
       "      <td>Mad Max: Fury Road</td>\n",
       "      <td>Tom Hardy|Charlize Theron|Hugh Keays-Byrne|Nic...</td>\n",
       "      <td>http://www.madmaxmovie.com/</td>\n",
       "      <td>George Miller</td>\n",
       "      <td>What a Lovely Day.</td>\n",
       "      <td>...</td>\n",
       "      <td>An apocalyptic story set in the furthest reach...</td>\n",
       "      <td>120</td>\n",
       "      <td>Action|Adventure|Science Fiction|Thriller</td>\n",
       "      <td>Village Roadshow Pictures|Kennedy Miller Produ...</td>\n",
       "      <td>5/13/15</td>\n",
       "      <td>6185</td>\n",
       "      <td>7.1</td>\n",
       "      <td>2015</td>\n",
       "      <td>1.379999e+08</td>\n",
       "      <td>3.481613e+08</td>\n",
       "    </tr>\n",
       "    <tr>\n",
       "      <th>2</th>\n",
       "      <td>262500</td>\n",
       "      <td>tt2908446</td>\n",
       "      <td>13.112507</td>\n",
       "      <td>110000000</td>\n",
       "      <td>295238201</td>\n",
       "      <td>Insurgent</td>\n",
       "      <td>Shailene Woodley|Theo James|Kate Winslet|Ansel...</td>\n",
       "      <td>http://www.thedivergentseries.movie/#insurgent</td>\n",
       "      <td>Robert Schwentke</td>\n",
       "      <td>One Choice Can Destroy You</td>\n",
       "      <td>...</td>\n",
       "      <td>Beatrice Prior must confront her inner demons ...</td>\n",
       "      <td>119</td>\n",
       "      <td>Adventure|Science Fiction|Thriller</td>\n",
       "      <td>Summit Entertainment|Mandeville Films|Red Wago...</td>\n",
       "      <td>3/18/15</td>\n",
       "      <td>2480</td>\n",
       "      <td>6.3</td>\n",
       "      <td>2015</td>\n",
       "      <td>1.012000e+08</td>\n",
       "      <td>2.716190e+08</td>\n",
       "    </tr>\n",
       "    <tr>\n",
       "      <th>3</th>\n",
       "      <td>140607</td>\n",
       "      <td>tt2488496</td>\n",
       "      <td>11.173104</td>\n",
       "      <td>200000000</td>\n",
       "      <td>2068178225</td>\n",
       "      <td>Star Wars: The Force Awakens</td>\n",
       "      <td>Harrison Ford|Mark Hamill|Carrie Fisher|Adam D...</td>\n",
       "      <td>http://www.starwars.com/films/star-wars-episod...</td>\n",
       "      <td>J.J. Abrams</td>\n",
       "      <td>Every generation has a story.</td>\n",
       "      <td>...</td>\n",
       "      <td>Thirty years after defeating the Galactic Empi...</td>\n",
       "      <td>136</td>\n",
       "      <td>Action|Adventure|Science Fiction|Fantasy</td>\n",
       "      <td>Lucasfilm|Truenorth Productions|Bad Robot</td>\n",
       "      <td>12/15/15</td>\n",
       "      <td>5292</td>\n",
       "      <td>7.5</td>\n",
       "      <td>2015</td>\n",
       "      <td>1.839999e+08</td>\n",
       "      <td>1.902723e+09</td>\n",
       "    </tr>\n",
       "    <tr>\n",
       "      <th>4</th>\n",
       "      <td>168259</td>\n",
       "      <td>tt2820852</td>\n",
       "      <td>9.335014</td>\n",
       "      <td>190000000</td>\n",
       "      <td>1506249360</td>\n",
       "      <td>Furious 7</td>\n",
       "      <td>Vin Diesel|Paul Walker|Jason Statham|Michelle ...</td>\n",
       "      <td>http://www.furious7.com/</td>\n",
       "      <td>James Wan</td>\n",
       "      <td>Vengeance Hits Home</td>\n",
       "      <td>...</td>\n",
       "      <td>Deckard Shaw seeks revenge against Dominic Tor...</td>\n",
       "      <td>137</td>\n",
       "      <td>Action|Crime|Thriller</td>\n",
       "      <td>Universal Pictures|Original Film|Media Rights ...</td>\n",
       "      <td>4/1/15</td>\n",
       "      <td>2947</td>\n",
       "      <td>7.3</td>\n",
       "      <td>2015</td>\n",
       "      <td>1.747999e+08</td>\n",
       "      <td>1.385749e+09</td>\n",
       "    </tr>\n",
       "    <tr>\n",
       "      <th>...</th>\n",
       "      <td>...</td>\n",
       "      <td>...</td>\n",
       "      <td>...</td>\n",
       "      <td>...</td>\n",
       "      <td>...</td>\n",
       "      <td>...</td>\n",
       "      <td>...</td>\n",
       "      <td>...</td>\n",
       "      <td>...</td>\n",
       "      <td>...</td>\n",
       "      <td>...</td>\n",
       "      <td>...</td>\n",
       "      <td>...</td>\n",
       "      <td>...</td>\n",
       "      <td>...</td>\n",
       "      <td>...</td>\n",
       "      <td>...</td>\n",
       "      <td>...</td>\n",
       "      <td>...</td>\n",
       "      <td>...</td>\n",
       "      <td>...</td>\n",
       "    </tr>\n",
       "    <tr>\n",
       "      <th>10861</th>\n",
       "      <td>21</td>\n",
       "      <td>tt0060371</td>\n",
       "      <td>0.080598</td>\n",
       "      <td>0</td>\n",
       "      <td>0</td>\n",
       "      <td>The Endless Summer</td>\n",
       "      <td>Michael Hynson|Robert August|Lord 'Tally Ho' B...</td>\n",
       "      <td>NaN</td>\n",
       "      <td>Bruce Brown</td>\n",
       "      <td>NaN</td>\n",
       "      <td>...</td>\n",
       "      <td>The Endless Summer, by Bruce Brown, is one of ...</td>\n",
       "      <td>95</td>\n",
       "      <td>Documentary</td>\n",
       "      <td>Bruce Brown Films</td>\n",
       "      <td>6/15/66</td>\n",
       "      <td>11</td>\n",
       "      <td>7.4</td>\n",
       "      <td>1966</td>\n",
       "      <td>0.000000e+00</td>\n",
       "      <td>0.000000e+00</td>\n",
       "    </tr>\n",
       "    <tr>\n",
       "      <th>10862</th>\n",
       "      <td>20379</td>\n",
       "      <td>tt0060472</td>\n",
       "      <td>0.065543</td>\n",
       "      <td>0</td>\n",
       "      <td>0</td>\n",
       "      <td>Grand Prix</td>\n",
       "      <td>James Garner|Eva Marie Saint|Yves Montand|Tosh...</td>\n",
       "      <td>NaN</td>\n",
       "      <td>John Frankenheimer</td>\n",
       "      <td>Cinerama sweeps YOU into a drama of speed and ...</td>\n",
       "      <td>...</td>\n",
       "      <td>Grand Prix driver Pete Aron is fired by his te...</td>\n",
       "      <td>176</td>\n",
       "      <td>Action|Adventure|Drama</td>\n",
       "      <td>Cherokee Productions|Joel Productions|Douglas ...</td>\n",
       "      <td>12/21/66</td>\n",
       "      <td>20</td>\n",
       "      <td>5.7</td>\n",
       "      <td>1966</td>\n",
       "      <td>0.000000e+00</td>\n",
       "      <td>0.000000e+00</td>\n",
       "    </tr>\n",
       "    <tr>\n",
       "      <th>10863</th>\n",
       "      <td>39768</td>\n",
       "      <td>tt0060161</td>\n",
       "      <td>0.065141</td>\n",
       "      <td>0</td>\n",
       "      <td>0</td>\n",
       "      <td>Beregis Avtomobilya</td>\n",
       "      <td>Innokentiy Smoktunovskiy|Oleg Efremov|Georgi Z...</td>\n",
       "      <td>NaN</td>\n",
       "      <td>Eldar Ryazanov</td>\n",
       "      <td>NaN</td>\n",
       "      <td>...</td>\n",
       "      <td>An insurance agent who moonlights as a carthie...</td>\n",
       "      <td>94</td>\n",
       "      <td>Mystery|Comedy</td>\n",
       "      <td>Mosfilm</td>\n",
       "      <td>1/1/66</td>\n",
       "      <td>11</td>\n",
       "      <td>6.5</td>\n",
       "      <td>1966</td>\n",
       "      <td>0.000000e+00</td>\n",
       "      <td>0.000000e+00</td>\n",
       "    </tr>\n",
       "    <tr>\n",
       "      <th>10864</th>\n",
       "      <td>21449</td>\n",
       "      <td>tt0061177</td>\n",
       "      <td>0.064317</td>\n",
       "      <td>0</td>\n",
       "      <td>0</td>\n",
       "      <td>What's Up, Tiger Lily?</td>\n",
       "      <td>Tatsuya Mihashi|Akiko Wakabayashi|Mie Hama|Joh...</td>\n",
       "      <td>NaN</td>\n",
       "      <td>Woody Allen</td>\n",
       "      <td>WOODY ALLEN STRIKES BACK!</td>\n",
       "      <td>...</td>\n",
       "      <td>In comic Woody Allen's film debut, he took the...</td>\n",
       "      <td>80</td>\n",
       "      <td>Action|Comedy</td>\n",
       "      <td>Benedict Pictures Corp.</td>\n",
       "      <td>11/2/66</td>\n",
       "      <td>22</td>\n",
       "      <td>5.4</td>\n",
       "      <td>1966</td>\n",
       "      <td>0.000000e+00</td>\n",
       "      <td>0.000000e+00</td>\n",
       "    </tr>\n",
       "    <tr>\n",
       "      <th>10865</th>\n",
       "      <td>22293</td>\n",
       "      <td>tt0060666</td>\n",
       "      <td>0.035919</td>\n",
       "      <td>19000</td>\n",
       "      <td>0</td>\n",
       "      <td>Manos: The Hands of Fate</td>\n",
       "      <td>Harold P. Warren|Tom Neyman|John Reynolds|Dian...</td>\n",
       "      <td>NaN</td>\n",
       "      <td>Harold P. Warren</td>\n",
       "      <td>It's Shocking! It's Beyond Your Imagination!</td>\n",
       "      <td>...</td>\n",
       "      <td>A family gets lost on the road and stumbles up...</td>\n",
       "      <td>74</td>\n",
       "      <td>Horror</td>\n",
       "      <td>Norm-Iris</td>\n",
       "      <td>11/15/66</td>\n",
       "      <td>15</td>\n",
       "      <td>1.5</td>\n",
       "      <td>1966</td>\n",
       "      <td>1.276423e+05</td>\n",
       "      <td>0.000000e+00</td>\n",
       "    </tr>\n",
       "  </tbody>\n",
       "</table>\n",
       "<p>10866 rows × 21 columns</p>\n",
       "</div>"
      ],
      "text/plain": [
       "           id    imdb_id  popularity     budget     revenue  \\\n",
       "0      135397  tt0369610   32.985763  150000000  1513528810   \n",
       "1       76341  tt1392190   28.419936  150000000   378436354   \n",
       "2      262500  tt2908446   13.112507  110000000   295238201   \n",
       "3      140607  tt2488496   11.173104  200000000  2068178225   \n",
       "4      168259  tt2820852    9.335014  190000000  1506249360   \n",
       "...       ...        ...         ...        ...         ...   \n",
       "10861      21  tt0060371    0.080598          0           0   \n",
       "10862   20379  tt0060472    0.065543          0           0   \n",
       "10863   39768  tt0060161    0.065141          0           0   \n",
       "10864   21449  tt0061177    0.064317          0           0   \n",
       "10865   22293  tt0060666    0.035919      19000           0   \n",
       "\n",
       "                     original_title  \\\n",
       "0                    Jurassic World   \n",
       "1                Mad Max: Fury Road   \n",
       "2                         Insurgent   \n",
       "3      Star Wars: The Force Awakens   \n",
       "4                         Furious 7   \n",
       "...                             ...   \n",
       "10861            The Endless Summer   \n",
       "10862                    Grand Prix   \n",
       "10863           Beregis Avtomobilya   \n",
       "10864        What's Up, Tiger Lily?   \n",
       "10865      Manos: The Hands of Fate   \n",
       "\n",
       "                                                    cast  \\\n",
       "0      Chris Pratt|Bryce Dallas Howard|Irrfan Khan|Vi...   \n",
       "1      Tom Hardy|Charlize Theron|Hugh Keays-Byrne|Nic...   \n",
       "2      Shailene Woodley|Theo James|Kate Winslet|Ansel...   \n",
       "3      Harrison Ford|Mark Hamill|Carrie Fisher|Adam D...   \n",
       "4      Vin Diesel|Paul Walker|Jason Statham|Michelle ...   \n",
       "...                                                  ...   \n",
       "10861  Michael Hynson|Robert August|Lord 'Tally Ho' B...   \n",
       "10862  James Garner|Eva Marie Saint|Yves Montand|Tosh...   \n",
       "10863  Innokentiy Smoktunovskiy|Oleg Efremov|Georgi Z...   \n",
       "10864  Tatsuya Mihashi|Akiko Wakabayashi|Mie Hama|Joh...   \n",
       "10865  Harold P. Warren|Tom Neyman|John Reynolds|Dian...   \n",
       "\n",
       "                                                homepage            director  \\\n",
       "0                          http://www.jurassicworld.com/     Colin Trevorrow   \n",
       "1                            http://www.madmaxmovie.com/       George Miller   \n",
       "2         http://www.thedivergentseries.movie/#insurgent    Robert Schwentke   \n",
       "3      http://www.starwars.com/films/star-wars-episod...         J.J. Abrams   \n",
       "4                               http://www.furious7.com/           James Wan   \n",
       "...                                                  ...                 ...   \n",
       "10861                                                NaN         Bruce Brown   \n",
       "10862                                                NaN  John Frankenheimer   \n",
       "10863                                                NaN      Eldar Ryazanov   \n",
       "10864                                                NaN         Woody Allen   \n",
       "10865                                                NaN    Harold P. Warren   \n",
       "\n",
       "                                                 tagline  ...  \\\n",
       "0                                      The park is open.  ...   \n",
       "1                                     What a Lovely Day.  ...   \n",
       "2                             One Choice Can Destroy You  ...   \n",
       "3                          Every generation has a story.  ...   \n",
       "4                                    Vengeance Hits Home  ...   \n",
       "...                                                  ...  ...   \n",
       "10861                                                NaN  ...   \n",
       "10862  Cinerama sweeps YOU into a drama of speed and ...  ...   \n",
       "10863                                                NaN  ...   \n",
       "10864                          WOODY ALLEN STRIKES BACK!  ...   \n",
       "10865       It's Shocking! It's Beyond Your Imagination!  ...   \n",
       "\n",
       "                                                overview runtime  \\\n",
       "0      Twenty-two years after the events of Jurassic ...     124   \n",
       "1      An apocalyptic story set in the furthest reach...     120   \n",
       "2      Beatrice Prior must confront her inner demons ...     119   \n",
       "3      Thirty years after defeating the Galactic Empi...     136   \n",
       "4      Deckard Shaw seeks revenge against Dominic Tor...     137   \n",
       "...                                                  ...     ...   \n",
       "10861  The Endless Summer, by Bruce Brown, is one of ...      95   \n",
       "10862  Grand Prix driver Pete Aron is fired by his te...     176   \n",
       "10863  An insurance agent who moonlights as a carthie...      94   \n",
       "10864  In comic Woody Allen's film debut, he took the...      80   \n",
       "10865  A family gets lost on the road and stumbles up...      74   \n",
       "\n",
       "                                          genres  \\\n",
       "0      Action|Adventure|Science Fiction|Thriller   \n",
       "1      Action|Adventure|Science Fiction|Thriller   \n",
       "2             Adventure|Science Fiction|Thriller   \n",
       "3       Action|Adventure|Science Fiction|Fantasy   \n",
       "4                          Action|Crime|Thriller   \n",
       "...                                          ...   \n",
       "10861                                Documentary   \n",
       "10862                     Action|Adventure|Drama   \n",
       "10863                             Mystery|Comedy   \n",
       "10864                              Action|Comedy   \n",
       "10865                                     Horror   \n",
       "\n",
       "                                    production_companies release_date  \\\n",
       "0      Universal Studios|Amblin Entertainment|Legenda...       6/9/15   \n",
       "1      Village Roadshow Pictures|Kennedy Miller Produ...      5/13/15   \n",
       "2      Summit Entertainment|Mandeville Films|Red Wago...      3/18/15   \n",
       "3              Lucasfilm|Truenorth Productions|Bad Robot     12/15/15   \n",
       "4      Universal Pictures|Original Film|Media Rights ...       4/1/15   \n",
       "...                                                  ...          ...   \n",
       "10861                                  Bruce Brown Films      6/15/66   \n",
       "10862  Cherokee Productions|Joel Productions|Douglas ...     12/21/66   \n",
       "10863                                            Mosfilm       1/1/66   \n",
       "10864                            Benedict Pictures Corp.      11/2/66   \n",
       "10865                                          Norm-Iris     11/15/66   \n",
       "\n",
       "      vote_count  vote_average  release_year    budget_adj   revenue_adj  \n",
       "0           5562           6.5          2015  1.379999e+08  1.392446e+09  \n",
       "1           6185           7.1          2015  1.379999e+08  3.481613e+08  \n",
       "2           2480           6.3          2015  1.012000e+08  2.716190e+08  \n",
       "3           5292           7.5          2015  1.839999e+08  1.902723e+09  \n",
       "4           2947           7.3          2015  1.747999e+08  1.385749e+09  \n",
       "...          ...           ...           ...           ...           ...  \n",
       "10861         11           7.4          1966  0.000000e+00  0.000000e+00  \n",
       "10862         20           5.7          1966  0.000000e+00  0.000000e+00  \n",
       "10863         11           6.5          1966  0.000000e+00  0.000000e+00  \n",
       "10864         22           5.4          1966  0.000000e+00  0.000000e+00  \n",
       "10865         15           1.5          1966  1.276423e+05  0.000000e+00  \n",
       "\n",
       "[10866 rows x 21 columns]"
      ]
     },
     "execution_count": 3,
     "metadata": {},
     "output_type": "execute_result"
    }
   ],
   "source": [
    "df_movies"
   ]
  },
  {
   "cell_type": "markdown",
   "id": "92bb59d2",
   "metadata": {},
   "source": [
    "we have 10866 rows with 21 columns from this visual assessment"
   ]
  },
  {
   "cell_type": "markdown",
   "id": "75a51848",
   "metadata": {},
   "source": [
    "## programmatic assessment \n",
    "\n",
    "This section involves the use of pandas functions/methods to assess each of the tables ,this assessment will also tell us about\n",
    "\n",
    "the quality issues and tidiness our data has in which i would be able to clean in the cleaning section."
   ]
  },
  {
   "cell_type": "code",
   "execution_count": 4,
   "id": "19c4fbad",
   "metadata": {},
   "outputs": [
    {
     "data": {
      "text/plain": [
       "(10866, 21)"
      ]
     },
     "execution_count": 4,
     "metadata": {},
     "output_type": "execute_result"
    }
   ],
   "source": [
    "df_movies.shape"
   ]
  },
  {
   "cell_type": "markdown",
   "id": "72764827",
   "metadata": {},
   "source": [
    "this shows we have 10866 rows with 21 variables "
   ]
  },
  {
   "cell_type": "code",
   "execution_count": 5,
   "id": "2bc12eb0",
   "metadata": {},
   "outputs": [
    {
     "name": "stdout",
     "output_type": "stream",
     "text": [
      "<class 'pandas.core.frame.DataFrame'>\n",
      "RangeIndex: 10866 entries, 0 to 10865\n",
      "Data columns (total 21 columns):\n",
      " #   Column                Non-Null Count  Dtype  \n",
      "---  ------                --------------  -----  \n",
      " 0   id                    10866 non-null  int64  \n",
      " 1   imdb_id               10856 non-null  object \n",
      " 2   popularity            10866 non-null  float64\n",
      " 3   budget                10866 non-null  int64  \n",
      " 4   revenue               10866 non-null  int64  \n",
      " 5   original_title        10866 non-null  object \n",
      " 6   cast                  10790 non-null  object \n",
      " 7   homepage              2936 non-null   object \n",
      " 8   director              10822 non-null  object \n",
      " 9   tagline               8042 non-null   object \n",
      " 10  keywords              9373 non-null   object \n",
      " 11  overview              10862 non-null  object \n",
      " 12  runtime               10866 non-null  int64  \n",
      " 13  genres                10843 non-null  object \n",
      " 14  production_companies  9836 non-null   object \n",
      " 15  release_date          10866 non-null  object \n",
      " 16  vote_count            10866 non-null  int64  \n",
      " 17  vote_average          10866 non-null  float64\n",
      " 18  release_year          10866 non-null  int64  \n",
      " 19  budget_adj            10866 non-null  float64\n",
      " 20  revenue_adj           10866 non-null  float64\n",
      "dtypes: float64(4), int64(6), object(11)\n",
      "memory usage: 1.7+ MB\n"
     ]
    }
   ],
   "source": [
    "df_movies.info()"
   ]
  },
  {
   "cell_type": "markdown",
   "id": "b862cf6b",
   "metadata": {},
   "source": [
    "from the information above,it shows that there are missing numbers in about 9 columns,incorrect datatype in 'release_date '"
   ]
  },
  {
   "cell_type": "code",
   "execution_count": 6,
   "id": "c2d33d27",
   "metadata": {},
   "outputs": [
    {
     "data": {
      "text/plain": [
       "id                         0\n",
       "imdb_id                   10\n",
       "popularity                 0\n",
       "budget                     0\n",
       "revenue                    0\n",
       "original_title             0\n",
       "cast                      76\n",
       "homepage                7930\n",
       "director                  44\n",
       "tagline                 2824\n",
       "keywords                1493\n",
       "overview                   4\n",
       "runtime                    0\n",
       "genres                    23\n",
       "production_companies    1030\n",
       "release_date               0\n",
       "vote_count                 0\n",
       "vote_average               0\n",
       "release_year               0\n",
       "budget_adj                 0\n",
       "revenue_adj                0\n",
       "dtype: int64"
      ]
     },
     "execution_count": 6,
     "metadata": {},
     "output_type": "execute_result"
    }
   ],
   "source": [
    "df_movies.isnull().sum()"
   ]
  },
  {
   "cell_type": "code",
   "execution_count": 7,
   "id": "cdebb8a5",
   "metadata": {},
   "outputs": [
    {
     "data": {
      "text/plain": [
       "9"
      ]
     },
     "execution_count": 7,
     "metadata": {},
     "output_type": "execute_result"
    }
   ],
   "source": [
    "# to check for columns with missing values \n",
    "df_movies.isnull().any().sum()"
   ]
  },
  {
   "cell_type": "code",
   "execution_count": 8,
   "id": "82c8fb72",
   "metadata": {},
   "outputs": [
    {
     "data": {
      "text/plain": [
       "8874"
      ]
     },
     "execution_count": 8,
     "metadata": {},
     "output_type": "execute_result"
    }
   ],
   "source": [
    "#to check for rows with missing values\n",
    "df_movies.isnull().any(axis=1).sum()"
   ]
  },
  {
   "cell_type": "markdown",
   "id": "89580d6f",
   "metadata": {},
   "source": [
    "this shows there are 8874 missing  rows in 9 columns"
   ]
  },
  {
   "cell_type": "code",
   "execution_count": 9,
   "id": "5538be50",
   "metadata": {},
   "outputs": [
    {
     "data": {
      "text/plain": [
       "1"
      ]
     },
     "execution_count": 9,
     "metadata": {},
     "output_type": "execute_result"
    }
   ],
   "source": [
    "#to   check for duplicated dataset\n",
    "df_movies.duplicated().sum()"
   ]
  },
  {
   "cell_type": "code",
   "execution_count": 10,
   "id": "8bb05fde",
   "metadata": {},
   "outputs": [
    {
     "data": {
      "text/html": [
       "<div>\n",
       "<style scoped>\n",
       "    .dataframe tbody tr th:only-of-type {\n",
       "        vertical-align: middle;\n",
       "    }\n",
       "\n",
       "    .dataframe tbody tr th {\n",
       "        vertical-align: top;\n",
       "    }\n",
       "\n",
       "    .dataframe thead th {\n",
       "        text-align: right;\n",
       "    }\n",
       "</style>\n",
       "<table border=\"1\" class=\"dataframe\">\n",
       "  <thead>\n",
       "    <tr style=\"text-align: right;\">\n",
       "      <th></th>\n",
       "      <th>id</th>\n",
       "      <th>imdb_id</th>\n",
       "      <th>popularity</th>\n",
       "      <th>budget</th>\n",
       "      <th>revenue</th>\n",
       "      <th>original_title</th>\n",
       "      <th>cast</th>\n",
       "      <th>homepage</th>\n",
       "      <th>director</th>\n",
       "      <th>tagline</th>\n",
       "      <th>...</th>\n",
       "      <th>overview</th>\n",
       "      <th>runtime</th>\n",
       "      <th>genres</th>\n",
       "      <th>production_companies</th>\n",
       "      <th>release_date</th>\n",
       "      <th>vote_count</th>\n",
       "      <th>vote_average</th>\n",
       "      <th>release_year</th>\n",
       "      <th>budget_adj</th>\n",
       "      <th>revenue_adj</th>\n",
       "    </tr>\n",
       "  </thead>\n",
       "  <tbody>\n",
       "    <tr>\n",
       "      <th>2090</th>\n",
       "      <td>42194</td>\n",
       "      <td>tt0411951</td>\n",
       "      <td>0.59643</td>\n",
       "      <td>30000000</td>\n",
       "      <td>967000</td>\n",
       "      <td>TEKKEN</td>\n",
       "      <td>Jon Foo|Kelly Overton|Cary-Hiroyuki Tagawa|Ian...</td>\n",
       "      <td>NaN</td>\n",
       "      <td>Dwight H. Little</td>\n",
       "      <td>Survival is no game</td>\n",
       "      <td>...</td>\n",
       "      <td>In the year of 2039, after World Wars destroy ...</td>\n",
       "      <td>92</td>\n",
       "      <td>Crime|Drama|Action|Thriller|Science Fiction</td>\n",
       "      <td>Namco|Light Song Films</td>\n",
       "      <td>3/20/10</td>\n",
       "      <td>110</td>\n",
       "      <td>5.0</td>\n",
       "      <td>2010</td>\n",
       "      <td>30000000.0</td>\n",
       "      <td>967000.0</td>\n",
       "    </tr>\n",
       "  </tbody>\n",
       "</table>\n",
       "<p>1 rows × 21 columns</p>\n",
       "</div>"
      ],
      "text/plain": [
       "         id    imdb_id  popularity    budget  revenue original_title  \\\n",
       "2090  42194  tt0411951     0.59643  30000000   967000         TEKKEN   \n",
       "\n",
       "                                                   cast homepage  \\\n",
       "2090  Jon Foo|Kelly Overton|Cary-Hiroyuki Tagawa|Ian...      NaN   \n",
       "\n",
       "              director              tagline  ...  \\\n",
       "2090  Dwight H. Little  Survival is no game  ...   \n",
       "\n",
       "                                               overview runtime  \\\n",
       "2090  In the year of 2039, after World Wars destroy ...      92   \n",
       "\n",
       "                                           genres    production_companies  \\\n",
       "2090  Crime|Drama|Action|Thriller|Science Fiction  Namco|Light Song Films   \n",
       "\n",
       "     release_date vote_count  vote_average  release_year  budget_adj  \\\n",
       "2090      3/20/10        110           5.0          2010  30000000.0   \n",
       "\n",
       "      revenue_adj  \n",
       "2090     967000.0  \n",
       "\n",
       "[1 rows x 21 columns]"
      ]
     },
     "execution_count": 10,
     "metadata": {},
     "output_type": "execute_result"
    }
   ],
   "source": [
    "df_movies[df_movies.duplicated()]"
   ]
  },
  {
   "cell_type": "code",
   "execution_count": 11,
   "id": "5949098c",
   "metadata": {},
   "outputs": [
    {
     "data": {
      "text/plain": [
       "id                        int64\n",
       "imdb_id                  object\n",
       "popularity              float64\n",
       "budget                    int64\n",
       "revenue                   int64\n",
       "original_title           object\n",
       "cast                     object\n",
       "homepage                 object\n",
       "director                 object\n",
       "tagline                  object\n",
       "keywords                 object\n",
       "overview                 object\n",
       "runtime                   int64\n",
       "genres                   object\n",
       "production_companies     object\n",
       "release_date             object\n",
       "vote_count                int64\n",
       "vote_average            float64\n",
       "release_year              int64\n",
       "budget_adj              float64\n",
       "revenue_adj             float64\n",
       "dtype: object"
      ]
     },
     "execution_count": 11,
     "metadata": {},
     "output_type": "execute_result"
    }
   ],
   "source": [
    "df_movies.dtypes"
   ]
  },
  {
   "cell_type": "markdown",
   "id": "116e68a0",
   "metadata": {},
   "source": [
    "we  need to correct datatype of release date\n"
   ]
  },
  {
   "cell_type": "markdown",
   "id": "34f0f793",
   "metadata": {},
   "source": [
    "check if there are any incorrect values but we'd check statistics info first"
   ]
  },
  {
   "cell_type": "code",
   "execution_count": 12,
   "id": "597a561a",
   "metadata": {},
   "outputs": [
    {
     "data": {
      "text/html": [
       "<div>\n",
       "<style scoped>\n",
       "    .dataframe tbody tr th:only-of-type {\n",
       "        vertical-align: middle;\n",
       "    }\n",
       "\n",
       "    .dataframe tbody tr th {\n",
       "        vertical-align: top;\n",
       "    }\n",
       "\n",
       "    .dataframe thead th {\n",
       "        text-align: right;\n",
       "    }\n",
       "</style>\n",
       "<table border=\"1\" class=\"dataframe\">\n",
       "  <thead>\n",
       "    <tr style=\"text-align: right;\">\n",
       "      <th></th>\n",
       "      <th>id</th>\n",
       "      <th>popularity</th>\n",
       "      <th>budget</th>\n",
       "      <th>revenue</th>\n",
       "      <th>runtime</th>\n",
       "      <th>vote_count</th>\n",
       "      <th>vote_average</th>\n",
       "      <th>release_year</th>\n",
       "      <th>budget_adj</th>\n",
       "      <th>revenue_adj</th>\n",
       "    </tr>\n",
       "  </thead>\n",
       "  <tbody>\n",
       "    <tr>\n",
       "      <th>count</th>\n",
       "      <td>10866.000000</td>\n",
       "      <td>10866.000000</td>\n",
       "      <td>1.086600e+04</td>\n",
       "      <td>1.086600e+04</td>\n",
       "      <td>10866.000000</td>\n",
       "      <td>10866.000000</td>\n",
       "      <td>10866.000000</td>\n",
       "      <td>10866.000000</td>\n",
       "      <td>1.086600e+04</td>\n",
       "      <td>1.086600e+04</td>\n",
       "    </tr>\n",
       "    <tr>\n",
       "      <th>mean</th>\n",
       "      <td>66064.177434</td>\n",
       "      <td>0.646441</td>\n",
       "      <td>1.462570e+07</td>\n",
       "      <td>3.982332e+07</td>\n",
       "      <td>102.070863</td>\n",
       "      <td>217.389748</td>\n",
       "      <td>5.974922</td>\n",
       "      <td>2001.322658</td>\n",
       "      <td>1.755104e+07</td>\n",
       "      <td>5.136436e+07</td>\n",
       "    </tr>\n",
       "    <tr>\n",
       "      <th>std</th>\n",
       "      <td>92130.136561</td>\n",
       "      <td>1.000185</td>\n",
       "      <td>3.091321e+07</td>\n",
       "      <td>1.170035e+08</td>\n",
       "      <td>31.381405</td>\n",
       "      <td>575.619058</td>\n",
       "      <td>0.935142</td>\n",
       "      <td>12.812941</td>\n",
       "      <td>3.430616e+07</td>\n",
       "      <td>1.446325e+08</td>\n",
       "    </tr>\n",
       "    <tr>\n",
       "      <th>min</th>\n",
       "      <td>5.000000</td>\n",
       "      <td>0.000065</td>\n",
       "      <td>0.000000e+00</td>\n",
       "      <td>0.000000e+00</td>\n",
       "      <td>0.000000</td>\n",
       "      <td>10.000000</td>\n",
       "      <td>1.500000</td>\n",
       "      <td>1960.000000</td>\n",
       "      <td>0.000000e+00</td>\n",
       "      <td>0.000000e+00</td>\n",
       "    </tr>\n",
       "    <tr>\n",
       "      <th>25%</th>\n",
       "      <td>10596.250000</td>\n",
       "      <td>0.207583</td>\n",
       "      <td>0.000000e+00</td>\n",
       "      <td>0.000000e+00</td>\n",
       "      <td>90.000000</td>\n",
       "      <td>17.000000</td>\n",
       "      <td>5.400000</td>\n",
       "      <td>1995.000000</td>\n",
       "      <td>0.000000e+00</td>\n",
       "      <td>0.000000e+00</td>\n",
       "    </tr>\n",
       "    <tr>\n",
       "      <th>50%</th>\n",
       "      <td>20669.000000</td>\n",
       "      <td>0.383856</td>\n",
       "      <td>0.000000e+00</td>\n",
       "      <td>0.000000e+00</td>\n",
       "      <td>99.000000</td>\n",
       "      <td>38.000000</td>\n",
       "      <td>6.000000</td>\n",
       "      <td>2006.000000</td>\n",
       "      <td>0.000000e+00</td>\n",
       "      <td>0.000000e+00</td>\n",
       "    </tr>\n",
       "    <tr>\n",
       "      <th>75%</th>\n",
       "      <td>75610.000000</td>\n",
       "      <td>0.713817</td>\n",
       "      <td>1.500000e+07</td>\n",
       "      <td>2.400000e+07</td>\n",
       "      <td>111.000000</td>\n",
       "      <td>145.750000</td>\n",
       "      <td>6.600000</td>\n",
       "      <td>2011.000000</td>\n",
       "      <td>2.085325e+07</td>\n",
       "      <td>3.369710e+07</td>\n",
       "    </tr>\n",
       "    <tr>\n",
       "      <th>max</th>\n",
       "      <td>417859.000000</td>\n",
       "      <td>32.985763</td>\n",
       "      <td>4.250000e+08</td>\n",
       "      <td>2.781506e+09</td>\n",
       "      <td>900.000000</td>\n",
       "      <td>9767.000000</td>\n",
       "      <td>9.200000</td>\n",
       "      <td>2015.000000</td>\n",
       "      <td>4.250000e+08</td>\n",
       "      <td>2.827124e+09</td>\n",
       "    </tr>\n",
       "  </tbody>\n",
       "</table>\n",
       "</div>"
      ],
      "text/plain": [
       "                  id    popularity        budget       revenue       runtime  \\\n",
       "count   10866.000000  10866.000000  1.086600e+04  1.086600e+04  10866.000000   \n",
       "mean    66064.177434      0.646441  1.462570e+07  3.982332e+07    102.070863   \n",
       "std     92130.136561      1.000185  3.091321e+07  1.170035e+08     31.381405   \n",
       "min         5.000000      0.000065  0.000000e+00  0.000000e+00      0.000000   \n",
       "25%     10596.250000      0.207583  0.000000e+00  0.000000e+00     90.000000   \n",
       "50%     20669.000000      0.383856  0.000000e+00  0.000000e+00     99.000000   \n",
       "75%     75610.000000      0.713817  1.500000e+07  2.400000e+07    111.000000   \n",
       "max    417859.000000     32.985763  4.250000e+08  2.781506e+09    900.000000   \n",
       "\n",
       "         vote_count  vote_average  release_year    budget_adj   revenue_adj  \n",
       "count  10866.000000  10866.000000  10866.000000  1.086600e+04  1.086600e+04  \n",
       "mean     217.389748      5.974922   2001.322658  1.755104e+07  5.136436e+07  \n",
       "std      575.619058      0.935142     12.812941  3.430616e+07  1.446325e+08  \n",
       "min       10.000000      1.500000   1960.000000  0.000000e+00  0.000000e+00  \n",
       "25%       17.000000      5.400000   1995.000000  0.000000e+00  0.000000e+00  \n",
       "50%       38.000000      6.000000   2006.000000  0.000000e+00  0.000000e+00  \n",
       "75%      145.750000      6.600000   2011.000000  2.085325e+07  3.369710e+07  \n",
       "max     9767.000000      9.200000   2015.000000  4.250000e+08  2.827124e+09  "
      ]
     },
     "execution_count": 12,
     "metadata": {},
     "output_type": "execute_result"
    }
   ],
   "source": [
    "df_movies.describe()"
   ]
  },
  {
   "cell_type": "markdown",
   "id": "c6d15b1b",
   "metadata": {},
   "source": [
    "it shows there are zero values for budget,revenue and runtime "
   ]
  },
  {
   "cell_type": "markdown",
   "id": "ece7ee93",
   "metadata": {},
   "source": [
    "## issues to be cleaned \n",
    " QUALITY ISSUES \n",
    "\n",
    "drop unnecessary columns\n",
    "\n",
    "missing numbers in about 9 columns\n",
    "\n",
    "There are duplicated dataset\n",
    "\n",
    "incorrect datatype in 'release_date'\n",
    "\n",
    "incorrect values in budget and revenue columns\n",
    "\n",
    "TIDINESS \n",
    "\n",
    "create new columns\n",
    "\n",
    "\n",
    "\n",
    "\n"
   ]
  },
  {
   "cell_type": "markdown",
   "id": "a58b649d",
   "metadata": {},
   "source": [
    "# cleaning section \n",
    "define"
   ]
  },
  {
   "cell_type": "markdown",
   "id": "78ff5ff7",
   "metadata": {},
   "source": [
    "we need to correct datatype of release date"
   ]
  },
  {
   "cell_type": "markdown",
   "id": "c1f5e2f8",
   "metadata": {},
   "source": [
    "code"
   ]
  },
  {
   "cell_type": "code",
   "execution_count": 13,
   "id": "66f43100",
   "metadata": {},
   "outputs": [],
   "source": [
    "df_movies['release_date']=pd.to_datetime(df_movies['release_date'])"
   ]
  },
  {
   "cell_type": "markdown",
   "id": "e98a2e84",
   "metadata": {},
   "source": [
    "test\n",
    "\n",
    "verify the datatypes"
   ]
  },
  {
   "cell_type": "code",
   "execution_count": 14,
   "id": "851df2b3",
   "metadata": {
    "scrolled": true
   },
   "outputs": [
    {
     "data": {
      "text/plain": [
       "id                               int64\n",
       "imdb_id                         object\n",
       "popularity                     float64\n",
       "budget                           int64\n",
       "revenue                          int64\n",
       "original_title                  object\n",
       "cast                            object\n",
       "homepage                        object\n",
       "director                        object\n",
       "tagline                         object\n",
       "keywords                        object\n",
       "overview                        object\n",
       "runtime                          int64\n",
       "genres                          object\n",
       "production_companies            object\n",
       "release_date            datetime64[ns]\n",
       "vote_count                       int64\n",
       "vote_average                   float64\n",
       "release_year                     int64\n",
       "budget_adj                     float64\n",
       "revenue_adj                    float64\n",
       "dtype: object"
      ]
     },
     "execution_count": 14,
     "metadata": {},
     "output_type": "execute_result"
    }
   ],
   "source": [
    "df_movies.dtypes"
   ]
  },
  {
   "cell_type": "markdown",
   "id": "612302b2",
   "metadata": {},
   "source": [
    "further vverification to check the release_date column "
   ]
  },
  {
   "cell_type": "code",
   "execution_count": 15,
   "id": "9e40f7f4",
   "metadata": {},
   "outputs": [
    {
     "data": {
      "text/html": [
       "<div>\n",
       "<style scoped>\n",
       "    .dataframe tbody tr th:only-of-type {\n",
       "        vertical-align: middle;\n",
       "    }\n",
       "\n",
       "    .dataframe tbody tr th {\n",
       "        vertical-align: top;\n",
       "    }\n",
       "\n",
       "    .dataframe thead th {\n",
       "        text-align: right;\n",
       "    }\n",
       "</style>\n",
       "<table border=\"1\" class=\"dataframe\">\n",
       "  <thead>\n",
       "    <tr style=\"text-align: right;\">\n",
       "      <th></th>\n",
       "      <th>id</th>\n",
       "      <th>imdb_id</th>\n",
       "      <th>popularity</th>\n",
       "      <th>budget</th>\n",
       "      <th>revenue</th>\n",
       "      <th>original_title</th>\n",
       "      <th>cast</th>\n",
       "      <th>homepage</th>\n",
       "      <th>director</th>\n",
       "      <th>tagline</th>\n",
       "      <th>...</th>\n",
       "      <th>overview</th>\n",
       "      <th>runtime</th>\n",
       "      <th>genres</th>\n",
       "      <th>production_companies</th>\n",
       "      <th>release_date</th>\n",
       "      <th>vote_count</th>\n",
       "      <th>vote_average</th>\n",
       "      <th>release_year</th>\n",
       "      <th>budget_adj</th>\n",
       "      <th>revenue_adj</th>\n",
       "    </tr>\n",
       "  </thead>\n",
       "  <tbody>\n",
       "    <tr>\n",
       "      <th>0</th>\n",
       "      <td>135397</td>\n",
       "      <td>tt0369610</td>\n",
       "      <td>32.985763</td>\n",
       "      <td>150000000</td>\n",
       "      <td>1513528810</td>\n",
       "      <td>Jurassic World</td>\n",
       "      <td>Chris Pratt|Bryce Dallas Howard|Irrfan Khan|Vi...</td>\n",
       "      <td>http://www.jurassicworld.com/</td>\n",
       "      <td>Colin Trevorrow</td>\n",
       "      <td>The park is open.</td>\n",
       "      <td>...</td>\n",
       "      <td>Twenty-two years after the events of Jurassic ...</td>\n",
       "      <td>124</td>\n",
       "      <td>Action|Adventure|Science Fiction|Thriller</td>\n",
       "      <td>Universal Studios|Amblin Entertainment|Legenda...</td>\n",
       "      <td>2015-06-09</td>\n",
       "      <td>5562</td>\n",
       "      <td>6.5</td>\n",
       "      <td>2015</td>\n",
       "      <td>1.379999e+08</td>\n",
       "      <td>1.392446e+09</td>\n",
       "    </tr>\n",
       "    <tr>\n",
       "      <th>1</th>\n",
       "      <td>76341</td>\n",
       "      <td>tt1392190</td>\n",
       "      <td>28.419936</td>\n",
       "      <td>150000000</td>\n",
       "      <td>378436354</td>\n",
       "      <td>Mad Max: Fury Road</td>\n",
       "      <td>Tom Hardy|Charlize Theron|Hugh Keays-Byrne|Nic...</td>\n",
       "      <td>http://www.madmaxmovie.com/</td>\n",
       "      <td>George Miller</td>\n",
       "      <td>What a Lovely Day.</td>\n",
       "      <td>...</td>\n",
       "      <td>An apocalyptic story set in the furthest reach...</td>\n",
       "      <td>120</td>\n",
       "      <td>Action|Adventure|Science Fiction|Thriller</td>\n",
       "      <td>Village Roadshow Pictures|Kennedy Miller Produ...</td>\n",
       "      <td>2015-05-13</td>\n",
       "      <td>6185</td>\n",
       "      <td>7.1</td>\n",
       "      <td>2015</td>\n",
       "      <td>1.379999e+08</td>\n",
       "      <td>3.481613e+08</td>\n",
       "    </tr>\n",
       "    <tr>\n",
       "      <th>2</th>\n",
       "      <td>262500</td>\n",
       "      <td>tt2908446</td>\n",
       "      <td>13.112507</td>\n",
       "      <td>110000000</td>\n",
       "      <td>295238201</td>\n",
       "      <td>Insurgent</td>\n",
       "      <td>Shailene Woodley|Theo James|Kate Winslet|Ansel...</td>\n",
       "      <td>http://www.thedivergentseries.movie/#insurgent</td>\n",
       "      <td>Robert Schwentke</td>\n",
       "      <td>One Choice Can Destroy You</td>\n",
       "      <td>...</td>\n",
       "      <td>Beatrice Prior must confront her inner demons ...</td>\n",
       "      <td>119</td>\n",
       "      <td>Adventure|Science Fiction|Thriller</td>\n",
       "      <td>Summit Entertainment|Mandeville Films|Red Wago...</td>\n",
       "      <td>2015-03-18</td>\n",
       "      <td>2480</td>\n",
       "      <td>6.3</td>\n",
       "      <td>2015</td>\n",
       "      <td>1.012000e+08</td>\n",
       "      <td>2.716190e+08</td>\n",
       "    </tr>\n",
       "    <tr>\n",
       "      <th>3</th>\n",
       "      <td>140607</td>\n",
       "      <td>tt2488496</td>\n",
       "      <td>11.173104</td>\n",
       "      <td>200000000</td>\n",
       "      <td>2068178225</td>\n",
       "      <td>Star Wars: The Force Awakens</td>\n",
       "      <td>Harrison Ford|Mark Hamill|Carrie Fisher|Adam D...</td>\n",
       "      <td>http://www.starwars.com/films/star-wars-episod...</td>\n",
       "      <td>J.J. Abrams</td>\n",
       "      <td>Every generation has a story.</td>\n",
       "      <td>...</td>\n",
       "      <td>Thirty years after defeating the Galactic Empi...</td>\n",
       "      <td>136</td>\n",
       "      <td>Action|Adventure|Science Fiction|Fantasy</td>\n",
       "      <td>Lucasfilm|Truenorth Productions|Bad Robot</td>\n",
       "      <td>2015-12-15</td>\n",
       "      <td>5292</td>\n",
       "      <td>7.5</td>\n",
       "      <td>2015</td>\n",
       "      <td>1.839999e+08</td>\n",
       "      <td>1.902723e+09</td>\n",
       "    </tr>\n",
       "    <tr>\n",
       "      <th>4</th>\n",
       "      <td>168259</td>\n",
       "      <td>tt2820852</td>\n",
       "      <td>9.335014</td>\n",
       "      <td>190000000</td>\n",
       "      <td>1506249360</td>\n",
       "      <td>Furious 7</td>\n",
       "      <td>Vin Diesel|Paul Walker|Jason Statham|Michelle ...</td>\n",
       "      <td>http://www.furious7.com/</td>\n",
       "      <td>James Wan</td>\n",
       "      <td>Vengeance Hits Home</td>\n",
       "      <td>...</td>\n",
       "      <td>Deckard Shaw seeks revenge against Dominic Tor...</td>\n",
       "      <td>137</td>\n",
       "      <td>Action|Crime|Thriller</td>\n",
       "      <td>Universal Pictures|Original Film|Media Rights ...</td>\n",
       "      <td>2015-04-01</td>\n",
       "      <td>2947</td>\n",
       "      <td>7.3</td>\n",
       "      <td>2015</td>\n",
       "      <td>1.747999e+08</td>\n",
       "      <td>1.385749e+09</td>\n",
       "    </tr>\n",
       "  </tbody>\n",
       "</table>\n",
       "<p>5 rows × 21 columns</p>\n",
       "</div>"
      ],
      "text/plain": [
       "       id    imdb_id  popularity     budget     revenue  \\\n",
       "0  135397  tt0369610   32.985763  150000000  1513528810   \n",
       "1   76341  tt1392190   28.419936  150000000   378436354   \n",
       "2  262500  tt2908446   13.112507  110000000   295238201   \n",
       "3  140607  tt2488496   11.173104  200000000  2068178225   \n",
       "4  168259  tt2820852    9.335014  190000000  1506249360   \n",
       "\n",
       "                 original_title  \\\n",
       "0                Jurassic World   \n",
       "1            Mad Max: Fury Road   \n",
       "2                     Insurgent   \n",
       "3  Star Wars: The Force Awakens   \n",
       "4                     Furious 7   \n",
       "\n",
       "                                                cast  \\\n",
       "0  Chris Pratt|Bryce Dallas Howard|Irrfan Khan|Vi...   \n",
       "1  Tom Hardy|Charlize Theron|Hugh Keays-Byrne|Nic...   \n",
       "2  Shailene Woodley|Theo James|Kate Winslet|Ansel...   \n",
       "3  Harrison Ford|Mark Hamill|Carrie Fisher|Adam D...   \n",
       "4  Vin Diesel|Paul Walker|Jason Statham|Michelle ...   \n",
       "\n",
       "                                            homepage          director  \\\n",
       "0                      http://www.jurassicworld.com/   Colin Trevorrow   \n",
       "1                        http://www.madmaxmovie.com/     George Miller   \n",
       "2     http://www.thedivergentseries.movie/#insurgent  Robert Schwentke   \n",
       "3  http://www.starwars.com/films/star-wars-episod...       J.J. Abrams   \n",
       "4                           http://www.furious7.com/         James Wan   \n",
       "\n",
       "                         tagline  ...  \\\n",
       "0              The park is open.  ...   \n",
       "1             What a Lovely Day.  ...   \n",
       "2     One Choice Can Destroy You  ...   \n",
       "3  Every generation has a story.  ...   \n",
       "4            Vengeance Hits Home  ...   \n",
       "\n",
       "                                            overview runtime  \\\n",
       "0  Twenty-two years after the events of Jurassic ...     124   \n",
       "1  An apocalyptic story set in the furthest reach...     120   \n",
       "2  Beatrice Prior must confront her inner demons ...     119   \n",
       "3  Thirty years after defeating the Galactic Empi...     136   \n",
       "4  Deckard Shaw seeks revenge against Dominic Tor...     137   \n",
       "\n",
       "                                      genres  \\\n",
       "0  Action|Adventure|Science Fiction|Thriller   \n",
       "1  Action|Adventure|Science Fiction|Thriller   \n",
       "2         Adventure|Science Fiction|Thriller   \n",
       "3   Action|Adventure|Science Fiction|Fantasy   \n",
       "4                      Action|Crime|Thriller   \n",
       "\n",
       "                                production_companies release_date vote_count  \\\n",
       "0  Universal Studios|Amblin Entertainment|Legenda...   2015-06-09       5562   \n",
       "1  Village Roadshow Pictures|Kennedy Miller Produ...   2015-05-13       6185   \n",
       "2  Summit Entertainment|Mandeville Films|Red Wago...   2015-03-18       2480   \n",
       "3          Lucasfilm|Truenorth Productions|Bad Robot   2015-12-15       5292   \n",
       "4  Universal Pictures|Original Film|Media Rights ...   2015-04-01       2947   \n",
       "\n",
       "   vote_average  release_year    budget_adj   revenue_adj  \n",
       "0           6.5          2015  1.379999e+08  1.392446e+09  \n",
       "1           7.1          2015  1.379999e+08  3.481613e+08  \n",
       "2           6.3          2015  1.012000e+08  2.716190e+08  \n",
       "3           7.5          2015  1.839999e+08  1.902723e+09  \n",
       "4           7.3          2015  1.747999e+08  1.385749e+09  \n",
       "\n",
       "[5 rows x 21 columns]"
      ]
     },
     "execution_count": 15,
     "metadata": {},
     "output_type": "execute_result"
    }
   ],
   "source": [
    "df_movies.head()"
   ]
  },
  {
   "cell_type": "code",
   "execution_count": 16,
   "id": "33b3da1a",
   "metadata": {},
   "outputs": [
    {
     "name": "stdout",
     "output_type": "stream",
     "text": [
      "<class 'pandas.core.frame.DataFrame'>\n",
      "RangeIndex: 10866 entries, 0 to 10865\n",
      "Data columns (total 21 columns):\n",
      " #   Column                Non-Null Count  Dtype         \n",
      "---  ------                --------------  -----         \n",
      " 0   id                    10866 non-null  int64         \n",
      " 1   imdb_id               10856 non-null  object        \n",
      " 2   popularity            10866 non-null  float64       \n",
      " 3   budget                10866 non-null  int64         \n",
      " 4   revenue               10866 non-null  int64         \n",
      " 5   original_title        10866 non-null  object        \n",
      " 6   cast                  10790 non-null  object        \n",
      " 7   homepage              2936 non-null   object        \n",
      " 8   director              10822 non-null  object        \n",
      " 9   tagline               8042 non-null   object        \n",
      " 10  keywords              9373 non-null   object        \n",
      " 11  overview              10862 non-null  object        \n",
      " 12  runtime               10866 non-null  int64         \n",
      " 13  genres                10843 non-null  object        \n",
      " 14  production_companies  9836 non-null   object        \n",
      " 15  release_date          10866 non-null  datetime64[ns]\n",
      " 16  vote_count            10866 non-null  int64         \n",
      " 17  vote_average          10866 non-null  float64       \n",
      " 18  release_year          10866 non-null  int64         \n",
      " 19  budget_adj            10866 non-null  float64       \n",
      " 20  revenue_adj           10866 non-null  float64       \n",
      "dtypes: datetime64[ns](1), float64(4), int64(6), object(10)\n",
      "memory usage: 1.7+ MB\n"
     ]
    }
   ],
   "source": [
    "df_movies.info()"
   ]
  },
  {
   "cell_type": "markdown",
   "id": "937e6003",
   "metadata": {},
   "source": [
    "define\n",
    "\n",
    "drop uunnecessary columns "
   ]
  },
  {
   "cell_type": "markdown",
   "id": "81b258ab",
   "metadata": {},
   "source": [
    "code \n"
   ]
  },
  {
   "cell_type": "code",
   "execution_count": 17,
   "id": "0d194084",
   "metadata": {},
   "outputs": [],
   "source": [
    "df_movies.drop(['id','imdb_id','homepage','tagline','keywords','overview','vote_average','budget_adj'\n",
    "               ,'revenue_adj'],axis=1,inplace=True )"
   ]
  },
  {
   "cell_type": "markdown",
   "id": "208fe330",
   "metadata": {},
   "source": [
    "test"
   ]
  },
  {
   "cell_type": "code",
   "execution_count": 18,
   "id": "ca7c9ed2",
   "metadata": {},
   "outputs": [
    {
     "data": {
      "text/html": [
       "<div>\n",
       "<style scoped>\n",
       "    .dataframe tbody tr th:only-of-type {\n",
       "        vertical-align: middle;\n",
       "    }\n",
       "\n",
       "    .dataframe tbody tr th {\n",
       "        vertical-align: top;\n",
       "    }\n",
       "\n",
       "    .dataframe thead th {\n",
       "        text-align: right;\n",
       "    }\n",
       "</style>\n",
       "<table border=\"1\" class=\"dataframe\">\n",
       "  <thead>\n",
       "    <tr style=\"text-align: right;\">\n",
       "      <th></th>\n",
       "      <th>popularity</th>\n",
       "      <th>budget</th>\n",
       "      <th>revenue</th>\n",
       "      <th>original_title</th>\n",
       "      <th>cast</th>\n",
       "      <th>director</th>\n",
       "      <th>runtime</th>\n",
       "      <th>genres</th>\n",
       "      <th>production_companies</th>\n",
       "      <th>release_date</th>\n",
       "      <th>vote_count</th>\n",
       "      <th>release_year</th>\n",
       "    </tr>\n",
       "  </thead>\n",
       "  <tbody>\n",
       "    <tr>\n",
       "      <th>9179</th>\n",
       "      <td>4.143585</td>\n",
       "      <td>40000000</td>\n",
       "      <td>211343479</td>\n",
       "      <td>The Little Mermaid</td>\n",
       "      <td>Jodi Benson|Christopher Daniel Barnes|Jason Ma...</td>\n",
       "      <td>Ron Clements|John Musker</td>\n",
       "      <td>83</td>\n",
       "      <td>Animation|Family</td>\n",
       "      <td>Walt Disney Pictures</td>\n",
       "      <td>1989-11-17</td>\n",
       "      <td>1042</td>\n",
       "      <td>1989</td>\n",
       "    </tr>\n",
       "    <tr>\n",
       "      <th>7708</th>\n",
       "      <td>0.216287</td>\n",
       "      <td>11000000</td>\n",
       "      <td>13196245</td>\n",
       "      <td>I Think I Love My Wife</td>\n",
       "      <td>Chris Rock|Kerry Washington|Gina Torres|Steve ...</td>\n",
       "      <td>Chris Rock</td>\n",
       "      <td>90</td>\n",
       "      <td>Comedy|Romance</td>\n",
       "      <td>Fox Searchlight Pictures</td>\n",
       "      <td>2007-03-16</td>\n",
       "      <td>22</td>\n",
       "      <td>2007</td>\n",
       "    </tr>\n",
       "    <tr>\n",
       "      <th>4376</th>\n",
       "      <td>2.990114</td>\n",
       "      <td>50000000</td>\n",
       "      <td>549368315</td>\n",
       "      <td>Ted</td>\n",
       "      <td>Mark Wahlberg|Mila Kunis|Seth MacFarlane|Joel ...</td>\n",
       "      <td>Seth MacFarlane</td>\n",
       "      <td>106</td>\n",
       "      <td>Comedy|Fantasy</td>\n",
       "      <td>Universal Pictures|Media Rights Capital|Fuzzy ...</td>\n",
       "      <td>2012-06-29</td>\n",
       "      <td>3199</td>\n",
       "      <td>2012</td>\n",
       "    </tr>\n",
       "  </tbody>\n",
       "</table>\n",
       "</div>"
      ],
      "text/plain": [
       "      popularity    budget    revenue          original_title  \\\n",
       "9179    4.143585  40000000  211343479      The Little Mermaid   \n",
       "7708    0.216287  11000000   13196245  I Think I Love My Wife   \n",
       "4376    2.990114  50000000  549368315                     Ted   \n",
       "\n",
       "                                                   cast  \\\n",
       "9179  Jodi Benson|Christopher Daniel Barnes|Jason Ma...   \n",
       "7708  Chris Rock|Kerry Washington|Gina Torres|Steve ...   \n",
       "4376  Mark Wahlberg|Mila Kunis|Seth MacFarlane|Joel ...   \n",
       "\n",
       "                      director  runtime            genres  \\\n",
       "9179  Ron Clements|John Musker       83  Animation|Family   \n",
       "7708                Chris Rock       90    Comedy|Romance   \n",
       "4376           Seth MacFarlane      106    Comedy|Fantasy   \n",
       "\n",
       "                                   production_companies release_date  \\\n",
       "9179                               Walt Disney Pictures   1989-11-17   \n",
       "7708                           Fox Searchlight Pictures   2007-03-16   \n",
       "4376  Universal Pictures|Media Rights Capital|Fuzzy ...   2012-06-29   \n",
       "\n",
       "      vote_count  release_year  \n",
       "9179        1042          1989  \n",
       "7708          22          2007  \n",
       "4376        3199          2012  "
      ]
     },
     "execution_count": 18,
     "metadata": {},
     "output_type": "execute_result"
    }
   ],
   "source": [
    "df_movies.sample(3)"
   ]
  },
  {
   "cell_type": "code",
   "execution_count": 19,
   "id": "f13e45c7",
   "metadata": {},
   "outputs": [
    {
     "name": "stdout",
     "output_type": "stream",
     "text": [
      "<class 'pandas.core.frame.DataFrame'>\n",
      "RangeIndex: 10866 entries, 0 to 10865\n",
      "Data columns (total 12 columns):\n",
      " #   Column                Non-Null Count  Dtype         \n",
      "---  ------                --------------  -----         \n",
      " 0   popularity            10866 non-null  float64       \n",
      " 1   budget                10866 non-null  int64         \n",
      " 2   revenue               10866 non-null  int64         \n",
      " 3   original_title        10866 non-null  object        \n",
      " 4   cast                  10790 non-null  object        \n",
      " 5   director              10822 non-null  object        \n",
      " 6   runtime               10866 non-null  int64         \n",
      " 7   genres                10843 non-null  object        \n",
      " 8   production_companies  9836 non-null   object        \n",
      " 9   release_date          10866 non-null  datetime64[ns]\n",
      " 10  vote_count            10866 non-null  int64         \n",
      " 11  release_year          10866 non-null  int64         \n",
      "dtypes: datetime64[ns](1), float64(1), int64(5), object(5)\n",
      "memory usage: 1018.8+ KB\n"
     ]
    }
   ],
   "source": [
    "df_movies.info()"
   ]
  },
  {
   "cell_type": "markdown",
   "id": "f1da7db5",
   "metadata": {},
   "source": [
    "define\n",
    "\n",
    "to correct missing numbers"
   ]
  },
  {
   "cell_type": "markdown",
   "id": "b1c2e222",
   "metadata": {},
   "source": [
    "code"
   ]
  },
  {
   "cell_type": "code",
   "execution_count": 20,
   "id": "72b84403",
   "metadata": {},
   "outputs": [
    {
     "data": {
      "text/plain": [
       "popularity                 0\n",
       "budget                     0\n",
       "revenue                    0\n",
       "original_title             0\n",
       "cast                      76\n",
       "director                  44\n",
       "runtime                    0\n",
       "genres                    23\n",
       "production_companies    1030\n",
       "release_date               0\n",
       "vote_count                 0\n",
       "release_year               0\n",
       "dtype: int64"
      ]
     },
     "execution_count": 20,
     "metadata": {},
     "output_type": "execute_result"
    }
   ],
   "source": [
    "df_movies.isnull().sum()"
   ]
  },
  {
   "cell_type": "code",
   "execution_count": 21,
   "id": "42835272",
   "metadata": {},
   "outputs": [
    {
     "data": {
      "text/plain": [
       "1093"
      ]
     },
     "execution_count": 21,
     "metadata": {},
     "output_type": "execute_result"
    }
   ],
   "source": [
    "df_movies.isnull().any(axis=1).sum()"
   ]
  },
  {
   "cell_type": "code",
   "execution_count": 22,
   "id": "e739c7c5",
   "metadata": {},
   "outputs": [],
   "source": [
    "df_movies.dropna(inplace=True)"
   ]
  },
  {
   "cell_type": "markdown",
   "id": "64d08231",
   "metadata": {},
   "source": [
    "Test\n",
    "to verify if missing numbers have been dropped "
   ]
  },
  {
   "cell_type": "code",
   "execution_count": 23,
   "id": "23ccb103",
   "metadata": {},
   "outputs": [
    {
     "data": {
      "text/plain": [
       "0"
      ]
     },
     "execution_count": 23,
     "metadata": {},
     "output_type": "execute_result"
    }
   ],
   "source": [
    "df_movies.isnull().any(axis=1).sum()"
   ]
  },
  {
   "cell_type": "code",
   "execution_count": 24,
   "id": "715b8969",
   "metadata": {},
   "outputs": [
    {
     "name": "stdout",
     "output_type": "stream",
     "text": [
      "<class 'pandas.core.frame.DataFrame'>\n",
      "Int64Index: 9773 entries, 0 to 10865\n",
      "Data columns (total 12 columns):\n",
      " #   Column                Non-Null Count  Dtype         \n",
      "---  ------                --------------  -----         \n",
      " 0   popularity            9773 non-null   float64       \n",
      " 1   budget                9773 non-null   int64         \n",
      " 2   revenue               9773 non-null   int64         \n",
      " 3   original_title        9773 non-null   object        \n",
      " 4   cast                  9773 non-null   object        \n",
      " 5   director              9773 non-null   object        \n",
      " 6   runtime               9773 non-null   int64         \n",
      " 7   genres                9773 non-null   object        \n",
      " 8   production_companies  9773 non-null   object        \n",
      " 9   release_date          9773 non-null   datetime64[ns]\n",
      " 10  vote_count            9773 non-null   int64         \n",
      " 11  release_year          9773 non-null   int64         \n",
      "dtypes: datetime64[ns](1), float64(1), int64(5), object(5)\n",
      "memory usage: 992.6+ KB\n"
     ]
    }
   ],
   "source": [
    "df_movies.info()"
   ]
  },
  {
   "cell_type": "markdown",
   "id": "948cd071",
   "metadata": {},
   "source": [
    "define \n",
    "\n",
    "remove all duplicates"
   ]
  },
  {
   "cell_type": "markdown",
   "id": "551077a7",
   "metadata": {},
   "source": [
    "code"
   ]
  },
  {
   "cell_type": "code",
   "execution_count": 25,
   "id": "812776cb",
   "metadata": {},
   "outputs": [],
   "source": [
    "df_movies.drop_duplicates(inplace=True)"
   ]
  },
  {
   "cell_type": "markdown",
   "id": "23a5aa40",
   "metadata": {},
   "source": [
    "test"
   ]
  },
  {
   "cell_type": "code",
   "execution_count": 26,
   "id": "6de42d9a",
   "metadata": {},
   "outputs": [
    {
     "data": {
      "text/plain": [
       "0"
      ]
     },
     "execution_count": 26,
     "metadata": {},
     "output_type": "execute_result"
    }
   ],
   "source": [
    "df_movies.duplicated().sum()"
   ]
  },
  {
   "cell_type": "code",
   "execution_count": 27,
   "id": "7c9f1e40",
   "metadata": {},
   "outputs": [
    {
     "name": "stdout",
     "output_type": "stream",
     "text": [
      "<class 'pandas.core.frame.DataFrame'>\n",
      "Int64Index: 9772 entries, 0 to 10865\n",
      "Data columns (total 12 columns):\n",
      " #   Column                Non-Null Count  Dtype         \n",
      "---  ------                --------------  -----         \n",
      " 0   popularity            9772 non-null   float64       \n",
      " 1   budget                9772 non-null   int64         \n",
      " 2   revenue               9772 non-null   int64         \n",
      " 3   original_title        9772 non-null   object        \n",
      " 4   cast                  9772 non-null   object        \n",
      " 5   director              9772 non-null   object        \n",
      " 6   runtime               9772 non-null   int64         \n",
      " 7   genres                9772 non-null   object        \n",
      " 8   production_companies  9772 non-null   object        \n",
      " 9   release_date          9772 non-null   datetime64[ns]\n",
      " 10  vote_count            9772 non-null   int64         \n",
      " 11  release_year          9772 non-null   int64         \n",
      "dtypes: datetime64[ns](1), float64(1), int64(5), object(5)\n",
      "memory usage: 992.5+ KB\n"
     ]
    }
   ],
   "source": [
    "df_movies.info()"
   ]
  },
  {
   "cell_type": "code",
   "execution_count": 28,
   "id": "537a63b5",
   "metadata": {},
   "outputs": [
    {
     "data": {
      "text/plain": [
       "(9772, 12)"
      ]
     },
     "execution_count": 28,
     "metadata": {},
     "output_type": "execute_result"
    }
   ],
   "source": [
    "df_movies.shape"
   ]
  },
  {
   "cell_type": "markdown",
   "id": "5cc491a3",
   "metadata": {},
   "source": [
    "define\n",
    "\n",
    "incorrect values in budget and revenue column"
   ]
  },
  {
   "cell_type": "markdown",
   "id": "f28d4eab",
   "metadata": {},
   "source": [
    "code"
   ]
  },
  {
   "cell_type": "code",
   "execution_count": 29,
   "id": "116dc057",
   "metadata": {},
   "outputs": [],
   "source": [
    "columns=['budget','revenue']\n",
    "df_movies[columns]=df_movies[columns].replace(0,np.NaN)"
   ]
  },
  {
   "cell_type": "code",
   "execution_count": 30,
   "id": "b23851d3",
   "metadata": {},
   "outputs": [],
   "source": [
    "df_movies.dropna(subset=columns,inplace=True)"
   ]
  },
  {
   "cell_type": "markdown",
   "id": "ef7a268c",
   "metadata": {},
   "source": [
    "test"
   ]
  },
  {
   "cell_type": "code",
   "execution_count": 31,
   "id": "d5778433",
   "metadata": {},
   "outputs": [
    {
     "data": {
      "text/html": [
       "<div>\n",
       "<style scoped>\n",
       "    .dataframe tbody tr th:only-of-type {\n",
       "        vertical-align: middle;\n",
       "    }\n",
       "\n",
       "    .dataframe tbody tr th {\n",
       "        vertical-align: top;\n",
       "    }\n",
       "\n",
       "    .dataframe thead th {\n",
       "        text-align: right;\n",
       "    }\n",
       "</style>\n",
       "<table border=\"1\" class=\"dataframe\">\n",
       "  <thead>\n",
       "    <tr style=\"text-align: right;\">\n",
       "      <th></th>\n",
       "      <th>popularity</th>\n",
       "      <th>budget</th>\n",
       "      <th>revenue</th>\n",
       "      <th>runtime</th>\n",
       "      <th>vote_count</th>\n",
       "      <th>release_year</th>\n",
       "    </tr>\n",
       "  </thead>\n",
       "  <tbody>\n",
       "    <tr>\n",
       "      <th>count</th>\n",
       "      <td>3805.000000</td>\n",
       "      <td>3.805000e+03</td>\n",
       "      <td>3.805000e+03</td>\n",
       "      <td>3805.000000</td>\n",
       "      <td>3805.000000</td>\n",
       "      <td>3805.000000</td>\n",
       "    </tr>\n",
       "    <tr>\n",
       "      <th>mean</th>\n",
       "      <td>1.203784</td>\n",
       "      <td>3.760800e+07</td>\n",
       "      <td>1.089734e+08</td>\n",
       "      <td>109.351117</td>\n",
       "      <td>534.159001</td>\n",
       "      <td>2001.229172</td>\n",
       "    </tr>\n",
       "    <tr>\n",
       "      <th>std</th>\n",
       "      <td>1.480569</td>\n",
       "      <td>4.232179e+07</td>\n",
       "      <td>1.772976e+08</td>\n",
       "      <td>19.845678</td>\n",
       "      <td>883.757588</td>\n",
       "      <td>11.329616</td>\n",
       "    </tr>\n",
       "    <tr>\n",
       "      <th>min</th>\n",
       "      <td>0.010335</td>\n",
       "      <td>1.000000e+00</td>\n",
       "      <td>2.000000e+00</td>\n",
       "      <td>15.000000</td>\n",
       "      <td>10.000000</td>\n",
       "      <td>1960.000000</td>\n",
       "    </tr>\n",
       "    <tr>\n",
       "      <th>25%</th>\n",
       "      <td>0.470651</td>\n",
       "      <td>1.000000e+07</td>\n",
       "      <td>1.433379e+07</td>\n",
       "      <td>96.000000</td>\n",
       "      <td>74.000000</td>\n",
       "      <td>1995.000000</td>\n",
       "    </tr>\n",
       "    <tr>\n",
       "      <th>50%</th>\n",
       "      <td>0.810805</td>\n",
       "      <td>2.500000e+07</td>\n",
       "      <td>4.621664e+07</td>\n",
       "      <td>106.000000</td>\n",
       "      <td>209.000000</td>\n",
       "      <td>2004.000000</td>\n",
       "    </tr>\n",
       "    <tr>\n",
       "      <th>75%</th>\n",
       "      <td>1.387163</td>\n",
       "      <td>5.000000e+07</td>\n",
       "      <td>1.260695e+08</td>\n",
       "      <td>119.000000</td>\n",
       "      <td>584.000000</td>\n",
       "      <td>2010.000000</td>\n",
       "    </tr>\n",
       "    <tr>\n",
       "      <th>max</th>\n",
       "      <td>32.985763</td>\n",
       "      <td>4.250000e+08</td>\n",
       "      <td>2.781506e+09</td>\n",
       "      <td>338.000000</td>\n",
       "      <td>9767.000000</td>\n",
       "      <td>2015.000000</td>\n",
       "    </tr>\n",
       "  </tbody>\n",
       "</table>\n",
       "</div>"
      ],
      "text/plain": [
       "        popularity        budget       revenue      runtime   vote_count  \\\n",
       "count  3805.000000  3.805000e+03  3.805000e+03  3805.000000  3805.000000   \n",
       "mean      1.203784  3.760800e+07  1.089734e+08   109.351117   534.159001   \n",
       "std       1.480569  4.232179e+07  1.772976e+08    19.845678   883.757588   \n",
       "min       0.010335  1.000000e+00  2.000000e+00    15.000000    10.000000   \n",
       "25%       0.470651  1.000000e+07  1.433379e+07    96.000000    74.000000   \n",
       "50%       0.810805  2.500000e+07  4.621664e+07   106.000000   209.000000   \n",
       "75%       1.387163  5.000000e+07  1.260695e+08   119.000000   584.000000   \n",
       "max      32.985763  4.250000e+08  2.781506e+09   338.000000  9767.000000   \n",
       "\n",
       "       release_year  \n",
       "count   3805.000000  \n",
       "mean    2001.229172  \n",
       "std       11.329616  \n",
       "min     1960.000000  \n",
       "25%     1995.000000  \n",
       "50%     2004.000000  \n",
       "75%     2010.000000  \n",
       "max     2015.000000  "
      ]
     },
     "execution_count": 31,
     "metadata": {},
     "output_type": "execute_result"
    }
   ],
   "source": [
    "df_movies.describe()"
   ]
  },
  {
   "cell_type": "code",
   "execution_count": 32,
   "id": "69157da8",
   "metadata": {},
   "outputs": [
    {
     "data": {
      "text/plain": [
       "(3805, 12)"
      ]
     },
     "execution_count": 32,
     "metadata": {},
     "output_type": "execute_result"
    }
   ],
   "source": [
    "df_movies.shape"
   ]
  },
  {
   "cell_type": "code",
   "execution_count": 33,
   "id": "924f6328",
   "metadata": {},
   "outputs": [],
   "source": [
    "is_budget_zero = df_movies['budget'] == 0"
   ]
  },
  {
   "cell_type": "code",
   "execution_count": 34,
   "id": "7b99a7bb",
   "metadata": {},
   "outputs": [
    {
     "data": {
      "text/html": [
       "<div>\n",
       "<style scoped>\n",
       "    .dataframe tbody tr th:only-of-type {\n",
       "        vertical-align: middle;\n",
       "    }\n",
       "\n",
       "    .dataframe tbody tr th {\n",
       "        vertical-align: top;\n",
       "    }\n",
       "\n",
       "    .dataframe thead th {\n",
       "        text-align: right;\n",
       "    }\n",
       "</style>\n",
       "<table border=\"1\" class=\"dataframe\">\n",
       "  <thead>\n",
       "    <tr style=\"text-align: right;\">\n",
       "      <th></th>\n",
       "      <th>popularity</th>\n",
       "      <th>budget</th>\n",
       "      <th>revenue</th>\n",
       "      <th>original_title</th>\n",
       "      <th>cast</th>\n",
       "      <th>director</th>\n",
       "      <th>runtime</th>\n",
       "      <th>genres</th>\n",
       "      <th>production_companies</th>\n",
       "      <th>release_date</th>\n",
       "      <th>vote_count</th>\n",
       "      <th>release_year</th>\n",
       "    </tr>\n",
       "  </thead>\n",
       "  <tbody>\n",
       "  </tbody>\n",
       "</table>\n",
       "</div>"
      ],
      "text/plain": [
       "Empty DataFrame\n",
       "Columns: [popularity, budget, revenue, original_title, cast, director, runtime, genres, production_companies, release_date, vote_count, release_year]\n",
       "Index: []"
      ]
     },
     "execution_count": 34,
     "metadata": {},
     "output_type": "execute_result"
    }
   ],
   "source": [
    "df_movies[is_budget_zero]"
   ]
  },
  {
   "cell_type": "markdown",
   "id": "b98387bb",
   "metadata": {},
   "source": [
    "This shows that budget and revenue columns with zero values has been dropped "
   ]
  },
  {
   "cell_type": "markdown",
   "id": "df6d863b",
   "metadata": {},
   "source": [
    "# create a new column\n"
   ]
  },
  {
   "cell_type": "code",
   "execution_count": 35,
   "id": "611486af",
   "metadata": {},
   "outputs": [],
   "source": [
    "df_movies['profit']=df_movies['revenue']-df_movies['budget']\n"
   ]
  },
  {
   "cell_type": "code",
   "execution_count": 36,
   "id": "15afdb17",
   "metadata": {},
   "outputs": [
    {
     "name": "stdout",
     "output_type": "stream",
     "text": [
      "<class 'pandas.core.frame.DataFrame'>\n",
      "Int64Index: 3805 entries, 0 to 10848\n",
      "Data columns (total 13 columns):\n",
      " #   Column                Non-Null Count  Dtype         \n",
      "---  ------                --------------  -----         \n",
      " 0   popularity            3805 non-null   float64       \n",
      " 1   budget                3805 non-null   float64       \n",
      " 2   revenue               3805 non-null   float64       \n",
      " 3   original_title        3805 non-null   object        \n",
      " 4   cast                  3805 non-null   object        \n",
      " 5   director              3805 non-null   object        \n",
      " 6   runtime               3805 non-null   int64         \n",
      " 7   genres                3805 non-null   object        \n",
      " 8   production_companies  3805 non-null   object        \n",
      " 9   release_date          3805 non-null   datetime64[ns]\n",
      " 10  vote_count            3805 non-null   int64         \n",
      " 11  release_year          3805 non-null   int64         \n",
      " 12  profit                3805 non-null   float64       \n",
      "dtypes: datetime64[ns](1), float64(4), int64(3), object(5)\n",
      "memory usage: 416.2+ KB\n"
     ]
    }
   ],
   "source": [
    "df_movies.info()"
   ]
  },
  {
   "cell_type": "code",
   "execution_count": 37,
   "id": "c8838ebb",
   "metadata": {
    "scrolled": true
   },
   "outputs": [
    {
     "data": {
      "text/html": [
       "<div>\n",
       "<style scoped>\n",
       "    .dataframe tbody tr th:only-of-type {\n",
       "        vertical-align: middle;\n",
       "    }\n",
       "\n",
       "    .dataframe tbody tr th {\n",
       "        vertical-align: top;\n",
       "    }\n",
       "\n",
       "    .dataframe thead th {\n",
       "        text-align: right;\n",
       "    }\n",
       "</style>\n",
       "<table border=\"1\" class=\"dataframe\">\n",
       "  <thead>\n",
       "    <tr style=\"text-align: right;\">\n",
       "      <th></th>\n",
       "      <th>popularity</th>\n",
       "      <th>budget</th>\n",
       "      <th>revenue</th>\n",
       "      <th>runtime</th>\n",
       "      <th>vote_count</th>\n",
       "      <th>release_year</th>\n",
       "      <th>profit</th>\n",
       "    </tr>\n",
       "  </thead>\n",
       "  <tbody>\n",
       "    <tr>\n",
       "      <th>count</th>\n",
       "      <td>3805.000000</td>\n",
       "      <td>3.805000e+03</td>\n",
       "      <td>3.805000e+03</td>\n",
       "      <td>3805.000000</td>\n",
       "      <td>3805.000000</td>\n",
       "      <td>3805.000000</td>\n",
       "      <td>3.805000e+03</td>\n",
       "    </tr>\n",
       "    <tr>\n",
       "      <th>mean</th>\n",
       "      <td>1.203784</td>\n",
       "      <td>3.760800e+07</td>\n",
       "      <td>1.089734e+08</td>\n",
       "      <td>109.351117</td>\n",
       "      <td>534.159001</td>\n",
       "      <td>2001.229172</td>\n",
       "      <td>7.136540e+07</td>\n",
       "    </tr>\n",
       "    <tr>\n",
       "      <th>std</th>\n",
       "      <td>1.480569</td>\n",
       "      <td>4.232179e+07</td>\n",
       "      <td>1.772976e+08</td>\n",
       "      <td>19.845678</td>\n",
       "      <td>883.757588</td>\n",
       "      <td>11.329616</td>\n",
       "      <td>1.513764e+08</td>\n",
       "    </tr>\n",
       "    <tr>\n",
       "      <th>min</th>\n",
       "      <td>0.010335</td>\n",
       "      <td>1.000000e+00</td>\n",
       "      <td>2.000000e+00</td>\n",
       "      <td>15.000000</td>\n",
       "      <td>10.000000</td>\n",
       "      <td>1960.000000</td>\n",
       "      <td>-4.139124e+08</td>\n",
       "    </tr>\n",
       "    <tr>\n",
       "      <th>25%</th>\n",
       "      <td>0.470651</td>\n",
       "      <td>1.000000e+07</td>\n",
       "      <td>1.433379e+07</td>\n",
       "      <td>96.000000</td>\n",
       "      <td>74.000000</td>\n",
       "      <td>1995.000000</td>\n",
       "      <td>-1.173477e+06</td>\n",
       "    </tr>\n",
       "    <tr>\n",
       "      <th>50%</th>\n",
       "      <td>0.810805</td>\n",
       "      <td>2.500000e+07</td>\n",
       "      <td>4.621664e+07</td>\n",
       "      <td>106.000000</td>\n",
       "      <td>209.000000</td>\n",
       "      <td>2004.000000</td>\n",
       "      <td>2.047434e+07</td>\n",
       "    </tr>\n",
       "    <tr>\n",
       "      <th>75%</th>\n",
       "      <td>1.387163</td>\n",
       "      <td>5.000000e+07</td>\n",
       "      <td>1.260695e+08</td>\n",
       "      <td>119.000000</td>\n",
       "      <td>584.000000</td>\n",
       "      <td>2010.000000</td>\n",
       "      <td>8.347333e+07</td>\n",
       "    </tr>\n",
       "    <tr>\n",
       "      <th>max</th>\n",
       "      <td>32.985763</td>\n",
       "      <td>4.250000e+08</td>\n",
       "      <td>2.781506e+09</td>\n",
       "      <td>338.000000</td>\n",
       "      <td>9767.000000</td>\n",
       "      <td>2015.000000</td>\n",
       "      <td>2.544506e+09</td>\n",
       "    </tr>\n",
       "  </tbody>\n",
       "</table>\n",
       "</div>"
      ],
      "text/plain": [
       "        popularity        budget       revenue      runtime   vote_count  \\\n",
       "count  3805.000000  3.805000e+03  3.805000e+03  3805.000000  3805.000000   \n",
       "mean      1.203784  3.760800e+07  1.089734e+08   109.351117   534.159001   \n",
       "std       1.480569  4.232179e+07  1.772976e+08    19.845678   883.757588   \n",
       "min       0.010335  1.000000e+00  2.000000e+00    15.000000    10.000000   \n",
       "25%       0.470651  1.000000e+07  1.433379e+07    96.000000    74.000000   \n",
       "50%       0.810805  2.500000e+07  4.621664e+07   106.000000   209.000000   \n",
       "75%       1.387163  5.000000e+07  1.260695e+08   119.000000   584.000000   \n",
       "max      32.985763  4.250000e+08  2.781506e+09   338.000000  9767.000000   \n",
       "\n",
       "       release_year        profit  \n",
       "count   3805.000000  3.805000e+03  \n",
       "mean    2001.229172  7.136540e+07  \n",
       "std       11.329616  1.513764e+08  \n",
       "min     1960.000000 -4.139124e+08  \n",
       "25%     1995.000000 -1.173477e+06  \n",
       "50%     2004.000000  2.047434e+07  \n",
       "75%     2010.000000  8.347333e+07  \n",
       "max     2015.000000  2.544506e+09  "
      ]
     },
     "execution_count": 37,
     "metadata": {},
     "output_type": "execute_result"
    }
   ],
   "source": [
    "df_movies.describe()"
   ]
  },
  {
   "cell_type": "markdown",
   "id": "28e8ec4d",
   "metadata": {},
   "source": [
    "This shows our dataset has been cleaned properly and ready for EDA and visualizations geared towards research questions that \n",
    "\n",
    "would be posed below"
   ]
  },
  {
   "cell_type": "markdown",
   "id": "5db36a1f",
   "metadata": {},
   "source": [
    "## Research questions \n",
    "\n",
    "1.Which genres are most popular from year to year?\n",
    "\n",
    "2.Movie with highest profit and lowest profit\n",
    "\n",
    "3.Movies with highest and low budget\n",
    "\n",
    "4.Movies with highest and low revenue\n",
    "\n",
    "5.Does the budget of a movie determine its profit\n",
    "\n",
    "6.Which year has the highest profit rate\n",
    "\n",
    "7.Movie with highest vote count\n",
    "\n",
    "8.Top 6 profitable movies\n",
    "\n",
    "9.Which Genre Has The Highest Release Of Movies?\n",
    "\n",
    "10.Most Frequent Actor?\n",
    "\n",
    "11.Top 20 Production Companies With Higher Number Of Release?\n",
    "\n",
    "12.Top 20 Director Who Directs Maximum Movies\n",
    "\n",
    "13.What kinds of properties are associated with movies that have high revenues?\n",
    "\n",
    "14. By what factor would revenue increase with an increase in profit\n",
    "\n",
    "\n",
    "15. By what factor would profit increase with an increase in popularity"
   ]
  },
  {
   "cell_type": "markdown",
   "id": "59e60530",
   "metadata": {},
   "source": [
    "## EDA (Exploratory data analysis)\n",
    "\n",
    "would be expLoring cleaned dataset and answering research questions posed above to provide more insights about the dataset in determining factors that increases success of a movie "
   ]
  },
  {
   "cell_type": "code",
   "execution_count": 38,
   "id": "bde54da2",
   "metadata": {},
   "outputs": [
    {
     "data": {
      "text/html": [
       "<div>\n",
       "<style scoped>\n",
       "    .dataframe tbody tr th:only-of-type {\n",
       "        vertical-align: middle;\n",
       "    }\n",
       "\n",
       "    .dataframe tbody tr th {\n",
       "        vertical-align: top;\n",
       "    }\n",
       "\n",
       "    .dataframe thead th {\n",
       "        text-align: right;\n",
       "    }\n",
       "</style>\n",
       "<table border=\"1\" class=\"dataframe\">\n",
       "  <thead>\n",
       "    <tr style=\"text-align: right;\">\n",
       "      <th></th>\n",
       "      <th>popularity</th>\n",
       "      <th>budget</th>\n",
       "      <th>revenue</th>\n",
       "      <th>runtime</th>\n",
       "      <th>vote_count</th>\n",
       "      <th>release_year</th>\n",
       "      <th>profit</th>\n",
       "    </tr>\n",
       "  </thead>\n",
       "  <tbody>\n",
       "    <tr>\n",
       "      <th>popularity</th>\n",
       "      <td>1.000000</td>\n",
       "      <td>0.443626</td>\n",
       "      <td>0.613793</td>\n",
       "      <td>0.213690</td>\n",
       "      <td>0.779125</td>\n",
       "      <td>0.175991</td>\n",
       "      <td>0.594868</td>\n",
       "    </tr>\n",
       "    <tr>\n",
       "      <th>budget</th>\n",
       "      <td>0.443626</td>\n",
       "      <td>1.000000</td>\n",
       "      <td>0.687059</td>\n",
       "      <td>0.259562</td>\n",
       "      <td>0.554689</td>\n",
       "      <td>0.271915</td>\n",
       "      <td>0.525128</td>\n",
       "    </tr>\n",
       "    <tr>\n",
       "      <th>revenue</th>\n",
       "      <td>0.613793</td>\n",
       "      <td>0.687059</td>\n",
       "      <td>1.000000</td>\n",
       "      <td>0.249178</td>\n",
       "      <td>0.753574</td>\n",
       "      <td>0.141317</td>\n",
       "      <td>0.979149</td>\n",
       "    </tr>\n",
       "    <tr>\n",
       "      <th>runtime</th>\n",
       "      <td>0.213690</td>\n",
       "      <td>0.259562</td>\n",
       "      <td>0.249178</td>\n",
       "      <td>1.000000</td>\n",
       "      <td>0.273464</td>\n",
       "      <td>-0.113488</td>\n",
       "      <td>0.219278</td>\n",
       "    </tr>\n",
       "    <tr>\n",
       "      <th>vote_count</th>\n",
       "      <td>0.779125</td>\n",
       "      <td>0.554689</td>\n",
       "      <td>0.753574</td>\n",
       "      <td>0.273464</td>\n",
       "      <td>1.000000</td>\n",
       "      <td>0.209688</td>\n",
       "      <td>0.727533</td>\n",
       "    </tr>\n",
       "    <tr>\n",
       "      <th>release_year</th>\n",
       "      <td>0.175991</td>\n",
       "      <td>0.271915</td>\n",
       "      <td>0.141317</td>\n",
       "      <td>-0.113488</td>\n",
       "      <td>0.209688</td>\n",
       "      <td>1.000000</td>\n",
       "      <td>0.089493</td>\n",
       "    </tr>\n",
       "    <tr>\n",
       "      <th>profit</th>\n",
       "      <td>0.594868</td>\n",
       "      <td>0.525128</td>\n",
       "      <td>0.979149</td>\n",
       "      <td>0.219278</td>\n",
       "      <td>0.727533</td>\n",
       "      <td>0.089493</td>\n",
       "      <td>1.000000</td>\n",
       "    </tr>\n",
       "  </tbody>\n",
       "</table>\n",
       "</div>"
      ],
      "text/plain": [
       "              popularity    budget   revenue   runtime  vote_count  \\\n",
       "popularity      1.000000  0.443626  0.613793  0.213690    0.779125   \n",
       "budget          0.443626  1.000000  0.687059  0.259562    0.554689   \n",
       "revenue         0.613793  0.687059  1.000000  0.249178    0.753574   \n",
       "runtime         0.213690  0.259562  0.249178  1.000000    0.273464   \n",
       "vote_count      0.779125  0.554689  0.753574  0.273464    1.000000   \n",
       "release_year    0.175991  0.271915  0.141317 -0.113488    0.209688   \n",
       "profit          0.594868  0.525128  0.979149  0.219278    0.727533   \n",
       "\n",
       "              release_year    profit  \n",
       "popularity        0.175991  0.594868  \n",
       "budget            0.271915  0.525128  \n",
       "revenue           0.141317  0.979149  \n",
       "runtime          -0.113488  0.219278  \n",
       "vote_count        0.209688  0.727533  \n",
       "release_year      1.000000  0.089493  \n",
       "profit            0.089493  1.000000  "
      ]
     },
     "execution_count": 38,
     "metadata": {},
     "output_type": "execute_result"
    }
   ],
   "source": [
    "df_movies.corr()"
   ]
  },
  {
   "cell_type": "markdown",
   "id": "d2909376",
   "metadata": {},
   "source": [
    "This shows the correlation of the variables "
   ]
  },
  {
   "cell_type": "code",
   "execution_count": 39,
   "id": "2fe2654c",
   "metadata": {},
   "outputs": [
    {
     "data": {
      "text/plain": [
       "array([[<AxesSubplot:title={'center':'popularity'}>,\n",
       "        <AxesSubplot:title={'center':'budget'}>,\n",
       "        <AxesSubplot:title={'center':'revenue'}>],\n",
       "       [<AxesSubplot:title={'center':'runtime'}>,\n",
       "        <AxesSubplot:title={'center':'release_date'}>,\n",
       "        <AxesSubplot:title={'center':'vote_count'}>],\n",
       "       [<AxesSubplot:title={'center':'release_year'}>,\n",
       "        <AxesSubplot:title={'center':'profit'}>, <AxesSubplot:>]],\n",
       "      dtype=object)"
      ]
     },
     "execution_count": 39,
     "metadata": {},
     "output_type": "execute_result"
    },
    {
     "data": {
      "image/png": "[encoded data removed]",
      "text/plain": [
       "<Figure size 1080x576 with 9 Axes>"
      ]
     },
     "metadata": {
      "needs_background": "light"
     },
     "output_type": "display_data"
    }
   ],
   "source": [
    "df_movies.hist(figsize=(15,8))"
   ]
  },
  {
   "cell_type": "markdown",
   "id": "1bc8dbd5",
   "metadata": {},
   "source": [
    "Most of these variables are skewed to the left but I can't really make any conclusions yet ,let's. examine each of the properties by answering research questions "
   ]
  },
  {
   "cell_type": "markdown",
   "id": "cb655f7c",
   "metadata": {},
   "source": [
    " # 1.popular genres from year to year"
   ]
  },
  {
   "cell_type": "code",
   "execution_count": 40,
   "id": "d5ca332f",
   "metadata": {},
   "outputs": [],
   "source": [
    "# split the genres string\n",
    "df_movies.genres= df_movies .genres.str.split('|')\n",
    "#create genre list( create each row for each gen) using explode \n",
    "df_movies = df_movies.explode('genres')"
   ]
  },
  {
   "cell_type": "code",
   "execution_count": 41,
   "id": "ee17788b",
   "metadata": {},
   "outputs": [],
   "source": [
    "# group by year ,genres.popularity \n",
    "df=df_movies.groupby(['release_year','genres'])['popularity'].mean()"
   ]
  },
  {
   "cell_type": "code",
   "execution_count": 42,
   "id": "02212c78",
   "metadata": {},
   "outputs": [
    {
     "data": {
      "text/plain": [
       "release_year  genres         \n",
       "1960          Action             1.504538\n",
       "              Adventure          1.872132\n",
       "              Comedy             0.501564\n",
       "              Drama              1.564871\n",
       "              History            1.136943\n",
       "                                   ...   \n",
       "2015          Romance            2.108030\n",
       "              Science Fiction    7.594638\n",
       "              Thriller           3.913396\n",
       "              War                1.943238\n",
       "              Western            7.504550\n",
       "Name: popularity, Length: 839, dtype: float64"
      ]
     },
     "execution_count": 42,
     "metadata": {},
     "output_type": "execute_result"
    }
   ],
   "source": [
    "df"
   ]
  },
  {
   "cell_type": "code",
   "execution_count": 43,
   "id": "e667aef5",
   "metadata": {},
   "outputs": [
    {
     "data": {
      "text/plain": [
       "release_year  genres         \n",
       "1960          Horror             2.610362\n",
       "1961          Animation          2.631987\n",
       "1962          Thriller           3.170651\n",
       "1963          Adventure          1.586280\n",
       "1964          Action             3.153791\n",
       "1965          Thriller           1.910465\n",
       "1966          Drama              0.485092\n",
       "1967          Animation          2.550704\n",
       "1968          Mystery            1.728887\n",
       "1969          Action             1.778746\n",
       "1970          Animation          1.936962\n",
       "1971          Family             2.430667\n",
       "1972          Drama              2.428841\n",
       "1973          Animation          2.272486\n",
       "1974          Crime              1.298649\n",
       "1975          Adventure          2.399072\n",
       "1976          Crime              1.301804\n",
       "1977          Action             2.709534\n",
       "1978          Music              0.987694\n",
       "1979          Horror             2.865282\n",
       "1980          Adventure          2.722343\n",
       "1981          Adventure          1.582704\n",
       "1982          Science Fiction    1.815975\n",
       "1983          Adventure          1.548183\n",
       "1984          Family             1.819898\n",
       "1985          Family             1.526121\n",
       "1986          Animation          1.136303\n",
       "1987          War                1.518906\n",
       "1988          Animation          1.108351\n",
       "1989          Animation          2.305242\n",
       "1990          Western            1.695911\n",
       "1991          Animation          2.148455\n",
       "1992          Animation          3.966538\n",
       "1993          War                1.625452\n",
       "1994          Crime              2.017196\n",
       "1995          Animation          3.097868\n",
       "1996          Animation          1.329906\n",
       "1997          Animation          1.947888\n",
       "1998          Animation          2.109820\n",
       "1999          Fantasy            1.372226\n",
       "2000          Fantasy            1.182193\n",
       "2001          Fantasy            2.902771\n",
       "2002          Fantasy            2.597838\n",
       "2003          Fantasy            2.909258\n",
       "2004          Fantasy            2.064655\n",
       "2005          Fantasy            1.747583\n",
       "2006          Animation          1.537277\n",
       "2007          Fantasy            1.759555\n",
       "2008          Animation          1.507001\n",
       "2009          War                2.711016\n",
       "2010          Adventure          2.179113\n",
       "2011          Fantasy            1.977175\n",
       "2012          Western            5.944518\n",
       "2013          Science Fiction    2.882717\n",
       "2014          Science Fiction    5.482694\n",
       "2015          Science Fiction    7.594638\n",
       "Name: popularity, dtype: float64"
      ]
     },
     "execution_count": 43,
     "metadata": {},
     "output_type": "execute_result"
    }
   ],
   "source": [
    "data=df_movies.groupby(['release_year','genres'])['popularity'].mean().groupby(level='release_year').nlargest(1).reset_index(level=0,drop=True)\n",
    "data"
   ]
  },
  {
   "cell_type": "markdown",
   "id": "3ff8f202",
   "metadata": {},
   "source": [
    "This shows the most popular genre in each year ranging from 1960-2015\n",
    "\n",
    "would be using an horizontal bar chart to represent my observation for better communication"
   ]
  },
  {
   "cell_type": "code",
   "execution_count": 44,
   "id": "592280a6",
   "metadata": {},
   "outputs": [
    {
     "data": {
      "text/plain": [
       "<AxesSubplot:ylabel='release_year,genres'>"
      ]
     },
     "execution_count": 44,
     "metadata": {},
     "output_type": "execute_result"
    },
    {
     "data": {
      "image/png": "[encoded data removed]",
      "text/plain": [
       "<Figure size 720x576 with 1 Axes>"
      ]
     },
     "metadata": {
      "needs_background": "light"
     },
     "output_type": "display_data"
    }
   ],
   "source": [
    "plt.figure(figsize=[10,8])\n",
    "plt.xticks(rotation=90)\n",
    "data.plot.barh()"
   ]
  },
  {
   "cell_type": "markdown",
   "id": "e6565bd6",
   "metadata": {},
   "source": [
    "science fiction is High in three years I.e 2015,2014,2013\n",
    "\n",
    "​"
   ]
  },
  {
   "cell_type": "markdown",
   "id": "fc4139c1",
   "metadata": {},
   "source": [
    "created a data frame to explain the visualisation better"
   ]
  },
  {
   "cell_type": "code",
   "execution_count": 45,
   "id": "1658c2c8",
   "metadata": {},
   "outputs": [],
   "source": [
    "data=data.reset_index()\n"
   ]
  },
  {
   "cell_type": "code",
   "execution_count": 46,
   "id": "aaea2409",
   "metadata": {},
   "outputs": [
    {
     "data": {
      "text/html": [
       "<div>\n",
       "<style scoped>\n",
       "    .dataframe tbody tr th:only-of-type {\n",
       "        vertical-align: middle;\n",
       "    }\n",
       "\n",
       "    .dataframe tbody tr th {\n",
       "        vertical-align: top;\n",
       "    }\n",
       "\n",
       "    .dataframe thead th {\n",
       "        text-align: right;\n",
       "    }\n",
       "</style>\n",
       "<table border=\"1\" class=\"dataframe\">\n",
       "  <thead>\n",
       "    <tr style=\"text-align: right;\">\n",
       "      <th></th>\n",
       "      <th>release_year</th>\n",
       "      <th>genres</th>\n",
       "      <th>popularity</th>\n",
       "    </tr>\n",
       "  </thead>\n",
       "  <tbody>\n",
       "    <tr>\n",
       "      <th>0</th>\n",
       "      <td>1960</td>\n",
       "      <td>Horror</td>\n",
       "      <td>2.610362</td>\n",
       "    </tr>\n",
       "    <tr>\n",
       "      <th>1</th>\n",
       "      <td>1961</td>\n",
       "      <td>Animation</td>\n",
       "      <td>2.631987</td>\n",
       "    </tr>\n",
       "    <tr>\n",
       "      <th>2</th>\n",
       "      <td>1962</td>\n",
       "      <td>Thriller</td>\n",
       "      <td>3.170651</td>\n",
       "    </tr>\n",
       "    <tr>\n",
       "      <th>3</th>\n",
       "      <td>1963</td>\n",
       "      <td>Adventure</td>\n",
       "      <td>1.586280</td>\n",
       "    </tr>\n",
       "    <tr>\n",
       "      <th>4</th>\n",
       "      <td>1964</td>\n",
       "      <td>Action</td>\n",
       "      <td>3.153791</td>\n",
       "    </tr>\n",
       "  </tbody>\n",
       "</table>\n",
       "</div>"
      ],
      "text/plain": [
       "   release_year     genres  popularity\n",
       "0          1960     Horror    2.610362\n",
       "1          1961  Animation    2.631987\n",
       "2          1962   Thriller    3.170651\n",
       "3          1963  Adventure    1.586280\n",
       "4          1964     Action    3.153791"
      ]
     },
     "execution_count": 46,
     "metadata": {},
     "output_type": "execute_result"
    }
   ],
   "source": [
    "data.head()"
   ]
  },
  {
   "cell_type": "markdown",
   "id": "1f32e06d",
   "metadata": {},
   "source": [
    "this shows the genre popularity yearly from the beginning "
   ]
  },
  {
   "cell_type": "code",
   "execution_count": 47,
   "id": "6e7f327b",
   "metadata": {},
   "outputs": [
    {
     "data": {
      "text/html": [
       "<div>\n",
       "<style scoped>\n",
       "    .dataframe tbody tr th:only-of-type {\n",
       "        vertical-align: middle;\n",
       "    }\n",
       "\n",
       "    .dataframe tbody tr th {\n",
       "        vertical-align: top;\n",
       "    }\n",
       "\n",
       "    .dataframe thead th {\n",
       "        text-align: right;\n",
       "    }\n",
       "</style>\n",
       "<table border=\"1\" class=\"dataframe\">\n",
       "  <thead>\n",
       "    <tr style=\"text-align: right;\">\n",
       "      <th></th>\n",
       "      <th>release_year</th>\n",
       "      <th>genres</th>\n",
       "      <th>popularity</th>\n",
       "    </tr>\n",
       "  </thead>\n",
       "  <tbody>\n",
       "    <tr>\n",
       "      <th>51</th>\n",
       "      <td>2011</td>\n",
       "      <td>Fantasy</td>\n",
       "      <td>1.977175</td>\n",
       "    </tr>\n",
       "    <tr>\n",
       "      <th>52</th>\n",
       "      <td>2012</td>\n",
       "      <td>Western</td>\n",
       "      <td>5.944518</td>\n",
       "    </tr>\n",
       "    <tr>\n",
       "      <th>53</th>\n",
       "      <td>2013</td>\n",
       "      <td>Science Fiction</td>\n",
       "      <td>2.882717</td>\n",
       "    </tr>\n",
       "    <tr>\n",
       "      <th>54</th>\n",
       "      <td>2014</td>\n",
       "      <td>Science Fiction</td>\n",
       "      <td>5.482694</td>\n",
       "    </tr>\n",
       "    <tr>\n",
       "      <th>55</th>\n",
       "      <td>2015</td>\n",
       "      <td>Science Fiction</td>\n",
       "      <td>7.594638</td>\n",
       "    </tr>\n",
       "  </tbody>\n",
       "</table>\n",
       "</div>"
      ],
      "text/plain": [
       "    release_year           genres  popularity\n",
       "51          2011          Fantasy    1.977175\n",
       "52          2012          Western    5.944518\n",
       "53          2013  Science Fiction    2.882717\n",
       "54          2014  Science Fiction    5.482694\n",
       "55          2015  Science Fiction    7.594638"
      ]
     },
     "execution_count": 47,
     "metadata": {},
     "output_type": "execute_result"
    }
   ],
   "source": [
    "data.tail()"
   ]
  },
  {
   "cell_type": "markdown",
   "id": "ba8e1296",
   "metadata": {},
   "source": [
    "this shows the genre popularity yearly in a descending order,this shows how popular a genre is each year\n",
    "\n"
   ]
  },
  {
   "cell_type": "markdown",
   "id": "d349d736",
   "metadata": {},
   "source": [
    "I would like to segregate the release_year by every 7 years to have a well represented chart"
   ]
  },
  {
   "cell_type": "code",
   "execution_count": 48,
   "id": "4b197ad2",
   "metadata": {},
   "outputs": [
    {
     "data": {
      "text/plain": [
       "0        2010\n",
       "0        2010\n",
       "0        2010\n",
       "0        2010\n",
       "1        2010\n",
       "         ... \n",
       "10835    1962\n",
       "10835    1962\n",
       "10835    1962\n",
       "10848    1962\n",
       "10848    1962\n",
       "Name: release_year, Length: 10180, dtype: int64"
      ]
     },
     "execution_count": 48,
     "metadata": {},
     "output_type": "execute_result"
    }
   ],
   "source": [
    "seg=(df_movies.release_year//6)*6\n",
    "seg"
   ]
  },
  {
   "cell_type": "code",
   "execution_count": 49,
   "id": "bc91ed0f",
   "metadata": {},
   "outputs": [
    {
     "data": {
      "text/plain": [
       "release_year  genres         \n",
       "1956          Animation          2.631987\n",
       "1962          Animation          2.550704\n",
       "1968          Fantasy            2.430667\n",
       "1974          Science Fiction    1.710904\n",
       "1980          Adventure          1.392745\n",
       "1986          Animation          1.569824\n",
       "1992          Animation          1.902376\n",
       "1998          Fantasy            2.068579\n",
       "2004          Fantasy            1.723720\n",
       "2010          Science Fiction    3.652345\n",
       "Name: popularity, dtype: float64"
      ]
     },
     "execution_count": 49,
     "metadata": {},
     "output_type": "execute_result"
    }
   ],
   "source": [
    "seg_df=df_movies.groupby([seg,'genres'])['popularity'].mean().groupby(level='release_year').nlargest(1).reset_index(level=0,drop=True)\n",
    "seg_df"
   ]
  },
  {
   "cell_type": "code",
   "execution_count": 50,
   "id": "0c7ec5ec",
   "metadata": {},
   "outputs": [
    {
     "data": {
      "text/plain": [
       "<AxesSubplot:xlabel='release_year,genres'>"
      ]
     },
     "execution_count": 50,
     "metadata": {},
     "output_type": "execute_result"
    },
    {
     "data": {
      "image/png": "[encoded data removed]",
      "text/plain": [
       "<Figure size 720x576 with 1 Axes>"
      ]
     },
     "metadata": {
      "needs_background": "light"
     },
     "output_type": "display_data"
    }
   ],
   "source": [
    "plt.figure(figsize=[10,8])\n",
    "plt.xticks(rotation=90)\n",
    "seg_df.plot.bar()"
   ]
  },
  {
   "cell_type": "code",
   "execution_count": 51,
   "id": "ef5ee56e",
   "metadata": {},
   "outputs": [
    {
     "data": {
      "text/plain": [
       "<AxesSubplot:ylabel='release_year,genres'>"
      ]
     },
     "execution_count": 51,
     "metadata": {},
     "output_type": "execute_result"
    },
    {
     "data": {
      "image/png": "[encoded data removed]",
      "text/plain": [
       "<Figure size 720x576 with 1 Axes>"
      ]
     },
     "metadata": {
      "needs_background": "light"
     },
     "output_type": "display_data"
    }
   ],
   "source": [
    "plt.figure(figsize=[10,8])\n",
    "plt.xticks(rotation=90)\n",
    "seg_df.plot.barh()"
   ]
  },
  {
   "cell_type": "markdown",
   "id": "b1c402b2",
   "metadata": {},
   "source": [
    "# 2.movie with highest profit and lowest profit"
   ]
  },
  {
   "cell_type": "code",
   "execution_count": 52,
   "id": "1a56635c",
   "metadata": {},
   "outputs": [
    {
     "data": {
      "text/html": [
       "<div>\n",
       "<style scoped>\n",
       "    .dataframe tbody tr th:only-of-type {\n",
       "        vertical-align: middle;\n",
       "    }\n",
       "\n",
       "    .dataframe tbody tr th {\n",
       "        vertical-align: top;\n",
       "    }\n",
       "\n",
       "    .dataframe thead th {\n",
       "        text-align: right;\n",
       "    }\n",
       "</style>\n",
       "<table border=\"1\" class=\"dataframe\">\n",
       "  <thead>\n",
       "    <tr style=\"text-align: right;\">\n",
       "      <th></th>\n",
       "      <th>popularity</th>\n",
       "      <th>budget</th>\n",
       "      <th>revenue</th>\n",
       "      <th>original_title</th>\n",
       "      <th>cast</th>\n",
       "      <th>director</th>\n",
       "      <th>runtime</th>\n",
       "      <th>genres</th>\n",
       "      <th>production_companies</th>\n",
       "      <th>release_date</th>\n",
       "      <th>vote_count</th>\n",
       "      <th>release_year</th>\n",
       "      <th>profit</th>\n",
       "    </tr>\n",
       "  </thead>\n",
       "  <tbody>\n",
       "    <tr>\n",
       "      <th>1386</th>\n",
       "      <td>9.432768</td>\n",
       "      <td>237000000.0</td>\n",
       "      <td>2.781506e+09</td>\n",
       "      <td>Avatar</td>\n",
       "      <td>Sam Worthington|Zoe Saldana|Sigourney Weaver|S...</td>\n",
       "      <td>James Cameron</td>\n",
       "      <td>162</td>\n",
       "      <td>Action</td>\n",
       "      <td>Ingenious Film Partners|Twentieth Century Fox ...</td>\n",
       "      <td>2009-12-10</td>\n",
       "      <td>8458</td>\n",
       "      <td>2009</td>\n",
       "      <td>2.544506e+09</td>\n",
       "    </tr>\n",
       "    <tr>\n",
       "      <th>1386</th>\n",
       "      <td>9.432768</td>\n",
       "      <td>237000000.0</td>\n",
       "      <td>2.781506e+09</td>\n",
       "      <td>Avatar</td>\n",
       "      <td>Sam Worthington|Zoe Saldana|Sigourney Weaver|S...</td>\n",
       "      <td>James Cameron</td>\n",
       "      <td>162</td>\n",
       "      <td>Adventure</td>\n",
       "      <td>Ingenious Film Partners|Twentieth Century Fox ...</td>\n",
       "      <td>2009-12-10</td>\n",
       "      <td>8458</td>\n",
       "      <td>2009</td>\n",
       "      <td>2.544506e+09</td>\n",
       "    </tr>\n",
       "    <tr>\n",
       "      <th>1386</th>\n",
       "      <td>9.432768</td>\n",
       "      <td>237000000.0</td>\n",
       "      <td>2.781506e+09</td>\n",
       "      <td>Avatar</td>\n",
       "      <td>Sam Worthington|Zoe Saldana|Sigourney Weaver|S...</td>\n",
       "      <td>James Cameron</td>\n",
       "      <td>162</td>\n",
       "      <td>Fantasy</td>\n",
       "      <td>Ingenious Film Partners|Twentieth Century Fox ...</td>\n",
       "      <td>2009-12-10</td>\n",
       "      <td>8458</td>\n",
       "      <td>2009</td>\n",
       "      <td>2.544506e+09</td>\n",
       "    </tr>\n",
       "    <tr>\n",
       "      <th>1386</th>\n",
       "      <td>9.432768</td>\n",
       "      <td>237000000.0</td>\n",
       "      <td>2.781506e+09</td>\n",
       "      <td>Avatar</td>\n",
       "      <td>Sam Worthington|Zoe Saldana|Sigourney Weaver|S...</td>\n",
       "      <td>James Cameron</td>\n",
       "      <td>162</td>\n",
       "      <td>Science Fiction</td>\n",
       "      <td>Ingenious Film Partners|Twentieth Century Fox ...</td>\n",
       "      <td>2009-12-10</td>\n",
       "      <td>8458</td>\n",
       "      <td>2009</td>\n",
       "      <td>2.544506e+09</td>\n",
       "    </tr>\n",
       "  </tbody>\n",
       "</table>\n",
       "</div>"
      ],
      "text/plain": [
       "      popularity       budget       revenue original_title  \\\n",
       "1386    9.432768  237000000.0  2.781506e+09         Avatar   \n",
       "1386    9.432768  237000000.0  2.781506e+09         Avatar   \n",
       "1386    9.432768  237000000.0  2.781506e+09         Avatar   \n",
       "1386    9.432768  237000000.0  2.781506e+09         Avatar   \n",
       "\n",
       "                                                   cast       director  \\\n",
       "1386  Sam Worthington|Zoe Saldana|Sigourney Weaver|S...  James Cameron   \n",
       "1386  Sam Worthington|Zoe Saldana|Sigourney Weaver|S...  James Cameron   \n",
       "1386  Sam Worthington|Zoe Saldana|Sigourney Weaver|S...  James Cameron   \n",
       "1386  Sam Worthington|Zoe Saldana|Sigourney Weaver|S...  James Cameron   \n",
       "\n",
       "      runtime           genres  \\\n",
       "1386      162           Action   \n",
       "1386      162        Adventure   \n",
       "1386      162          Fantasy   \n",
       "1386      162  Science Fiction   \n",
       "\n",
       "                                   production_companies release_date  \\\n",
       "1386  Ingenious Film Partners|Twentieth Century Fox ...   2009-12-10   \n",
       "1386  Ingenious Film Partners|Twentieth Century Fox ...   2009-12-10   \n",
       "1386  Ingenious Film Partners|Twentieth Century Fox ...   2009-12-10   \n",
       "1386  Ingenious Film Partners|Twentieth Century Fox ...   2009-12-10   \n",
       "\n",
       "      vote_count  release_year        profit  \n",
       "1386        8458          2009  2.544506e+09  \n",
       "1386        8458          2009  2.544506e+09  \n",
       "1386        8458          2009  2.544506e+09  \n",
       "1386        8458          2009  2.544506e+09  "
      ]
     },
     "execution_count": 52,
     "metadata": {},
     "output_type": "execute_result"
    }
   ],
   "source": [
    "budget=df_movies.loc[df_movies['profit'].idxmax()]\n",
    "budget"
   ]
  },
  {
   "cell_type": "markdown",
   "id": "2437d5f5",
   "metadata": {},
   "source": [
    "this shows that the most profitable movie is Avatar with a profit of 2.544506e+09 and its also the most popular movie"
   ]
  },
  {
   "cell_type": "code",
   "execution_count": 53,
   "id": "c063537e",
   "metadata": {},
   "outputs": [
    {
     "data": {
      "text/html": [
       "<div>\n",
       "<style scoped>\n",
       "    .dataframe tbody tr th:only-of-type {\n",
       "        vertical-align: middle;\n",
       "    }\n",
       "\n",
       "    .dataframe tbody tr th {\n",
       "        vertical-align: top;\n",
       "    }\n",
       "\n",
       "    .dataframe thead th {\n",
       "        text-align: right;\n",
       "    }\n",
       "</style>\n",
       "<table border=\"1\" class=\"dataframe\">\n",
       "  <thead>\n",
       "    <tr style=\"text-align: right;\">\n",
       "      <th></th>\n",
       "      <th>popularity</th>\n",
       "      <th>budget</th>\n",
       "      <th>revenue</th>\n",
       "      <th>original_title</th>\n",
       "      <th>cast</th>\n",
       "      <th>director</th>\n",
       "      <th>runtime</th>\n",
       "      <th>genres</th>\n",
       "      <th>production_companies</th>\n",
       "      <th>release_date</th>\n",
       "      <th>vote_count</th>\n",
       "      <th>release_year</th>\n",
       "      <th>profit</th>\n",
       "    </tr>\n",
       "  </thead>\n",
       "  <tbody>\n",
       "    <tr>\n",
       "      <th>2244</th>\n",
       "      <td>0.25054</td>\n",
       "      <td>425000000.0</td>\n",
       "      <td>11087569.0</td>\n",
       "      <td>The Warrior's Way</td>\n",
       "      <td>Kate Bosworth|Jang Dong-gun|Geoffrey Rush|Dann...</td>\n",
       "      <td>Sngmoo Lee</td>\n",
       "      <td>100</td>\n",
       "      <td>Adventure</td>\n",
       "      <td>Boram Entertainment Inc.</td>\n",
       "      <td>2010-12-02</td>\n",
       "      <td>74</td>\n",
       "      <td>2010</td>\n",
       "      <td>-413912431.0</td>\n",
       "    </tr>\n",
       "    <tr>\n",
       "      <th>2244</th>\n",
       "      <td>0.25054</td>\n",
       "      <td>425000000.0</td>\n",
       "      <td>11087569.0</td>\n",
       "      <td>The Warrior's Way</td>\n",
       "      <td>Kate Bosworth|Jang Dong-gun|Geoffrey Rush|Dann...</td>\n",
       "      <td>Sngmoo Lee</td>\n",
       "      <td>100</td>\n",
       "      <td>Fantasy</td>\n",
       "      <td>Boram Entertainment Inc.</td>\n",
       "      <td>2010-12-02</td>\n",
       "      <td>74</td>\n",
       "      <td>2010</td>\n",
       "      <td>-413912431.0</td>\n",
       "    </tr>\n",
       "    <tr>\n",
       "      <th>2244</th>\n",
       "      <td>0.25054</td>\n",
       "      <td>425000000.0</td>\n",
       "      <td>11087569.0</td>\n",
       "      <td>The Warrior's Way</td>\n",
       "      <td>Kate Bosworth|Jang Dong-gun|Geoffrey Rush|Dann...</td>\n",
       "      <td>Sngmoo Lee</td>\n",
       "      <td>100</td>\n",
       "      <td>Action</td>\n",
       "      <td>Boram Entertainment Inc.</td>\n",
       "      <td>2010-12-02</td>\n",
       "      <td>74</td>\n",
       "      <td>2010</td>\n",
       "      <td>-413912431.0</td>\n",
       "    </tr>\n",
       "    <tr>\n",
       "      <th>2244</th>\n",
       "      <td>0.25054</td>\n",
       "      <td>425000000.0</td>\n",
       "      <td>11087569.0</td>\n",
       "      <td>The Warrior's Way</td>\n",
       "      <td>Kate Bosworth|Jang Dong-gun|Geoffrey Rush|Dann...</td>\n",
       "      <td>Sngmoo Lee</td>\n",
       "      <td>100</td>\n",
       "      <td>Western</td>\n",
       "      <td>Boram Entertainment Inc.</td>\n",
       "      <td>2010-12-02</td>\n",
       "      <td>74</td>\n",
       "      <td>2010</td>\n",
       "      <td>-413912431.0</td>\n",
       "    </tr>\n",
       "    <tr>\n",
       "      <th>2244</th>\n",
       "      <td>0.25054</td>\n",
       "      <td>425000000.0</td>\n",
       "      <td>11087569.0</td>\n",
       "      <td>The Warrior's Way</td>\n",
       "      <td>Kate Bosworth|Jang Dong-gun|Geoffrey Rush|Dann...</td>\n",
       "      <td>Sngmoo Lee</td>\n",
       "      <td>100</td>\n",
       "      <td>Thriller</td>\n",
       "      <td>Boram Entertainment Inc.</td>\n",
       "      <td>2010-12-02</td>\n",
       "      <td>74</td>\n",
       "      <td>2010</td>\n",
       "      <td>-413912431.0</td>\n",
       "    </tr>\n",
       "  </tbody>\n",
       "</table>\n",
       "</div>"
      ],
      "text/plain": [
       "      popularity       budget     revenue     original_title  \\\n",
       "2244     0.25054  425000000.0  11087569.0  The Warrior's Way   \n",
       "2244     0.25054  425000000.0  11087569.0  The Warrior's Way   \n",
       "2244     0.25054  425000000.0  11087569.0  The Warrior's Way   \n",
       "2244     0.25054  425000000.0  11087569.0  The Warrior's Way   \n",
       "2244     0.25054  425000000.0  11087569.0  The Warrior's Way   \n",
       "\n",
       "                                                   cast    director  runtime  \\\n",
       "2244  Kate Bosworth|Jang Dong-gun|Geoffrey Rush|Dann...  Sngmoo Lee      100   \n",
       "2244  Kate Bosworth|Jang Dong-gun|Geoffrey Rush|Dann...  Sngmoo Lee      100   \n",
       "2244  Kate Bosworth|Jang Dong-gun|Geoffrey Rush|Dann...  Sngmoo Lee      100   \n",
       "2244  Kate Bosworth|Jang Dong-gun|Geoffrey Rush|Dann...  Sngmoo Lee      100   \n",
       "2244  Kate Bosworth|Jang Dong-gun|Geoffrey Rush|Dann...  Sngmoo Lee      100   \n",
       "\n",
       "         genres      production_companies release_date  vote_count  \\\n",
       "2244  Adventure  Boram Entertainment Inc.   2010-12-02          74   \n",
       "2244    Fantasy  Boram Entertainment Inc.   2010-12-02          74   \n",
       "2244     Action  Boram Entertainment Inc.   2010-12-02          74   \n",
       "2244    Western  Boram Entertainment Inc.   2010-12-02          74   \n",
       "2244   Thriller  Boram Entertainment Inc.   2010-12-02          74   \n",
       "\n",
       "      release_year       profit  \n",
       "2244          2010 -413912431.0  \n",
       "2244          2010 -413912431.0  \n",
       "2244          2010 -413912431.0  \n",
       "2244          2010 -413912431.0  \n",
       "2244          2010 -413912431.0  "
      ]
     },
     "execution_count": 53,
     "metadata": {},
     "output_type": "execute_result"
    }
   ],
   "source": [
    "budget_low=df_movies.loc[df_movies['profit'].idxmin()]\n",
    "budget_low"
   ]
  },
  {
   "cell_type": "markdown",
   "id": "2dc401a5",
   "metadata": {},
   "source": [
    "this shows that the least profitable movie is The Warriors Way with a profit of -413912431.0 and its also the least popular \n",
    "\n",
    "movie"
   ]
  },
  {
   "cell_type": "markdown",
   "id": "8d4b5ed8",
   "metadata": {},
   "source": [
    "# 3. Movies with highest and low budget"
   ]
  },
  {
   "cell_type": "code",
   "execution_count": 54,
   "id": "4e4179ef",
   "metadata": {},
   "outputs": [
    {
     "data": {
      "text/html": [
       "<div>\n",
       "<style scoped>\n",
       "    .dataframe tbody tr th:only-of-type {\n",
       "        vertical-align: middle;\n",
       "    }\n",
       "\n",
       "    .dataframe tbody tr th {\n",
       "        vertical-align: top;\n",
       "    }\n",
       "\n",
       "    .dataframe thead th {\n",
       "        text-align: right;\n",
       "    }\n",
       "</style>\n",
       "<table border=\"1\" class=\"dataframe\">\n",
       "  <thead>\n",
       "    <tr style=\"text-align: right;\">\n",
       "      <th></th>\n",
       "      <th>popularity</th>\n",
       "      <th>budget</th>\n",
       "      <th>revenue</th>\n",
       "      <th>original_title</th>\n",
       "      <th>cast</th>\n",
       "      <th>director</th>\n",
       "      <th>runtime</th>\n",
       "      <th>genres</th>\n",
       "      <th>production_companies</th>\n",
       "      <th>release_date</th>\n",
       "      <th>vote_count</th>\n",
       "      <th>release_year</th>\n",
       "      <th>profit</th>\n",
       "    </tr>\n",
       "  </thead>\n",
       "  <tbody>\n",
       "    <tr>\n",
       "      <th>2244</th>\n",
       "      <td>0.25054</td>\n",
       "      <td>425000000.0</td>\n",
       "      <td>11087569.0</td>\n",
       "      <td>The Warrior's Way</td>\n",
       "      <td>Kate Bosworth|Jang Dong-gun|Geoffrey Rush|Dann...</td>\n",
       "      <td>Sngmoo Lee</td>\n",
       "      <td>100</td>\n",
       "      <td>Adventure</td>\n",
       "      <td>Boram Entertainment Inc.</td>\n",
       "      <td>2010-12-02</td>\n",
       "      <td>74</td>\n",
       "      <td>2010</td>\n",
       "      <td>-413912431.0</td>\n",
       "    </tr>\n",
       "    <tr>\n",
       "      <th>2244</th>\n",
       "      <td>0.25054</td>\n",
       "      <td>425000000.0</td>\n",
       "      <td>11087569.0</td>\n",
       "      <td>The Warrior's Way</td>\n",
       "      <td>Kate Bosworth|Jang Dong-gun|Geoffrey Rush|Dann...</td>\n",
       "      <td>Sngmoo Lee</td>\n",
       "      <td>100</td>\n",
       "      <td>Fantasy</td>\n",
       "      <td>Boram Entertainment Inc.</td>\n",
       "      <td>2010-12-02</td>\n",
       "      <td>74</td>\n",
       "      <td>2010</td>\n",
       "      <td>-413912431.0</td>\n",
       "    </tr>\n",
       "    <tr>\n",
       "      <th>2244</th>\n",
       "      <td>0.25054</td>\n",
       "      <td>425000000.0</td>\n",
       "      <td>11087569.0</td>\n",
       "      <td>The Warrior's Way</td>\n",
       "      <td>Kate Bosworth|Jang Dong-gun|Geoffrey Rush|Dann...</td>\n",
       "      <td>Sngmoo Lee</td>\n",
       "      <td>100</td>\n",
       "      <td>Action</td>\n",
       "      <td>Boram Entertainment Inc.</td>\n",
       "      <td>2010-12-02</td>\n",
       "      <td>74</td>\n",
       "      <td>2010</td>\n",
       "      <td>-413912431.0</td>\n",
       "    </tr>\n",
       "    <tr>\n",
       "      <th>2244</th>\n",
       "      <td>0.25054</td>\n",
       "      <td>425000000.0</td>\n",
       "      <td>11087569.0</td>\n",
       "      <td>The Warrior's Way</td>\n",
       "      <td>Kate Bosworth|Jang Dong-gun|Geoffrey Rush|Dann...</td>\n",
       "      <td>Sngmoo Lee</td>\n",
       "      <td>100</td>\n",
       "      <td>Western</td>\n",
       "      <td>Boram Entertainment Inc.</td>\n",
       "      <td>2010-12-02</td>\n",
       "      <td>74</td>\n",
       "      <td>2010</td>\n",
       "      <td>-413912431.0</td>\n",
       "    </tr>\n",
       "    <tr>\n",
       "      <th>2244</th>\n",
       "      <td>0.25054</td>\n",
       "      <td>425000000.0</td>\n",
       "      <td>11087569.0</td>\n",
       "      <td>The Warrior's Way</td>\n",
       "      <td>Kate Bosworth|Jang Dong-gun|Geoffrey Rush|Dann...</td>\n",
       "      <td>Sngmoo Lee</td>\n",
       "      <td>100</td>\n",
       "      <td>Thriller</td>\n",
       "      <td>Boram Entertainment Inc.</td>\n",
       "      <td>2010-12-02</td>\n",
       "      <td>74</td>\n",
       "      <td>2010</td>\n",
       "      <td>-413912431.0</td>\n",
       "    </tr>\n",
       "  </tbody>\n",
       "</table>\n",
       "</div>"
      ],
      "text/plain": [
       "      popularity       budget     revenue     original_title  \\\n",
       "2244     0.25054  425000000.0  11087569.0  The Warrior's Way   \n",
       "2244     0.25054  425000000.0  11087569.0  The Warrior's Way   \n",
       "2244     0.25054  425000000.0  11087569.0  The Warrior's Way   \n",
       "2244     0.25054  425000000.0  11087569.0  The Warrior's Way   \n",
       "2244     0.25054  425000000.0  11087569.0  The Warrior's Way   \n",
       "\n",
       "                                                   cast    director  runtime  \\\n",
       "2244  Kate Bosworth|Jang Dong-gun|Geoffrey Rush|Dann...  Sngmoo Lee      100   \n",
       "2244  Kate Bosworth|Jang Dong-gun|Geoffrey Rush|Dann...  Sngmoo Lee      100   \n",
       "2244  Kate Bosworth|Jang Dong-gun|Geoffrey Rush|Dann...  Sngmoo Lee      100   \n",
       "2244  Kate Bosworth|Jang Dong-gun|Geoffrey Rush|Dann...  Sngmoo Lee      100   \n",
       "2244  Kate Bosworth|Jang Dong-gun|Geoffrey Rush|Dann...  Sngmoo Lee      100   \n",
       "\n",
       "         genres      production_companies release_date  vote_count  \\\n",
       "2244  Adventure  Boram Entertainment Inc.   2010-12-02          74   \n",
       "2244    Fantasy  Boram Entertainment Inc.   2010-12-02          74   \n",
       "2244     Action  Boram Entertainment Inc.   2010-12-02          74   \n",
       "2244    Western  Boram Entertainment Inc.   2010-12-02          74   \n",
       "2244   Thriller  Boram Entertainment Inc.   2010-12-02          74   \n",
       "\n",
       "      release_year       profit  \n",
       "2244          2010 -413912431.0  \n",
       "2244          2010 -413912431.0  \n",
       "2244          2010 -413912431.0  \n",
       "2244          2010 -413912431.0  \n",
       "2244          2010 -413912431.0  "
      ]
     },
     "execution_count": 54,
     "metadata": {},
     "output_type": "execute_result"
    }
   ],
   "source": [
    "budge=df_movies.loc[df_movies['budget'].idxmax()]\n",
    "budge"
   ]
  },
  {
   "cell_type": "markdown",
   "id": "cc1dce52",
   "metadata": {},
   "source": [
    "this shows that The Warrior's Way had the highest budget  but still had a low profit "
   ]
  },
  {
   "cell_type": "code",
   "execution_count": 55,
   "id": "7fd9fe94",
   "metadata": {},
   "outputs": [
    {
     "data": {
      "text/html": [
       "<div>\n",
       "<style scoped>\n",
       "    .dataframe tbody tr th:only-of-type {\n",
       "        vertical-align: middle;\n",
       "    }\n",
       "\n",
       "    .dataframe tbody tr th {\n",
       "        vertical-align: top;\n",
       "    }\n",
       "\n",
       "    .dataframe thead th {\n",
       "        text-align: right;\n",
       "    }\n",
       "</style>\n",
       "<table border=\"1\" class=\"dataframe\">\n",
       "  <thead>\n",
       "    <tr style=\"text-align: right;\">\n",
       "      <th></th>\n",
       "      <th>popularity</th>\n",
       "      <th>budget</th>\n",
       "      <th>revenue</th>\n",
       "      <th>original_title</th>\n",
       "      <th>cast</th>\n",
       "      <th>director</th>\n",
       "      <th>runtime</th>\n",
       "      <th>genres</th>\n",
       "      <th>production_companies</th>\n",
       "      <th>release_date</th>\n",
       "      <th>vote_count</th>\n",
       "      <th>release_year</th>\n",
       "      <th>profit</th>\n",
       "    </tr>\n",
       "  </thead>\n",
       "  <tbody>\n",
       "    <tr>\n",
       "      <th>2618</th>\n",
       "      <td>0.090186</td>\n",
       "      <td>1.0</td>\n",
       "      <td>100.0</td>\n",
       "      <td>Lost &amp; Found</td>\n",
       "      <td>David Spade|Sophie Marceau|Ever Carradine|Step...</td>\n",
       "      <td>Jeff Pollack</td>\n",
       "      <td>95</td>\n",
       "      <td>Comedy</td>\n",
       "      <td>Alcon Entertainment|Dinamo Entertainment</td>\n",
       "      <td>1999-04-23</td>\n",
       "      <td>14</td>\n",
       "      <td>1999</td>\n",
       "      <td>99.0</td>\n",
       "    </tr>\n",
       "    <tr>\n",
       "      <th>2618</th>\n",
       "      <td>0.090186</td>\n",
       "      <td>1.0</td>\n",
       "      <td>100.0</td>\n",
       "      <td>Lost &amp; Found</td>\n",
       "      <td>David Spade|Sophie Marceau|Ever Carradine|Step...</td>\n",
       "      <td>Jeff Pollack</td>\n",
       "      <td>95</td>\n",
       "      <td>Romance</td>\n",
       "      <td>Alcon Entertainment|Dinamo Entertainment</td>\n",
       "      <td>1999-04-23</td>\n",
       "      <td>14</td>\n",
       "      <td>1999</td>\n",
       "      <td>99.0</td>\n",
       "    </tr>\n",
       "  </tbody>\n",
       "</table>\n",
       "</div>"
      ],
      "text/plain": [
       "      popularity  budget  revenue original_title  \\\n",
       "2618    0.090186     1.0    100.0   Lost & Found   \n",
       "2618    0.090186     1.0    100.0   Lost & Found   \n",
       "\n",
       "                                                   cast      director  \\\n",
       "2618  David Spade|Sophie Marceau|Ever Carradine|Step...  Jeff Pollack   \n",
       "2618  David Spade|Sophie Marceau|Ever Carradine|Step...  Jeff Pollack   \n",
       "\n",
       "      runtime   genres                      production_companies release_date  \\\n",
       "2618       95   Comedy  Alcon Entertainment|Dinamo Entertainment   1999-04-23   \n",
       "2618       95  Romance  Alcon Entertainment|Dinamo Entertainment   1999-04-23   \n",
       "\n",
       "      vote_count  release_year  profit  \n",
       "2618          14          1999    99.0  \n",
       "2618          14          1999    99.0  "
      ]
     },
     "execution_count": 55,
     "metadata": {},
     "output_type": "execute_result"
    }
   ],
   "source": [
    "budges=df_movies.loc[df_movies['budget'].idxmin()]\n",
    "budges"
   ]
  },
  {
   "cell_type": "markdown",
   "id": "9ed765fe",
   "metadata": {},
   "source": [
    "This  shows that 'Lost & Found ' had the lowest budget"
   ]
  },
  {
   "cell_type": "markdown",
   "id": "3013dab1",
   "metadata": {},
   "source": [
    "# 4.Movies with highest and low revenue "
   ]
  },
  {
   "cell_type": "code",
   "execution_count": 56,
   "id": "7e9523a4",
   "metadata": {},
   "outputs": [
    {
     "data": {
      "text/html": [
       "<div>\n",
       "<style scoped>\n",
       "    .dataframe tbody tr th:only-of-type {\n",
       "        vertical-align: middle;\n",
       "    }\n",
       "\n",
       "    .dataframe tbody tr th {\n",
       "        vertical-align: top;\n",
       "    }\n",
       "\n",
       "    .dataframe thead th {\n",
       "        text-align: right;\n",
       "    }\n",
       "</style>\n",
       "<table border=\"1\" class=\"dataframe\">\n",
       "  <thead>\n",
       "    <tr style=\"text-align: right;\">\n",
       "      <th></th>\n",
       "      <th>popularity</th>\n",
       "      <th>budget</th>\n",
       "      <th>revenue</th>\n",
       "      <th>original_title</th>\n",
       "      <th>cast</th>\n",
       "      <th>director</th>\n",
       "      <th>runtime</th>\n",
       "      <th>genres</th>\n",
       "      <th>production_companies</th>\n",
       "      <th>release_date</th>\n",
       "      <th>vote_count</th>\n",
       "      <th>release_year</th>\n",
       "      <th>profit</th>\n",
       "    </tr>\n",
       "  </thead>\n",
       "  <tbody>\n",
       "    <tr>\n",
       "      <th>1386</th>\n",
       "      <td>9.432768</td>\n",
       "      <td>237000000.0</td>\n",
       "      <td>2.781506e+09</td>\n",
       "      <td>Avatar</td>\n",
       "      <td>Sam Worthington|Zoe Saldana|Sigourney Weaver|S...</td>\n",
       "      <td>James Cameron</td>\n",
       "      <td>162</td>\n",
       "      <td>Action</td>\n",
       "      <td>Ingenious Film Partners|Twentieth Century Fox ...</td>\n",
       "      <td>2009-12-10</td>\n",
       "      <td>8458</td>\n",
       "      <td>2009</td>\n",
       "      <td>2.544506e+09</td>\n",
       "    </tr>\n",
       "    <tr>\n",
       "      <th>1386</th>\n",
       "      <td>9.432768</td>\n",
       "      <td>237000000.0</td>\n",
       "      <td>2.781506e+09</td>\n",
       "      <td>Avatar</td>\n",
       "      <td>Sam Worthington|Zoe Saldana|Sigourney Weaver|S...</td>\n",
       "      <td>James Cameron</td>\n",
       "      <td>162</td>\n",
       "      <td>Adventure</td>\n",
       "      <td>Ingenious Film Partners|Twentieth Century Fox ...</td>\n",
       "      <td>2009-12-10</td>\n",
       "      <td>8458</td>\n",
       "      <td>2009</td>\n",
       "      <td>2.544506e+09</td>\n",
       "    </tr>\n",
       "    <tr>\n",
       "      <th>1386</th>\n",
       "      <td>9.432768</td>\n",
       "      <td>237000000.0</td>\n",
       "      <td>2.781506e+09</td>\n",
       "      <td>Avatar</td>\n",
       "      <td>Sam Worthington|Zoe Saldana|Sigourney Weaver|S...</td>\n",
       "      <td>James Cameron</td>\n",
       "      <td>162</td>\n",
       "      <td>Fantasy</td>\n",
       "      <td>Ingenious Film Partners|Twentieth Century Fox ...</td>\n",
       "      <td>2009-12-10</td>\n",
       "      <td>8458</td>\n",
       "      <td>2009</td>\n",
       "      <td>2.544506e+09</td>\n",
       "    </tr>\n",
       "    <tr>\n",
       "      <th>1386</th>\n",
       "      <td>9.432768</td>\n",
       "      <td>237000000.0</td>\n",
       "      <td>2.781506e+09</td>\n",
       "      <td>Avatar</td>\n",
       "      <td>Sam Worthington|Zoe Saldana|Sigourney Weaver|S...</td>\n",
       "      <td>James Cameron</td>\n",
       "      <td>162</td>\n",
       "      <td>Science Fiction</td>\n",
       "      <td>Ingenious Film Partners|Twentieth Century Fox ...</td>\n",
       "      <td>2009-12-10</td>\n",
       "      <td>8458</td>\n",
       "      <td>2009</td>\n",
       "      <td>2.544506e+09</td>\n",
       "    </tr>\n",
       "  </tbody>\n",
       "</table>\n",
       "</div>"
      ],
      "text/plain": [
       "      popularity       budget       revenue original_title  \\\n",
       "1386    9.432768  237000000.0  2.781506e+09         Avatar   \n",
       "1386    9.432768  237000000.0  2.781506e+09         Avatar   \n",
       "1386    9.432768  237000000.0  2.781506e+09         Avatar   \n",
       "1386    9.432768  237000000.0  2.781506e+09         Avatar   \n",
       "\n",
       "                                                   cast       director  \\\n",
       "1386  Sam Worthington|Zoe Saldana|Sigourney Weaver|S...  James Cameron   \n",
       "1386  Sam Worthington|Zoe Saldana|Sigourney Weaver|S...  James Cameron   \n",
       "1386  Sam Worthington|Zoe Saldana|Sigourney Weaver|S...  James Cameron   \n",
       "1386  Sam Worthington|Zoe Saldana|Sigourney Weaver|S...  James Cameron   \n",
       "\n",
       "      runtime           genres  \\\n",
       "1386      162           Action   \n",
       "1386      162        Adventure   \n",
       "1386      162          Fantasy   \n",
       "1386      162  Science Fiction   \n",
       "\n",
       "                                   production_companies release_date  \\\n",
       "1386  Ingenious Film Partners|Twentieth Century Fox ...   2009-12-10   \n",
       "1386  Ingenious Film Partners|Twentieth Century Fox ...   2009-12-10   \n",
       "1386  Ingenious Film Partners|Twentieth Century Fox ...   2009-12-10   \n",
       "1386  Ingenious Film Partners|Twentieth Century Fox ...   2009-12-10   \n",
       "\n",
       "      vote_count  release_year        profit  \n",
       "1386        8458          2009  2.544506e+09  \n",
       "1386        8458          2009  2.544506e+09  \n",
       "1386        8458          2009  2.544506e+09  \n",
       "1386        8458          2009  2.544506e+09  "
      ]
     },
     "execution_count": 56,
     "metadata": {},
     "output_type": "execute_result"
    }
   ],
   "source": [
    "revenue=df_movies.loc[df_movies['revenue'].idxmax()]\n",
    "revenue"
   ]
  },
  {
   "cell_type": "markdown",
   "id": "17bef669",
   "metadata": {},
   "source": [
    "Avatar had the highest revenue with a high profit"
   ]
  },
  {
   "cell_type": "code",
   "execution_count": 57,
   "id": "2d98075b",
   "metadata": {},
   "outputs": [
    {
     "data": {
      "text/html": [
       "<div>\n",
       "<style scoped>\n",
       "    .dataframe tbody tr th:only-of-type {\n",
       "        vertical-align: middle;\n",
       "    }\n",
       "\n",
       "    .dataframe tbody tr th {\n",
       "        vertical-align: top;\n",
       "    }\n",
       "\n",
       "    .dataframe thead th {\n",
       "        text-align: right;\n",
       "    }\n",
       "</style>\n",
       "<table border=\"1\" class=\"dataframe\">\n",
       "  <thead>\n",
       "    <tr style=\"text-align: right;\">\n",
       "      <th></th>\n",
       "      <th>popularity</th>\n",
       "      <th>budget</th>\n",
       "      <th>revenue</th>\n",
       "      <th>original_title</th>\n",
       "      <th>cast</th>\n",
       "      <th>director</th>\n",
       "      <th>runtime</th>\n",
       "      <th>genres</th>\n",
       "      <th>production_companies</th>\n",
       "      <th>release_date</th>\n",
       "      <th>vote_count</th>\n",
       "      <th>release_year</th>\n",
       "      <th>profit</th>\n",
       "    </tr>\n",
       "  </thead>\n",
       "  <tbody>\n",
       "    <tr>\n",
       "      <th>5067</th>\n",
       "      <td>0.462609</td>\n",
       "      <td>6000000.0</td>\n",
       "      <td>2.0</td>\n",
       "      <td>Shattered Glass</td>\n",
       "      <td>Hayden Christensen|Peter Sarsgaard|ChloÃ« Sevi...</td>\n",
       "      <td>Billy Ray</td>\n",
       "      <td>94</td>\n",
       "      <td>Drama</td>\n",
       "      <td>Lions Gate Films|Cruise/Wagner Productions|Bau...</td>\n",
       "      <td>2003-11-14</td>\n",
       "      <td>46</td>\n",
       "      <td>2003</td>\n",
       "      <td>-5999998.0</td>\n",
       "    </tr>\n",
       "    <tr>\n",
       "      <th>5067</th>\n",
       "      <td>0.462609</td>\n",
       "      <td>6000000.0</td>\n",
       "      <td>2.0</td>\n",
       "      <td>Shattered Glass</td>\n",
       "      <td>Hayden Christensen|Peter Sarsgaard|ChloÃ« Sevi...</td>\n",
       "      <td>Billy Ray</td>\n",
       "      <td>94</td>\n",
       "      <td>History</td>\n",
       "      <td>Lions Gate Films|Cruise/Wagner Productions|Bau...</td>\n",
       "      <td>2003-11-14</td>\n",
       "      <td>46</td>\n",
       "      <td>2003</td>\n",
       "      <td>-5999998.0</td>\n",
       "    </tr>\n",
       "  </tbody>\n",
       "</table>\n",
       "</div>"
      ],
      "text/plain": [
       "      popularity     budget  revenue   original_title  \\\n",
       "5067    0.462609  6000000.0      2.0  Shattered Glass   \n",
       "5067    0.462609  6000000.0      2.0  Shattered Glass   \n",
       "\n",
       "                                                   cast   director  runtime  \\\n",
       "5067  Hayden Christensen|Peter Sarsgaard|ChloÃ« Sevi...  Billy Ray       94   \n",
       "5067  Hayden Christensen|Peter Sarsgaard|ChloÃ« Sevi...  Billy Ray       94   \n",
       "\n",
       "       genres                               production_companies release_date  \\\n",
       "5067    Drama  Lions Gate Films|Cruise/Wagner Productions|Bau...   2003-11-14   \n",
       "5067  History  Lions Gate Films|Cruise/Wagner Productions|Bau...   2003-11-14   \n",
       "\n",
       "      vote_count  release_year     profit  \n",
       "5067          46          2003 -5999998.0  \n",
       "5067          46          2003 -5999998.0  "
      ]
     },
     "execution_count": 57,
     "metadata": {},
     "output_type": "execute_result"
    }
   ],
   "source": [
    "revenues=df_movies.loc[df_movies['revenue'].idxmin()]\n",
    "revenues"
   ]
  },
  {
   "cell_type": "markdown",
   "id": "60248db5",
   "metadata": {},
   "source": [
    "'Shattered Glass' has the lowest revenue with a low profit\n",
    "\n",
    "this shows that 'revenue' and 'profit' are positively correlated I.e increase in revenue will lead to an increase in profit and \n",
    "\n",
    "vice versa\n",
    "\n",
    "I would use a scatter plot to visualise the statement"
   ]
  },
  {
   "cell_type": "code",
   "execution_count": 58,
   "id": "ee1d36f9",
   "metadata": {},
   "outputs": [
    {
     "data": {
      "text/plain": [
       "<AxesSubplot:xlabel='revenue', ylabel='profit'>"
      ]
     },
     "execution_count": 58,
     "metadata": {},
     "output_type": "execute_result"
    },
    {
     "data": {
      "image/png": "[encoded data removed]",
      "text/plain": [
       "<Figure size 432x288 with 1 Axes>"
      ]
     },
     "metadata": {
      "needs_background": "light"
     },
     "output_type": "display_data"
    }
   ],
   "source": [
    "df_movies.plot(x='revenue',y='profit',kind= 'scatter')"
   ]
  },
  {
   "cell_type": "markdown",
   "id": "cb35bc98",
   "metadata": {},
   "source": [
    "# 5.Does the budget of a movie determine its profit"
   ]
  },
  {
   "cell_type": "code",
   "execution_count": 59,
   "id": "4f27ce41",
   "metadata": {},
   "outputs": [
    {
     "data": {
      "text/plain": [
       "<AxesSubplot:xlabel='budget', ylabel='profit'>"
      ]
     },
     "execution_count": 59,
     "metadata": {},
     "output_type": "execute_result"
    },
    {
     "data": {
      "image/png": "[encoded data removed]",
      "text/plain": [
       "<Figure size 432x288 with 1 Axes>"
      ]
     },
     "metadata": {
      "needs_background": "light"
     },
     "output_type": "display_data"
    }
   ],
   "source": [
    "df_movies.plot(x='budget',y='profit',kind= 'scatter')"
   ]
  },
  {
   "cell_type": "markdown",
   "id": "2892dc37",
   "metadata": {},
   "source": [
    "there is. really no meaningful correlation between budget and profit\n",
    "\n",
    "No,budget of a movie doesn't determine its profit "
   ]
  },
  {
   "cell_type": "markdown",
   "id": "d83f5be6",
   "metadata": {},
   "source": [
    "# 6.Which year has the highest profit rate"
   ]
  },
  {
   "cell_type": "code",
   "execution_count": 60,
   "id": "cd7fc9fb",
   "metadata": {},
   "outputs": [
    {
     "data": {
      "text/plain": [
       "release_year\n",
       "1960    2.289244e+07\n",
       "1961    4.588070e+07\n",
       "1962    3.531311e+07\n",
       "1963    1.788964e+07\n",
       "1964    4.684874e+07\n",
       "1965    9.072399e+07\n",
       "1966    8.558391e+06\n",
       "1967    4.760170e+07\n",
       "1968    2.052652e+07\n",
       "1969    6.401332e+07\n",
       "1970    3.495869e+07\n",
       "1971    2.685791e+07\n",
       "1972    5.612609e+07\n",
       "1973    9.647959e+07\n",
       "1974    4.586174e+07\n",
       "1975    1.055635e+08\n",
       "1976    4.183239e+07\n",
       "1977    8.360949e+07\n",
       "1978    5.094590e+07\n",
       "1979    6.183686e+07\n",
       "1980    4.760658e+07\n",
       "1981    4.332968e+07\n",
       "1982    7.628011e+07\n",
       "1983    4.690820e+07\n",
       "1984    4.688787e+07\n",
       "1985    4.199428e+07\n",
       "1986    3.541605e+07\n",
       "1987    4.996660e+07\n",
       "1988    4.027929e+07\n",
       "1989    7.288417e+07\n",
       "1990    6.721930e+07\n",
       "1991    6.877197e+07\n",
       "1992    8.680253e+07\n",
       "1993    6.284998e+07\n",
       "1994    8.102868e+07\n",
       "1995    8.511858e+07\n",
       "1996    6.069741e+07\n",
       "1997    7.272499e+07\n",
       "1998    6.113555e+07\n",
       "1999    5.615632e+07\n",
       "2000    5.499744e+07\n",
       "2001    7.843965e+07\n",
       "2002    7.413817e+07\n",
       "2003    8.125008e+07\n",
       "2004    7.629824e+07\n",
       "2005    6.231117e+07\n",
       "2006    5.577074e+07\n",
       "2007    8.653267e+07\n",
       "2008    7.373627e+07\n",
       "2009    1.007073e+08\n",
       "2010    8.396822e+07\n",
       "2011    8.965257e+07\n",
       "2012    1.237307e+08\n",
       "2013    1.052956e+08\n",
       "2014    1.283211e+08\n",
       "2015    1.456164e+08\n",
       "Name: profit, dtype: float64"
      ]
     },
     "execution_count": 60,
     "metadata": {},
     "output_type": "execute_result"
    }
   ],
   "source": [
    "\n",
    "move=df_movies.groupby('release_year')['profit'].mean()\n",
    "move "
   ]
  },
  {
   "cell_type": "markdown",
   "id": "dbef1a11",
   "metadata": {},
   "source": [
    "This gives a list of a yearly profit\n",
    "\n"
   ]
  },
  {
   "cell_type": "code",
   "execution_count": 61,
   "id": "fcd5e564",
   "metadata": {},
   "outputs": [],
   "source": [
    "profits_year = df_movies.groupby('release_year')['profit'].sum()\n"
   ]
  },
  {
   "cell_type": "code",
   "execution_count": 62,
   "id": "aababf3a",
   "metadata": {},
   "outputs": [
    {
     "data": {
      "text/plain": [
       "2015"
      ]
     },
     "execution_count": 62,
     "metadata": {},
     "output_type": "execute_result"
    }
   ],
   "source": [
    "profits_year.idxmax()"
   ]
  },
  {
   "cell_type": "markdown",
   "id": "7c0955d1",
   "metadata": {},
   "source": [
    " '2015' has the highest profit rate with a profit of 1.456164e+08"
   ]
  },
  {
   "cell_type": "code",
   "execution_count": 63,
   "id": "850c67f2",
   "metadata": {},
   "outputs": [
    {
     "data": {
      "text/plain": [
       "1966"
      ]
     },
     "execution_count": 63,
     "metadata": {},
     "output_type": "execute_result"
    }
   ],
   "source": [
    "profits_year.idxmin()"
   ]
  },
  {
   "cell_type": "markdown",
   "id": "a81082c1",
   "metadata": {},
   "source": [
    "'1966' has lowest profit rate with a profit of 8.558391e+06"
   ]
  },
  {
   "cell_type": "markdown",
   "id": "e3d550be",
   "metadata": {},
   "source": [
    "# 7.Movie with highest vote count"
   ]
  },
  {
   "cell_type": "code",
   "execution_count": 64,
   "id": "4fb07857",
   "metadata": {},
   "outputs": [
    {
     "data": {
      "text/html": [
       "<div>\n",
       "<style scoped>\n",
       "    .dataframe tbody tr th:only-of-type {\n",
       "        vertical-align: middle;\n",
       "    }\n",
       "\n",
       "    .dataframe tbody tr th {\n",
       "        vertical-align: top;\n",
       "    }\n",
       "\n",
       "    .dataframe thead th {\n",
       "        text-align: right;\n",
       "    }\n",
       "</style>\n",
       "<table border=\"1\" class=\"dataframe\">\n",
       "  <thead>\n",
       "    <tr style=\"text-align: right;\">\n",
       "      <th></th>\n",
       "      <th>popularity</th>\n",
       "      <th>budget</th>\n",
       "      <th>revenue</th>\n",
       "      <th>original_title</th>\n",
       "      <th>cast</th>\n",
       "      <th>director</th>\n",
       "      <th>runtime</th>\n",
       "      <th>genres</th>\n",
       "      <th>production_companies</th>\n",
       "      <th>release_date</th>\n",
       "      <th>vote_count</th>\n",
       "      <th>release_year</th>\n",
       "      <th>profit</th>\n",
       "    </tr>\n",
       "  </thead>\n",
       "  <tbody>\n",
       "    <tr>\n",
       "      <th>1919</th>\n",
       "      <td>9.363643</td>\n",
       "      <td>160000000.0</td>\n",
       "      <td>825500000.0</td>\n",
       "      <td>Inception</td>\n",
       "      <td>Leonardo DiCaprio|Joseph Gordon-Levitt|Ellen P...</td>\n",
       "      <td>Christopher Nolan</td>\n",
       "      <td>148</td>\n",
       "      <td>Action</td>\n",
       "      <td>Legendary Pictures|Warner Bros.|Syncopy</td>\n",
       "      <td>2010-07-14</td>\n",
       "      <td>9767</td>\n",
       "      <td>2010</td>\n",
       "      <td>665500000.0</td>\n",
       "    </tr>\n",
       "    <tr>\n",
       "      <th>1919</th>\n",
       "      <td>9.363643</td>\n",
       "      <td>160000000.0</td>\n",
       "      <td>825500000.0</td>\n",
       "      <td>Inception</td>\n",
       "      <td>Leonardo DiCaprio|Joseph Gordon-Levitt|Ellen P...</td>\n",
       "      <td>Christopher Nolan</td>\n",
       "      <td>148</td>\n",
       "      <td>Thriller</td>\n",
       "      <td>Legendary Pictures|Warner Bros.|Syncopy</td>\n",
       "      <td>2010-07-14</td>\n",
       "      <td>9767</td>\n",
       "      <td>2010</td>\n",
       "      <td>665500000.0</td>\n",
       "    </tr>\n",
       "    <tr>\n",
       "      <th>1919</th>\n",
       "      <td>9.363643</td>\n",
       "      <td>160000000.0</td>\n",
       "      <td>825500000.0</td>\n",
       "      <td>Inception</td>\n",
       "      <td>Leonardo DiCaprio|Joseph Gordon-Levitt|Ellen P...</td>\n",
       "      <td>Christopher Nolan</td>\n",
       "      <td>148</td>\n",
       "      <td>Science Fiction</td>\n",
       "      <td>Legendary Pictures|Warner Bros.|Syncopy</td>\n",
       "      <td>2010-07-14</td>\n",
       "      <td>9767</td>\n",
       "      <td>2010</td>\n",
       "      <td>665500000.0</td>\n",
       "    </tr>\n",
       "    <tr>\n",
       "      <th>1919</th>\n",
       "      <td>9.363643</td>\n",
       "      <td>160000000.0</td>\n",
       "      <td>825500000.0</td>\n",
       "      <td>Inception</td>\n",
       "      <td>Leonardo DiCaprio|Joseph Gordon-Levitt|Ellen P...</td>\n",
       "      <td>Christopher Nolan</td>\n",
       "      <td>148</td>\n",
       "      <td>Mystery</td>\n",
       "      <td>Legendary Pictures|Warner Bros.|Syncopy</td>\n",
       "      <td>2010-07-14</td>\n",
       "      <td>9767</td>\n",
       "      <td>2010</td>\n",
       "      <td>665500000.0</td>\n",
       "    </tr>\n",
       "    <tr>\n",
       "      <th>1919</th>\n",
       "      <td>9.363643</td>\n",
       "      <td>160000000.0</td>\n",
       "      <td>825500000.0</td>\n",
       "      <td>Inception</td>\n",
       "      <td>Leonardo DiCaprio|Joseph Gordon-Levitt|Ellen P...</td>\n",
       "      <td>Christopher Nolan</td>\n",
       "      <td>148</td>\n",
       "      <td>Adventure</td>\n",
       "      <td>Legendary Pictures|Warner Bros.|Syncopy</td>\n",
       "      <td>2010-07-14</td>\n",
       "      <td>9767</td>\n",
       "      <td>2010</td>\n",
       "      <td>665500000.0</td>\n",
       "    </tr>\n",
       "  </tbody>\n",
       "</table>\n",
       "</div>"
      ],
      "text/plain": [
       "      popularity       budget      revenue original_title  \\\n",
       "1919    9.363643  160000000.0  825500000.0      Inception   \n",
       "1919    9.363643  160000000.0  825500000.0      Inception   \n",
       "1919    9.363643  160000000.0  825500000.0      Inception   \n",
       "1919    9.363643  160000000.0  825500000.0      Inception   \n",
       "1919    9.363643  160000000.0  825500000.0      Inception   \n",
       "\n",
       "                                                   cast           director  \\\n",
       "1919  Leonardo DiCaprio|Joseph Gordon-Levitt|Ellen P...  Christopher Nolan   \n",
       "1919  Leonardo DiCaprio|Joseph Gordon-Levitt|Ellen P...  Christopher Nolan   \n",
       "1919  Leonardo DiCaprio|Joseph Gordon-Levitt|Ellen P...  Christopher Nolan   \n",
       "1919  Leonardo DiCaprio|Joseph Gordon-Levitt|Ellen P...  Christopher Nolan   \n",
       "1919  Leonardo DiCaprio|Joseph Gordon-Levitt|Ellen P...  Christopher Nolan   \n",
       "\n",
       "      runtime           genres                     production_companies  \\\n",
       "1919      148           Action  Legendary Pictures|Warner Bros.|Syncopy   \n",
       "1919      148         Thriller  Legendary Pictures|Warner Bros.|Syncopy   \n",
       "1919      148  Science Fiction  Legendary Pictures|Warner Bros.|Syncopy   \n",
       "1919      148          Mystery  Legendary Pictures|Warner Bros.|Syncopy   \n",
       "1919      148        Adventure  Legendary Pictures|Warner Bros.|Syncopy   \n",
       "\n",
       "     release_date  vote_count  release_year       profit  \n",
       "1919   2010-07-14        9767          2010  665500000.0  \n",
       "1919   2010-07-14        9767          2010  665500000.0  \n",
       "1919   2010-07-14        9767          2010  665500000.0  \n",
       "1919   2010-07-14        9767          2010  665500000.0  \n",
       "1919   2010-07-14        9767          2010  665500000.0  "
      ]
     },
     "execution_count": 64,
     "metadata": {},
     "output_type": "execute_result"
    }
   ],
   "source": [
    "votes=df_movies.loc[df_movies['vote_count'].idxmax()]\n",
    "votes"
   ]
  },
  {
   "cell_type": "markdown",
   "id": "d074d766",
   "metadata": {},
   "source": [
    "'Inception' has the highest vote count ,it's seen that with respect to vote count; popularity,profit,revenue increases showing \n",
    "\n",
    "a correlation \n",
    "\n",
    "a scatter plot will show correlation"
   ]
  },
  {
   "cell_type": "code",
   "execution_count": 65,
   "id": "4fd7fea7",
   "metadata": {},
   "outputs": [
    {
     "data": {
      "text/plain": [
       "<AxesSubplot:xlabel='profit', ylabel='vote_count'>"
      ]
     },
     "execution_count": 65,
     "metadata": {},
     "output_type": "execute_result"
    },
    {
     "data": {
      "image/png": "[encoded data removed]",
      "text/plain": [
       "<Figure size 432x288 with 1 Axes>"
      ]
     },
     "metadata": {
      "needs_background": "light"
     },
     "output_type": "display_data"
    }
   ],
   "source": [
    "df_movies.plot(y='vote_count',x='profit',kind= 'scatter')"
   ]
  },
  {
   "cell_type": "code",
   "execution_count": 66,
   "id": "2dafa0f2",
   "metadata": {},
   "outputs": [
    {
     "data": {
      "text/plain": [
       "<AxesSubplot:xlabel='popularity', ylabel='vote_count'>"
      ]
     },
     "execution_count": 66,
     "metadata": {},
     "output_type": "execute_result"
    },
    {
     "data": {
      "image/png": "[encoded data removed]",
      "text/plain": [
       "<Figure size 432x288 with 1 Axes>"
      ]
     },
     "metadata": {
      "needs_background": "light"
     },
     "output_type": "display_data"
    }
   ],
   "source": [
    "df_movies.plot(y='vote_count',x='popularity',kind= 'scatter')"
   ]
  },
  {
   "cell_type": "code",
   "execution_count": 67,
   "id": "e4044b5b",
   "metadata": {},
   "outputs": [
    {
     "data": {
      "text/plain": [
       "<AxesSubplot:xlabel='revenue', ylabel='vote_count'>"
      ]
     },
     "execution_count": 67,
     "metadata": {},
     "output_type": "execute_result"
    },
    {
     "data": {
      "image/png": "[encoded data removed]",
      "text/plain": [
       "<Figure size 432x288 with 1 Axes>"
      ]
     },
     "metadata": {
      "needs_background": "light"
     },
     "output_type": "display_data"
    }
   ],
   "source": [
    "df_movies.plot(y='vote_count',x='revenue',kind= 'scatter')"
   ]
  },
  {
   "cell_type": "markdown",
   "id": "aaa5c1e4",
   "metadata": {},
   "source": [
    "All this shows a positive correlation "
   ]
  },
  {
   "cell_type": "code",
   "execution_count": 68,
   "id": "336b8d76",
   "metadata": {},
   "outputs": [
    {
     "data": {
      "text/html": [
       "<div>\n",
       "<style scoped>\n",
       "    .dataframe tbody tr th:only-of-type {\n",
       "        vertical-align: middle;\n",
       "    }\n",
       "\n",
       "    .dataframe tbody tr th {\n",
       "        vertical-align: top;\n",
       "    }\n",
       "\n",
       "    .dataframe thead th {\n",
       "        text-align: right;\n",
       "    }\n",
       "</style>\n",
       "<table border=\"1\" class=\"dataframe\">\n",
       "  <thead>\n",
       "    <tr style=\"text-align: right;\">\n",
       "      <th></th>\n",
       "      <th>popularity</th>\n",
       "      <th>budget</th>\n",
       "      <th>revenue</th>\n",
       "      <th>original_title</th>\n",
       "      <th>cast</th>\n",
       "      <th>director</th>\n",
       "      <th>runtime</th>\n",
       "      <th>genres</th>\n",
       "      <th>production_companies</th>\n",
       "      <th>release_date</th>\n",
       "      <th>vote_count</th>\n",
       "      <th>release_year</th>\n",
       "      <th>profit</th>\n",
       "    </tr>\n",
       "  </thead>\n",
       "  <tbody>\n",
       "    <tr>\n",
       "      <th>1818</th>\n",
       "      <td>0.159638</td>\n",
       "      <td>1500000.0</td>\n",
       "      <td>56000.0</td>\n",
       "      <td>Beautiful</td>\n",
       "      <td>Deborra-Lee Furness|Peta Wilson|Aaron Jeffery|...</td>\n",
       "      <td>Dean O'Flaherty</td>\n",
       "      <td>97</td>\n",
       "      <td>Drama</td>\n",
       "      <td>Kojo Pictures</td>\n",
       "      <td>2009-04-27</td>\n",
       "      <td>10</td>\n",
       "      <td>2009</td>\n",
       "      <td>-1444000.0</td>\n",
       "    </tr>\n",
       "    <tr>\n",
       "      <th>1818</th>\n",
       "      <td>0.159638</td>\n",
       "      <td>1500000.0</td>\n",
       "      <td>56000.0</td>\n",
       "      <td>Beautiful</td>\n",
       "      <td>Deborra-Lee Furness|Peta Wilson|Aaron Jeffery|...</td>\n",
       "      <td>Dean O'Flaherty</td>\n",
       "      <td>97</td>\n",
       "      <td>Mystery</td>\n",
       "      <td>Kojo Pictures</td>\n",
       "      <td>2009-04-27</td>\n",
       "      <td>10</td>\n",
       "      <td>2009</td>\n",
       "      <td>-1444000.0</td>\n",
       "    </tr>\n",
       "    <tr>\n",
       "      <th>1818</th>\n",
       "      <td>0.159638</td>\n",
       "      <td>1500000.0</td>\n",
       "      <td>56000.0</td>\n",
       "      <td>Beautiful</td>\n",
       "      <td>Deborra-Lee Furness|Peta Wilson|Aaron Jeffery|...</td>\n",
       "      <td>Dean O'Flaherty</td>\n",
       "      <td>97</td>\n",
       "      <td>Thriller</td>\n",
       "      <td>Kojo Pictures</td>\n",
       "      <td>2009-04-27</td>\n",
       "      <td>10</td>\n",
       "      <td>2009</td>\n",
       "      <td>-1444000.0</td>\n",
       "    </tr>\n",
       "  </tbody>\n",
       "</table>\n",
       "</div>"
      ],
      "text/plain": [
       "      popularity     budget  revenue original_title  \\\n",
       "1818    0.159638  1500000.0  56000.0      Beautiful   \n",
       "1818    0.159638  1500000.0  56000.0      Beautiful   \n",
       "1818    0.159638  1500000.0  56000.0      Beautiful   \n",
       "\n",
       "                                                   cast         director  \\\n",
       "1818  Deborra-Lee Furness|Peta Wilson|Aaron Jeffery|...  Dean O'Flaherty   \n",
       "1818  Deborra-Lee Furness|Peta Wilson|Aaron Jeffery|...  Dean O'Flaherty   \n",
       "1818  Deborra-Lee Furness|Peta Wilson|Aaron Jeffery|...  Dean O'Flaherty   \n",
       "\n",
       "      runtime    genres production_companies release_date  vote_count  \\\n",
       "1818       97     Drama        Kojo Pictures   2009-04-27          10   \n",
       "1818       97   Mystery        Kojo Pictures   2009-04-27          10   \n",
       "1818       97  Thriller        Kojo Pictures   2009-04-27          10   \n",
       "\n",
       "      release_year     profit  \n",
       "1818          2009 -1444000.0  \n",
       "1818          2009 -1444000.0  \n",
       "1818          2009 -1444000.0  "
      ]
     },
     "execution_count": 68,
     "metadata": {},
     "output_type": "execute_result"
    }
   ],
   "source": [
    "vote=df_movies.loc[df_movies['vote_count'].idxmin()]\n",
    "vote"
   ]
  },
  {
   "cell_type": "markdown",
   "id": "46c13e35",
   "metadata": {},
   "source": [
    "'Beautiful' has the lowest  votecount with a decrease in popularity  and profit"
   ]
  },
  {
   "cell_type": "markdown",
   "id": "8209aacd",
   "metadata": {},
   "source": [
    "# 8.Top 6 profitable movies"
   ]
  },
  {
   "cell_type": "code",
   "execution_count": 69,
   "id": "1c2bd020",
   "metadata": {},
   "outputs": [],
   "source": [
    "profit = df_movies.groupby(['original_title', 'popularity','genres', 'release_year', 'revenue','budget'])['profit'].sum()\n",
    "profit = profit.reset_index().sort_values(by='profit', ascending=False)[:19]"
   ]
  },
  {
   "cell_type": "code",
   "execution_count": 70,
   "id": "b50e5a78",
   "metadata": {},
   "outputs": [
    {
     "data": {
      "text/html": [
       "<div>\n",
       "<style scoped>\n",
       "    .dataframe tbody tr th:only-of-type {\n",
       "        vertical-align: middle;\n",
       "    }\n",
       "\n",
       "    .dataframe tbody tr th {\n",
       "        vertical-align: top;\n",
       "    }\n",
       "\n",
       "    .dataframe thead th {\n",
       "        text-align: right;\n",
       "    }\n",
       "</style>\n",
       "<table border=\"1\" class=\"dataframe\">\n",
       "  <thead>\n",
       "    <tr style=\"text-align: right;\">\n",
       "      <th></th>\n",
       "      <th>original_title</th>\n",
       "      <th>popularity</th>\n",
       "      <th>genres</th>\n",
       "      <th>release_year</th>\n",
       "      <th>revenue</th>\n",
       "      <th>budget</th>\n",
       "      <th>profit</th>\n",
       "    </tr>\n",
       "  </thead>\n",
       "  <tbody>\n",
       "    <tr>\n",
       "      <th>741</th>\n",
       "      <td>Avatar</td>\n",
       "      <td>9.432768</td>\n",
       "      <td>Science Fiction</td>\n",
       "      <td>2009</td>\n",
       "      <td>2.781506e+09</td>\n",
       "      <td>237000000.0</td>\n",
       "      <td>2.544506e+09</td>\n",
       "    </tr>\n",
       "    <tr>\n",
       "      <th>738</th>\n",
       "      <td>Avatar</td>\n",
       "      <td>9.432768</td>\n",
       "      <td>Action</td>\n",
       "      <td>2009</td>\n",
       "      <td>2.781506e+09</td>\n",
       "      <td>237000000.0</td>\n",
       "      <td>2.544506e+09</td>\n",
       "    </tr>\n",
       "    <tr>\n",
       "      <th>740</th>\n",
       "      <td>Avatar</td>\n",
       "      <td>9.432768</td>\n",
       "      <td>Fantasy</td>\n",
       "      <td>2009</td>\n",
       "      <td>2.781506e+09</td>\n",
       "      <td>237000000.0</td>\n",
       "      <td>2.544506e+09</td>\n",
       "    </tr>\n",
       "    <tr>\n",
       "      <th>739</th>\n",
       "      <td>Avatar</td>\n",
       "      <td>9.432768</td>\n",
       "      <td>Adventure</td>\n",
       "      <td>2009</td>\n",
       "      <td>2.781506e+09</td>\n",
       "      <td>237000000.0</td>\n",
       "      <td>2.544506e+09</td>\n",
       "    </tr>\n",
       "    <tr>\n",
       "      <th>6850</th>\n",
       "      <td>Star Wars: The Force Awakens</td>\n",
       "      <td>11.173104</td>\n",
       "      <td>Adventure</td>\n",
       "      <td>2015</td>\n",
       "      <td>2.068178e+09</td>\n",
       "      <td>200000000.0</td>\n",
       "      <td>1.868178e+09</td>\n",
       "    </tr>\n",
       "    <tr>\n",
       "      <th>6849</th>\n",
       "      <td>Star Wars: The Force Awakens</td>\n",
       "      <td>11.173104</td>\n",
       "      <td>Action</td>\n",
       "      <td>2015</td>\n",
       "      <td>2.068178e+09</td>\n",
       "      <td>200000000.0</td>\n",
       "      <td>1.868178e+09</td>\n",
       "    </tr>\n",
       "    <tr>\n",
       "      <th>6852</th>\n",
       "      <td>Star Wars: The Force Awakens</td>\n",
       "      <td>11.173104</td>\n",
       "      <td>Science Fiction</td>\n",
       "      <td>2015</td>\n",
       "      <td>2.068178e+09</td>\n",
       "      <td>200000000.0</td>\n",
       "      <td>1.868178e+09</td>\n",
       "    </tr>\n",
       "    <tr>\n",
       "      <th>6851</th>\n",
       "      <td>Star Wars: The Force Awakens</td>\n",
       "      <td>11.173104</td>\n",
       "      <td>Fantasy</td>\n",
       "      <td>2015</td>\n",
       "      <td>2.068178e+09</td>\n",
       "      <td>200000000.0</td>\n",
       "      <td>1.868178e+09</td>\n",
       "    </tr>\n",
       "    <tr>\n",
       "      <th>9384</th>\n",
       "      <td>Titanic</td>\n",
       "      <td>4.355219</td>\n",
       "      <td>Romance</td>\n",
       "      <td>1997</td>\n",
       "      <td>1.845034e+09</td>\n",
       "      <td>200000000.0</td>\n",
       "      <td>1.645034e+09</td>\n",
       "    </tr>\n",
       "    <tr>\n",
       "      <th>9385</th>\n",
       "      <td>Titanic</td>\n",
       "      <td>4.355219</td>\n",
       "      <td>Thriller</td>\n",
       "      <td>1997</td>\n",
       "      <td>1.845034e+09</td>\n",
       "      <td>200000000.0</td>\n",
       "      <td>1.645034e+09</td>\n",
       "    </tr>\n",
       "    <tr>\n",
       "      <th>9383</th>\n",
       "      <td>Titanic</td>\n",
       "      <td>4.355219</td>\n",
       "      <td>Drama</td>\n",
       "      <td>1997</td>\n",
       "      <td>1.845034e+09</td>\n",
       "      <td>200000000.0</td>\n",
       "      <td>1.645034e+09</td>\n",
       "    </tr>\n",
       "    <tr>\n",
       "      <th>4017</th>\n",
       "      <td>Jurassic World</td>\n",
       "      <td>32.985763</td>\n",
       "      <td>Science Fiction</td>\n",
       "      <td>2015</td>\n",
       "      <td>1.513529e+09</td>\n",
       "      <td>150000000.0</td>\n",
       "      <td>1.363529e+09</td>\n",
       "    </tr>\n",
       "    <tr>\n",
       "      <th>4016</th>\n",
       "      <td>Jurassic World</td>\n",
       "      <td>32.985763</td>\n",
       "      <td>Adventure</td>\n",
       "      <td>2015</td>\n",
       "      <td>1.513529e+09</td>\n",
       "      <td>150000000.0</td>\n",
       "      <td>1.363529e+09</td>\n",
       "    </tr>\n",
       "    <tr>\n",
       "      <th>4018</th>\n",
       "      <td>Jurassic World</td>\n",
       "      <td>32.985763</td>\n",
       "      <td>Thriller</td>\n",
       "      <td>2015</td>\n",
       "      <td>1.513529e+09</td>\n",
       "      <td>150000000.0</td>\n",
       "      <td>1.363529e+09</td>\n",
       "    </tr>\n",
       "    <tr>\n",
       "      <th>4015</th>\n",
       "      <td>Jurassic World</td>\n",
       "      <td>32.985763</td>\n",
       "      <td>Action</td>\n",
       "      <td>2015</td>\n",
       "      <td>1.513529e+09</td>\n",
       "      <td>150000000.0</td>\n",
       "      <td>1.363529e+09</td>\n",
       "    </tr>\n",
       "    <tr>\n",
       "      <th>2939</th>\n",
       "      <td>Furious 7</td>\n",
       "      <td>9.335014</td>\n",
       "      <td>Thriller</td>\n",
       "      <td>2015</td>\n",
       "      <td>1.506249e+09</td>\n",
       "      <td>190000000.0</td>\n",
       "      <td>1.316249e+09</td>\n",
       "    </tr>\n",
       "    <tr>\n",
       "      <th>2938</th>\n",
       "      <td>Furious 7</td>\n",
       "      <td>9.335014</td>\n",
       "      <td>Crime</td>\n",
       "      <td>2015</td>\n",
       "      <td>1.506249e+09</td>\n",
       "      <td>190000000.0</td>\n",
       "      <td>1.316249e+09</td>\n",
       "    </tr>\n",
       "    <tr>\n",
       "      <th>2937</th>\n",
       "      <td>Furious 7</td>\n",
       "      <td>9.335014</td>\n",
       "      <td>Action</td>\n",
       "      <td>2015</td>\n",
       "      <td>1.506249e+09</td>\n",
       "      <td>190000000.0</td>\n",
       "      <td>1.316249e+09</td>\n",
       "    </tr>\n",
       "    <tr>\n",
       "      <th>7355</th>\n",
       "      <td>The Avengers</td>\n",
       "      <td>7.637767</td>\n",
       "      <td>Action</td>\n",
       "      <td>2012</td>\n",
       "      <td>1.519558e+09</td>\n",
       "      <td>220000000.0</td>\n",
       "      <td>1.299558e+09</td>\n",
       "    </tr>\n",
       "  </tbody>\n",
       "</table>\n",
       "</div>"
      ],
      "text/plain": [
       "                    original_title  popularity           genres  release_year  \\\n",
       "741                         Avatar    9.432768  Science Fiction          2009   \n",
       "738                         Avatar    9.432768           Action          2009   \n",
       "740                         Avatar    9.432768          Fantasy          2009   \n",
       "739                         Avatar    9.432768        Adventure          2009   \n",
       "6850  Star Wars: The Force Awakens   11.173104        Adventure          2015   \n",
       "6849  Star Wars: The Force Awakens   11.173104           Action          2015   \n",
       "6852  Star Wars: The Force Awakens   11.173104  Science Fiction          2015   \n",
       "6851  Star Wars: The Force Awakens   11.173104          Fantasy          2015   \n",
       "9384                       Titanic    4.355219          Romance          1997   \n",
       "9385                       Titanic    4.355219         Thriller          1997   \n",
       "9383                       Titanic    4.355219            Drama          1997   \n",
       "4017                Jurassic World   32.985763  Science Fiction          2015   \n",
       "4016                Jurassic World   32.985763        Adventure          2015   \n",
       "4018                Jurassic World   32.985763         Thriller          2015   \n",
       "4015                Jurassic World   32.985763           Action          2015   \n",
       "2939                     Furious 7    9.335014         Thriller          2015   \n",
       "2938                     Furious 7    9.335014            Crime          2015   \n",
       "2937                     Furious 7    9.335014           Action          2015   \n",
       "7355                  The Avengers    7.637767           Action          2012   \n",
       "\n",
       "           revenue       budget        profit  \n",
       "741   2.781506e+09  237000000.0  2.544506e+09  \n",
       "738   2.781506e+09  237000000.0  2.544506e+09  \n",
       "740   2.781506e+09  237000000.0  2.544506e+09  \n",
       "739   2.781506e+09  237000000.0  2.544506e+09  \n",
       "6850  2.068178e+09  200000000.0  1.868178e+09  \n",
       "6849  2.068178e+09  200000000.0  1.868178e+09  \n",
       "6852  2.068178e+09  200000000.0  1.868178e+09  \n",
       "6851  2.068178e+09  200000000.0  1.868178e+09  \n",
       "9384  1.845034e+09  200000000.0  1.645034e+09  \n",
       "9385  1.845034e+09  200000000.0  1.645034e+09  \n",
       "9383  1.845034e+09  200000000.0  1.645034e+09  \n",
       "4017  1.513529e+09  150000000.0  1.363529e+09  \n",
       "4016  1.513529e+09  150000000.0  1.363529e+09  \n",
       "4018  1.513529e+09  150000000.0  1.363529e+09  \n",
       "4015  1.513529e+09  150000000.0  1.363529e+09  \n",
       "2939  1.506249e+09  190000000.0  1.316249e+09  \n",
       "2938  1.506249e+09  190000000.0  1.316249e+09  \n",
       "2937  1.506249e+09  190000000.0  1.316249e+09  \n",
       "7355  1.519558e+09  220000000.0  1.299558e+09  "
      ]
     },
     "execution_count": 70,
     "metadata": {},
     "output_type": "execute_result"
    }
   ],
   "source": [
    "profit"
   ]
  },
  {
   "cell_type": "markdown",
   "id": "16416081",
   "metadata": {},
   "source": [
    "the top 6 profitable movies are 'Avatar','the force awakens','Titanic','Jurassic World','Furious 7','The avengers'"
   ]
  },
  {
   "cell_type": "markdown",
   "id": "bb9d5db4",
   "metadata": {},
   "source": [
    "# 9.Which Genre Has The Highest Release Of Movies?"
   ]
  },
  {
   "cell_type": "code",
   "execution_count": 71,
   "id": "1c7a530b",
   "metadata": {},
   "outputs": [
    {
     "data": {
      "image/png": "[encoded data removed]",
      "text/plain": [
       "<Figure size 936x432 with 1 Axes>"
      ]
     },
     "metadata": {
      "needs_background": "light"
     },
     "output_type": "display_data"
    }
   ],
   "source": [
    "#make a function will will split the string and return the count of each genre.\n",
    "def counting(x):\n",
    "    #concatenate all the rows of the genrs.\n",
    "    plots = df_movies[x].str.cat(sep = '|')\n",
    "    data = pd.Series(plots.split('|'))\n",
    "    #conts each of the genre and return.\n",
    "    info = data.value_counts(ascending=False)\n",
    "    return info\n",
    "\n",
    "#call the function for counting the movies of each genre.\n",
    "total_genre= counting('genres')\n",
    "#plot a 'barh' plot using plot function for 'genre vs number of movies'.\n",
    "total_genre.plot(kind= 'barh',figsize = (13,6),fontsize=12,colormap='tab20c')\n",
    "\n",
    "#setup the title and the labels of the plot.\n",
    "plt.title(\"Genre With Highest Release\",fontsize=16)\n",
    "plt.xlabel('Movies Count',fontsize=13)\n",
    "plt.ylabel(\"Genres\",fontsize= 13)\n",
    "sbn.set_style(\"whitegrid\")"
   ]
  },
  {
   "cell_type": "markdown",
   "id": "7443215d",
   "metadata": {},
   "source": [
    "'Drama' had the highest release of over 1500 movie count followed by 'Comedy','Thriller','Action','Adventure '\n",
    "\n",
    "hence producers should consider this set of genres  in releasing a movie"
   ]
  },
  {
   "cell_type": "markdown",
   "id": "809728f9",
   "metadata": {},
   "source": [
    "# 10.Most Frequent Actor?"
   ]
  },
  {
   "cell_type": "code",
   "execution_count": 72,
   "id": "f54ced72",
   "metadata": {},
   "outputs": [
    {
     "data": {
      "image/png": "[encoded data removed]",
      "text/plain": [
       "<Figure size 1080x432 with 1 Axes>"
      ]
     },
     "metadata": {},
     "output_type": "display_data"
    }
   ],
   "source": [
    "count_actor = counting('cast')\n",
    "\n",
    "#plot the bar plot.\n",
    "count_actor.iloc[:20].plot.bar(figsize=(15,6),colormap= 'tab20c',fontsize=12)\n",
    "\n",
    "#setup the title and the labels of the plot.\n",
    "plt.title(\"Most Frequent Actor\",fontsize=15)\n",
    "plt.xticks(rotation = 90)\n",
    "plt.xlabel('Actor',fontsize=15)\n",
    "plt.ylabel(\"Movies Count\",fontsize= 15)\n",
    "sbn.set_style(\"darkgrid\")"
   ]
  },
  {
   "cell_type": "code",
   "execution_count": 73,
   "id": "8196ba96",
   "metadata": {},
   "outputs": [
    {
     "data": {
      "text/plain": [
       "Bruce Willis         141\n",
       "Nicolas Cage         139\n",
       "Robert De Niro       137\n",
       "Samuel L. Jackson    134\n",
       "Eddie Murphy         108\n",
       "dtype: int64"
      ]
     },
     "execution_count": 73,
     "metadata": {},
     "output_type": "execute_result"
    }
   ],
   "source": [
    "count = counting('cast')\n",
    "#printing top 5 values\n",
    "count.head()"
   ]
  },
  {
   "cell_type": "markdown",
   "id": "83f4e955",
   "metadata": {},
   "source": [
    "Bruce Willis appeared to be the most frequent actor"
   ]
  },
  {
   "cell_type": "markdown",
   "id": "0865d505",
   "metadata": {},
   "source": [
    "# 11.Top 20 Production Companies With Higher Number Of Release?¶"
   ]
  },
  {
   "cell_type": "code",
   "execution_count": 74,
   "id": "e4f32136",
   "metadata": {},
   "outputs": [
    {
     "data": {
      "image/png": "[encoded data removed]",
      "text/plain": [
       "<Figure size 1152x576 with 1 Axes>"
      ]
     },
     "metadata": {},
     "output_type": "display_data"
    }
   ],
   "source": [
    "\n",
    "production_companies = counting('production_companies')\n",
    "\n",
    "#plot the horizontal plot.\n",
    "production_companies.iloc[:20].plot(kind='barh',figsize=(16,8),fontsize=16)\n",
    "plt.title(\"Production Companies Vs Number Of Movies\",fontsize=16)\n",
    "plt.xlabel('Movies_Count',fontsize=16)\n",
    "sbn.set_style(\"darkgrid\")"
   ]
  },
  {
   "cell_type": "code",
   "execution_count": 75,
   "id": "dd9ffd7d",
   "metadata": {},
   "outputs": [
    {
     "data": {
      "text/plain": [
       "Warner Bros.                              943\n",
       "Universal Pictures                        888\n",
       "Paramount Pictures                        761\n",
       "Twentieth Century Fox Film Corporation    588\n",
       "Columbia Pictures                         495\n",
       "dtype: int64"
      ]
     },
     "execution_count": 75,
     "metadata": {},
     "output_type": "execute_result"
    }
   ],
   "source": [
    "counted = counting('production_companies')\n",
    "#printing top 5 values\n",
    "counted.head()"
   ]
  },
  {
   "cell_type": "markdown",
   "id": "2f04471e",
   "metadata": {},
   "source": [
    "Warner Bro produced  more movies than any other companies followed by Universal Pictures "
   ]
  },
  {
   "cell_type": "markdown",
   "id": "f8ae065e",
   "metadata": {},
   "source": [
    "# 12. Top 20 Director Who Directs Maximum Movies"
   ]
  },
  {
   "cell_type": "code",
   "execution_count": 76,
   "id": "39dbfa16",
   "metadata": {},
   "outputs": [
    {
     "data": {
      "image/png": "[encoded data removed]",
      "text/plain": [
       "<Figure size 936x432 with 1 Axes>"
      ]
     },
     "metadata": {},
     "output_type": "display_data"
    }
   ],
   "source": [
    "#call the 'count_genre' function which we made earlier for spiliing and counting genres.\n",
    "#it wiil count number of movies directed by each diretor.\n",
    "count_director = counting('director')\n",
    "\n",
    "#plot a barh graph\n",
    "count_director.iloc[:20].plot(kind='bar',figsize=(13,6),fontsize=13)\n",
    "\n",
    "#setup the title and the labels \n",
    "plt.title(\"Director Vs Number Of Movies\",fontsize=13)\n",
    "plt.xticks(rotation=90)\n",
    "plt.ylabel(\"Movies_count\",fontsize= 13)\n",
    "sbn.set_style(\"whitegrid\")"
   ]
  },
  {
   "cell_type": "code",
   "execution_count": 77,
   "id": "44a8a225",
   "metadata": {},
   "outputs": [
    {
     "data": {
      "text/plain": [
       "Steven Spielberg    78\n",
       "Clint Eastwood      68\n",
       "Ridley Scott        66\n",
       "Tim Burton          52\n",
       "Robert Rodriguez    51\n",
       "dtype: int64"
      ]
     },
     "execution_count": 77,
     "metadata": {},
     "output_type": "execute_result"
    }
   ],
   "source": [
    "counts = counting('director')\n",
    "#printing top 5 values\n",
    "counts.head()"
   ]
  },
  {
   "cell_type": "markdown",
   "id": "3960cd09",
   "metadata": {},
   "source": [
    "Steven Spielberg directed more movies than other directors followed bybClint Eastwood"
   ]
  },
  {
   "cell_type": "markdown",
   "id": "77bdd9d6",
   "metadata": {},
   "source": [
    "# 13.What kinds of properties are associated with movies that have high revenues?"
   ]
  },
  {
   "cell_type": "markdown",
   "id": "0e836393",
   "metadata": {},
   "source": [
    "To do this,we'd check the correlation using scatter plot,heatmap,and corr() function "
   ]
  },
  {
   "cell_type": "code",
   "execution_count": 78,
   "id": "9864a09d",
   "metadata": {},
   "outputs": [
    {
     "data": {
      "text/html": [
       "<div>\n",
       "<style scoped>\n",
       "    .dataframe tbody tr th:only-of-type {\n",
       "        vertical-align: middle;\n",
       "    }\n",
       "\n",
       "    .dataframe tbody tr th {\n",
       "        vertical-align: top;\n",
       "    }\n",
       "\n",
       "    .dataframe thead th {\n",
       "        text-align: right;\n",
       "    }\n",
       "</style>\n",
       "<table border=\"1\" class=\"dataframe\">\n",
       "  <thead>\n",
       "    <tr style=\"text-align: right;\">\n",
       "      <th></th>\n",
       "      <th>popularity</th>\n",
       "      <th>budget</th>\n",
       "      <th>revenue</th>\n",
       "      <th>runtime</th>\n",
       "      <th>vote_count</th>\n",
       "      <th>release_year</th>\n",
       "      <th>profit</th>\n",
       "    </tr>\n",
       "  </thead>\n",
       "  <tbody>\n",
       "    <tr>\n",
       "      <th>popularity</th>\n",
       "      <td>1.000000</td>\n",
       "      <td>0.440292</td>\n",
       "      <td>0.614601</td>\n",
       "      <td>0.208887</td>\n",
       "      <td>0.768715</td>\n",
       "      <td>0.192562</td>\n",
       "      <td>0.595511</td>\n",
       "    </tr>\n",
       "    <tr>\n",
       "      <th>budget</th>\n",
       "      <td>0.440292</td>\n",
       "      <td>1.000000</td>\n",
       "      <td>0.677935</td>\n",
       "      <td>0.244039</td>\n",
       "      <td>0.565313</td>\n",
       "      <td>0.310976</td>\n",
       "      <td>0.515869</td>\n",
       "    </tr>\n",
       "    <tr>\n",
       "      <th>revenue</th>\n",
       "      <td>0.614601</td>\n",
       "      <td>0.677935</td>\n",
       "      <td>1.000000</td>\n",
       "      <td>0.244327</td>\n",
       "      <td>0.762004</td>\n",
       "      <td>0.167698</td>\n",
       "      <td>0.979480</td>\n",
       "    </tr>\n",
       "    <tr>\n",
       "      <th>runtime</th>\n",
       "      <td>0.208887</td>\n",
       "      <td>0.244039</td>\n",
       "      <td>0.244327</td>\n",
       "      <td>1.000000</td>\n",
       "      <td>0.275468</td>\n",
       "      <td>-0.118712</td>\n",
       "      <td>0.217819</td>\n",
       "    </tr>\n",
       "    <tr>\n",
       "      <th>vote_count</th>\n",
       "      <td>0.768715</td>\n",
       "      <td>0.565313</td>\n",
       "      <td>0.762004</td>\n",
       "      <td>0.275468</td>\n",
       "      <td>1.000000</td>\n",
       "      <td>0.234363</td>\n",
       "      <td>0.733010</td>\n",
       "    </tr>\n",
       "    <tr>\n",
       "      <th>release_year</th>\n",
       "      <td>0.192562</td>\n",
       "      <td>0.310976</td>\n",
       "      <td>0.167698</td>\n",
       "      <td>-0.118712</td>\n",
       "      <td>0.234363</td>\n",
       "      <td>1.000000</td>\n",
       "      <td>0.110169</td>\n",
       "    </tr>\n",
       "    <tr>\n",
       "      <th>profit</th>\n",
       "      <td>0.595511</td>\n",
       "      <td>0.515869</td>\n",
       "      <td>0.979480</td>\n",
       "      <td>0.217819</td>\n",
       "      <td>0.733010</td>\n",
       "      <td>0.110169</td>\n",
       "      <td>1.000000</td>\n",
       "    </tr>\n",
       "  </tbody>\n",
       "</table>\n",
       "</div>"
      ],
      "text/plain": [
       "              popularity    budget   revenue   runtime  vote_count  \\\n",
       "popularity      1.000000  0.440292  0.614601  0.208887    0.768715   \n",
       "budget          0.440292  1.000000  0.677935  0.244039    0.565313   \n",
       "revenue         0.614601  0.677935  1.000000  0.244327    0.762004   \n",
       "runtime         0.208887  0.244039  0.244327  1.000000    0.275468   \n",
       "vote_count      0.768715  0.565313  0.762004  0.275468    1.000000   \n",
       "release_year    0.192562  0.310976  0.167698 -0.118712    0.234363   \n",
       "profit          0.595511  0.515869  0.979480  0.217819    0.733010   \n",
       "\n",
       "              release_year    profit  \n",
       "popularity        0.192562  0.595511  \n",
       "budget            0.310976  0.515869  \n",
       "revenue           0.167698  0.979480  \n",
       "runtime          -0.118712  0.217819  \n",
       "vote_count        0.234363  0.733010  \n",
       "release_year      1.000000  0.110169  \n",
       "profit            0.110169  1.000000  "
      ]
     },
     "execution_count": 78,
     "metadata": {},
     "output_type": "execute_result"
    }
   ],
   "source": [
    "df_movies.corr()"
   ]
  },
  {
   "cell_type": "code",
   "execution_count": 79,
   "id": "7af45619",
   "metadata": {},
   "outputs": [
    {
     "data": {
      "text/plain": [
       "<AxesSubplot:title={'center':'CORELLATION BETWEEN PROPERTIES'}>"
      ]
     },
     "execution_count": 79,
     "metadata": {},
     "output_type": "execute_result"
    },
    {
     "data": {
      "image/png": "[encoded data removed]",
      "text/plain": [
       "<Figure size 1080x576 with 2 Axes>"
      ]
     },
     "metadata": {},
     "output_type": "display_data"
    }
   ],
   "source": [
    "plt.figure(figsize=[15, 8])\n",
    "plt.title('CORELLATION BETWEEN PROPERTIES')\n",
    "corre=df_movies.corr()\n",
    "sbn.heatmap(corre,cmap='cividis_r', annot=True)"
   ]
  },
  {
   "cell_type": "markdown",
   "id": "8d885497",
   "metadata": {},
   "source": [
    "from this table ,its obvious that properties like profit,vote count,budget and popularitzy has a positive correlation w.r.t \n",
    "\n",
    "revenue while budget has a correlation w.r.t rrevenue,vote count profit\n",
    "\n",
    "popularity has a ppositive correlation w.r.t revenue,vote count,profit\n",
    "\n",
    "vote count has a positive correlation w.r.t popularity,budget,revenue,profit\n",
    "\n",
    "pprofit has a positive correlation  w.r.t popularity,budget,revenue,vote_count\n",
    "\n",
    "run_time has a very negative correlation with the other attributes\n",
    "\n",
    "a scatter plot will be used to explain further using seaborn and matplotlib"
   ]
  },
  {
   "cell_type": "code",
   "execution_count": 80,
   "id": "05ac1451",
   "metadata": {},
   "outputs": [
    {
     "data": {
      "text/plain": [
       "Text(0.5, 1.0, 'Correlation between Budget and Revenue')"
      ]
     },
     "execution_count": 80,
     "metadata": {},
     "output_type": "execute_result"
    },
    {
     "data": {
      "image/png": "[encoded data removed]",
      "text/plain": [
       "<Figure size 432x288 with 1 Axes>"
      ]
     },
     "metadata": {},
     "output_type": "display_data"
    }
   ],
   "source": [
    "sbn.regplot(x=df_movies[\"budget\"], y=df_movies[\"revenue\"]).set_title(\"Correlation between Budget and Revenue\")"
   ]
  },
  {
   "cell_type": "code",
   "execution_count": 81,
   "id": "f5b989ff",
   "metadata": {},
   "outputs": [
    {
     "data": {
      "text/plain": [
       "<AxesSubplot:xlabel='budget', ylabel='revenue'>"
      ]
     },
     "execution_count": 81,
     "metadata": {},
     "output_type": "execute_result"
    },
    {
     "data": {
      "image/png": "[encoded data removed]",
      "text/plain": [
       "<Figure size 432x288 with 1 Axes>"
      ]
     },
     "metadata": {},
     "output_type": "display_data"
    }
   ],
   "source": [
    "df_movies.plot(y='revenue',x='budget',kind= 'scatter')"
   ]
  },
  {
   "cell_type": "markdown",
   "id": "9ca6e89f",
   "metadata": {},
   "source": [
    "There is a slight positive correlation between revenue and budget I.e an increase in the budget will lead to a slight increases \n",
    "\n",
    "in revenue "
   ]
  },
  {
   "cell_type": "code",
   "execution_count": 82,
   "id": "3fcf8e59",
   "metadata": {},
   "outputs": [
    {
     "data": {
      "text/plain": [
       "Text(0.5, 1.0, 'Correlation between Budget and profit')"
      ]
     },
     "execution_count": 82,
     "metadata": {},
     "output_type": "execute_result"
    },
    {
     "data": {
      "image/png": "[encoded data removed]",
      "text/plain": [
       "<Figure size 432x288 with 1 Axes>"
      ]
     },
     "metadata": {},
     "output_type": "display_data"
    }
   ],
   "source": [
    "sbn.regplot(x=df_movies[\"profit\"], y=df_movies[\"revenue\"]).set_title(\"Correlation between Budget and profit\")"
   ]
  },
  {
   "cell_type": "markdown",
   "id": "5b84ba9d",
   "metadata": {},
   "source": [
    "There is a  strong positive correlation between revenue and profi I.e an increase in the profit will lead to a  High increase\n",
    "\n",
    "in revenue"
   ]
  },
  {
   "cell_type": "code",
   "execution_count": 83,
   "id": "f40fd8c8",
   "metadata": {},
   "outputs": [
    {
     "data": {
      "text/plain": [
       "Text(0.5, 1.0, 'Correlation between Budget and popularity')"
      ]
     },
     "execution_count": 83,
     "metadata": {},
     "output_type": "execute_result"
    },
    {
     "data": {
      "image/png": "[encoded data removed]",
      "text/plain": [
       "<Figure size 432x288 with 1 Axes>"
      ]
     },
     "metadata": {},
     "output_type": "display_data"
    }
   ],
   "source": [
    "sbn.regplot(x=df_movies[\"popularity\"], y=df_movies[\"revenue\"]).set_title(\"Correlation between Budget and popularity\")"
   ]
  },
  {
   "cell_type": "markdown",
   "id": "e8d2fcac",
   "metadata": {},
   "source": [
    "There is a positive correlation between revenue and popularity I.e an increase in the popularity will lead to an increase\n",
    "\n",
    "in revenue"
   ]
  },
  {
   "cell_type": "code",
   "execution_count": 84,
   "id": "c7187e98",
   "metadata": {},
   "outputs": [
    {
     "data": {
      "text/plain": [
       "Text(0.5, 1.0, 'Correlation between Budget and vote count')"
      ]
     },
     "execution_count": 84,
     "metadata": {},
     "output_type": "execute_result"
    },
    {
     "data": {
      "image/png": "[encoded data removed]",
      "text/plain": [
       "<Figure size 432x288 with 1 Axes>"
      ]
     },
     "metadata": {},
     "output_type": "display_data"
    }
   ],
   "source": [
    "sbn.regplot(x=df_movies[\"vote_count\"], y=df_movies[\"revenue\"]).set_title(\"Correlation between Budget and vote count\")"
   ]
  },
  {
   "cell_type": "markdown",
   "id": "acb16c74",
   "metadata": {},
   "source": [
    "There is a positive correlation between revenue and vote_count I.e an increase in the vote_count will lead to an increase\n",
    "\n",
    "in revenue"
   ]
  },
  {
   "cell_type": "code",
   "execution_count": 85,
   "id": "791d8805",
   "metadata": {},
   "outputs": [
    {
     "data": {
      "text/plain": [
       "Text(0.5, 1.0, 'Correlation between Budget and run_time')"
      ]
     },
     "execution_count": 85,
     "metadata": {},
     "output_type": "execute_result"
    },
    {
     "data": {
      "image/png": "[encoded data removed]",
      "text/plain": [
       "<Figure size 432x288 with 1 Axes>"
      ]
     },
     "metadata": {},
     "output_type": "display_data"
    }
   ],
   "source": [
    "sbn.regplot(x=df_movies[\"runtime\"], y=df_movies[\"revenue\"]).set_title('Correlation between Budget and run_time')"
   ]
  },
  {
   "cell_type": "markdown",
   "id": "70efa5ad",
   "metadata": {},
   "source": [
    "There is no correlation between revenue and run_it,time I.e there is no effect of run_Time on the revenue"
   ]
  },
  {
   "cell_type": "markdown",
   "id": "84cbd8ac",
   "metadata": {},
   "source": [
    "it showe that an increase in all of the p4operties woykd lhead to an increase in the revenue with the profit bring the highest \n",
    "\n",
    "determinant apart from run time"
   ]
  },
  {
   "cell_type": "markdown",
   "id": "2b7f873c",
   "metadata": {},
   "source": [
    "movies with higher revenue comes with higher runtime, higher budget and also come with a compensations higher popularity, higher profit, and higher vote counts.\n",
    "we can say also advise production companies should be willing to invest into movies with higher budget because the helps the producers produce a high quality movie that then return a high profit."
   ]
  },
  {
   "cell_type": "markdown",
   "id": "a778437c",
   "metadata": {},
   "source": [
    "#  14. By what factor would revenue increase with an increase in profit \n",
    "To answer this I would be applying a simple linear regrsession method to predict the factor increment \n",
    "\n",
    "I would be importing statsmodels to do this"
   ]
  },
  {
   "cell_type": "markdown",
   "id": "be7613ce",
   "metadata": {},
   "source": [
    "# simple linear regression"
   ]
  },
  {
   "cell_type": "code",
   "execution_count": 86,
   "id": "637c78a4",
   "metadata": {},
   "outputs": [],
   "source": [
    "import statsmodels.api as sns"
   ]
  },
  {
   "cell_type": "code",
   "execution_count": 87,
   "id": "ff0cc0cb",
   "metadata": {},
   "outputs": [],
   "source": [
    "# to get the constant of the independent variable \n",
    "x=sns.add_constant(df_movies['profit'])"
   ]
  },
  {
   "cell_type": "code",
   "execution_count": 88,
   "id": "0d81b60c",
   "metadata": {},
   "outputs": [],
   "source": [
    "# define the dependent variable \n",
    "y=df_movies['revenue']"
   ]
  },
  {
   "cell_type": "code",
   "execution_count": 89,
   "id": "affd2c1f",
   "metadata": {},
   "outputs": [],
   "source": [
    "lmm=sns.OLS(y,x).fit()"
   ]
  },
  {
   "cell_type": "code",
   "execution_count": 90,
   "id": "b13acd1c",
   "metadata": {},
   "outputs": [
    {
     "data": {
      "text/html": [
       "<table class=\"simpletable\">\n",
       "<caption>OLS Regression Results</caption>\n",
       "<tr>\n",
       "  <th>Dep. Variable:</th>         <td>revenue</td>     <th>  R-squared:         </th>  <td>   0.959</td>  \n",
       "</tr>\n",
       "<tr>\n",
       "  <th>Model:</th>                   <td>OLS</td>       <th>  Adj. R-squared:    </th>  <td>   0.959</td>  \n",
       "</tr>\n",
       "<tr>\n",
       "  <th>Method:</th>             <td>Least Squares</td>  <th>  F-statistic:       </th>  <td>2.404e+05</td> \n",
       "</tr>\n",
       "<tr>\n",
       "  <th>Date:</th>             <td>Tue, 04 Oct 2022</td> <th>  Prob (F-statistic):</th>   <td>  0.00</td>   \n",
       "</tr>\n",
       "<tr>\n",
       "  <th>Time:</th>                 <td>13:51:08</td>     <th>  Log-Likelihood:    </th> <td>-1.9236e+05</td>\n",
       "</tr>\n",
       "<tr>\n",
       "  <th>No. Observations:</th>      <td> 10180</td>      <th>  AIC:               </th>  <td>3.847e+05</td> \n",
       "</tr>\n",
       "<tr>\n",
       "  <th>Df Residuals:</th>          <td> 10178</td>      <th>  BIC:               </th>  <td>3.847e+05</td> \n",
       "</tr>\n",
       "<tr>\n",
       "  <th>Df Model:</th>              <td>     1</td>      <th>                     </th>      <td> </td>     \n",
       "</tr>\n",
       "<tr>\n",
       "  <th>Covariance Type:</th>      <td>nonrobust</td>    <th>                     </th>      <td> </td>     \n",
       "</tr>\n",
       "</table>\n",
       "<table class=\"simpletable\">\n",
       "<tr>\n",
       "     <td></td>       <th>coef</th>     <th>std err</th>      <th>t</th>      <th>P>|t|</th>  <th>[0.025</th>    <th>0.975]</th>  \n",
       "</tr>\n",
       "<tr>\n",
       "  <th>const</th>  <td>  3.09e+07</td> <td> 4.27e+05</td> <td>   72.339</td> <td> 0.000</td> <td> 3.01e+07</td> <td> 3.17e+07</td>\n",
       "</tr>\n",
       "<tr>\n",
       "  <th>profit</th> <td>    1.1414</td> <td>    0.002</td> <td>  490.307</td> <td> 0.000</td> <td>    1.137</td> <td>    1.146</td>\n",
       "</tr>\n",
       "</table>\n",
       "<table class=\"simpletable\">\n",
       "<tr>\n",
       "  <th>Omnibus:</th>       <td>5323.038</td> <th>  Durbin-Watson:     </th> <td>   0.521</td> \n",
       "</tr>\n",
       "<tr>\n",
       "  <th>Prob(Omnibus):</th>  <td> 0.000</td>  <th>  Jarque-Bera (JB):  </th> <td>76820.608</td>\n",
       "</tr>\n",
       "<tr>\n",
       "  <th>Skew:</th>           <td> 2.173</td>  <th>  Prob(JB):          </th> <td>    0.00</td> \n",
       "</tr>\n",
       "<tr>\n",
       "  <th>Kurtosis:</th>       <td>15.736</td>  <th>  Cond. No.          </th> <td>2.03e+08</td> \n",
       "</tr>\n",
       "</table><br/><br/>Notes:<br/>[1] Standard Errors assume that the covariance matrix of the errors is correctly specified.<br/>[2] The condition number is large, 2.03e+08. This might indicate that there are<br/>strong multicollinearity or other numerical problems."
      ],
      "text/plain": [
       "<class 'statsmodels.iolib.summary.Summary'>\n",
       "\"\"\"\n",
       "                            OLS Regression Results                            \n",
       "==============================================================================\n",
       "Dep. Variable:                revenue   R-squared:                       0.959\n",
       "Model:                            OLS   Adj. R-squared:                  0.959\n",
       "Method:                 Least Squares   F-statistic:                 2.404e+05\n",
       "Date:                Tue, 04 Oct 2022   Prob (F-statistic):               0.00\n",
       "Time:                        13:51:08   Log-Likelihood:            -1.9236e+05\n",
       "No. Observations:               10180   AIC:                         3.847e+05\n",
       "Df Residuals:                   10178   BIC:                         3.847e+05\n",
       "Df Model:                           1                                         \n",
       "Covariance Type:            nonrobust                                         \n",
       "==============================================================================\n",
       "                 coef    std err          t      P>|t|      [0.025      0.975]\n",
       "------------------------------------------------------------------------------\n",
       "const        3.09e+07   4.27e+05     72.339      0.000    3.01e+07    3.17e+07\n",
       "profit         1.1414      0.002    490.307      0.000       1.137       1.146\n",
       "==============================================================================\n",
       "Omnibus:                     5323.038   Durbin-Watson:                   0.521\n",
       "Prob(Omnibus):                  0.000   Jarque-Bera (JB):            76820.608\n",
       "Skew:                           2.173   Prob(JB):                         0.00\n",
       "Kurtosis:                      15.736   Cond. No.                     2.03e+08\n",
       "==============================================================================\n",
       "\n",
       "Notes:\n",
       "[1] Standard Errors assume that the covariance matrix of the errors is correctly specified.\n",
       "[2] The condition number is large, 2.03e+08. This might indicate that there are\n",
       "strong multicollinearity or other numerical problems.\n",
       "\"\"\""
      ]
     },
     "execution_count": 90,
     "metadata": {},
     "output_type": "execute_result"
    }
   ],
   "source": [
    "# to determine the factor\n",
    "lmm.summary()"
   ]
  },
  {
   "cell_type": "markdown",
   "id": "73554c7d",
   "metadata": {},
   "source": [
    "Our simple linear regression equation is y=b0+b1x where b0 is the constant and b1 is that of the x variable being 'profit'\n",
    "\n",
    "From the regression lone equation above ; y=3.09e+07+1.414profit \n",
    "\n",
    "if the profit increases by a unit ,the revenue increases by a factor of 1.414 "
   ]
  },
  {
   "cell_type": "markdown",
   "id": "07e800fc",
   "metadata": {},
   "source": [
    "# 15. By what factor would profit increase with an increase in popularity"
   ]
  },
  {
   "cell_type": "code",
   "execution_count": 91,
   "id": "91273f2f",
   "metadata": {},
   "outputs": [],
   "source": [
    "# to get the constant of the independent variable \n",
    "x=sns.add_constant(df_movies['popularity'])"
   ]
  },
  {
   "cell_type": "code",
   "execution_count": 92,
   "id": "8aa45738",
   "metadata": {},
   "outputs": [],
   "source": [
    "# define the dependent variable \n",
    "y=df_movies['profit']"
   ]
  },
  {
   "cell_type": "code",
   "execution_count": 93,
   "id": "59fff8e6",
   "metadata": {},
   "outputs": [],
   "source": [
    "lmm=sns.OLS(y,x).fit()"
   ]
  },
  {
   "cell_type": "code",
   "execution_count": 94,
   "id": "8af098dd",
   "metadata": {},
   "outputs": [
    {
     "data": {
      "text/html": [
       "<table class=\"simpletable\">\n",
       "<caption>OLS Regression Results</caption>\n",
       "<tr>\n",
       "  <th>Dep. Variable:</th>         <td>profit</td>      <th>  R-squared:         </th>  <td>   0.355</td>  \n",
       "</tr>\n",
       "<tr>\n",
       "  <th>Model:</th>                   <td>OLS</td>       <th>  Adj. R-squared:    </th>  <td>   0.355</td>  \n",
       "</tr>\n",
       "<tr>\n",
       "  <th>Method:</th>             <td>Least Squares</td>  <th>  F-statistic:       </th>  <td>   5593.</td>  \n",
       "</tr>\n",
       "<tr>\n",
       "  <th>Date:</th>             <td>Tue, 04 Oct 2022</td> <th>  Prob (F-statistic):</th>   <td>  0.00</td>   \n",
       "</tr>\n",
       "<tr>\n",
       "  <th>Time:</th>                 <td>13:51:08</td>     <th>  Log-Likelihood:    </th> <td>-2.0488e+05</td>\n",
       "</tr>\n",
       "<tr>\n",
       "  <th>No. Observations:</th>      <td> 10180</td>      <th>  AIC:               </th>  <td>4.098e+05</td> \n",
       "</tr>\n",
       "<tr>\n",
       "  <th>Df Residuals:</th>          <td> 10178</td>      <th>  BIC:               </th>  <td>4.098e+05</td> \n",
       "</tr>\n",
       "<tr>\n",
       "  <th>Df Model:</th>              <td>     1</td>      <th>                     </th>      <td> </td>     \n",
       "</tr>\n",
       "<tr>\n",
       "  <th>Covariance Type:</th>      <td>nonrobust</td>    <th>                     </th>      <td> </td>     \n",
       "</tr>\n",
       "</table>\n",
       "<table class=\"simpletable\">\n",
       "<tr>\n",
       "       <td></td>         <th>coef</th>     <th>std err</th>      <th>t</th>      <th>P>|t|</th>  <th>[0.025</th>    <th>0.975]</th>  \n",
       "</tr>\n",
       "<tr>\n",
       "  <th>const</th>      <td> 9.999e+05</td> <td> 1.68e+06</td> <td>    0.595</td> <td> 0.552</td> <td> -2.3e+06</td> <td>  4.3e+06</td>\n",
       "</tr>\n",
       "<tr>\n",
       "  <th>popularity</th> <td> 6.115e+07</td> <td> 8.18e+05</td> <td>   74.786</td> <td> 0.000</td> <td> 5.96e+07</td> <td> 6.28e+07</td>\n",
       "</tr>\n",
       "</table>\n",
       "<table class=\"simpletable\">\n",
       "<tr>\n",
       "  <th>Omnibus:</th>       <td>7561.751</td> <th>  Durbin-Watson:     </th>  <td>   0.571</td> \n",
       "</tr>\n",
       "<tr>\n",
       "  <th>Prob(Omnibus):</th>  <td> 0.000</td>  <th>  Jarque-Bera (JB):  </th> <td>673397.298</td>\n",
       "</tr>\n",
       "<tr>\n",
       "  <th>Skew:</th>           <td> 2.869</td>  <th>  Prob(JB):          </th>  <td>    0.00</td> \n",
       "</tr>\n",
       "<tr>\n",
       "  <th>Kurtosis:</th>       <td>42.429</td>  <th>  Cond. No.          </th>  <td>    2.89</td> \n",
       "</tr>\n",
       "</table><br/><br/>Notes:<br/>[1] Standard Errors assume that the covariance matrix of the errors is correctly specified."
      ],
      "text/plain": [
       "<class 'statsmodels.iolib.summary.Summary'>\n",
       "\"\"\"\n",
       "                            OLS Regression Results                            \n",
       "==============================================================================\n",
       "Dep. Variable:                 profit   R-squared:                       0.355\n",
       "Model:                            OLS   Adj. R-squared:                  0.355\n",
       "Method:                 Least Squares   F-statistic:                     5593.\n",
       "Date:                Tue, 04 Oct 2022   Prob (F-statistic):               0.00\n",
       "Time:                        13:51:08   Log-Likelihood:            -2.0488e+05\n",
       "No. Observations:               10180   AIC:                         4.098e+05\n",
       "Df Residuals:                   10178   BIC:                         4.098e+05\n",
       "Df Model:                           1                                         \n",
       "Covariance Type:            nonrobust                                         \n",
       "==============================================================================\n",
       "                 coef    std err          t      P>|t|      [0.025      0.975]\n",
       "------------------------------------------------------------------------------\n",
       "const       9.999e+05   1.68e+06      0.595      0.552    -2.3e+06     4.3e+06\n",
       "popularity  6.115e+07   8.18e+05     74.786      0.000    5.96e+07    6.28e+07\n",
       "==============================================================================\n",
       "Omnibus:                     7561.751   Durbin-Watson:                   0.571\n",
       "Prob(Omnibus):                  0.000   Jarque-Bera (JB):           673397.298\n",
       "Skew:                           2.869   Prob(JB):                         0.00\n",
       "Kurtosis:                      42.429   Cond. No.                         2.89\n",
       "==============================================================================\n",
       "\n",
       "Notes:\n",
       "[1] Standard Errors assume that the covariance matrix of the errors is correctly specified.\n",
       "\"\"\""
      ]
     },
     "execution_count": 94,
     "metadata": {},
     "output_type": "execute_result"
    }
   ],
   "source": [
    "# to determine the factor\n",
    "lmm.summary()"
   ]
  },
  {
   "cell_type": "markdown",
   "id": "2f43c8c5",
   "metadata": {},
   "source": [
    "Our simple linear regression equation is y=b0+b1x where b0 is the constant and b1 is that of the x variable being 'popularity'\n",
    "\n",
    "From the regression lone equation above ; y=9.999e+05 + 6.115e+07\n",
    "\n",
    "if the popularity increases by a unit ,the profit increases by a factor of 6.115e+07"
   ]
  },
  {
   "cell_type": "markdown",
   "id": "395a9b3c",
   "metadata": {},
   "source": [
    "# CONCLUSION \n",
    "\n",
    "# summary of findings\n",
    "\n",
    "Science fiction is High in three years I.e 2015,2014,2013\n",
    "\n",
    "The most profitable movie is Avatar with a profit of 2.544506e+09 and its also the most popular movie\n",
    "\n",
    "The least profitable movie is The Warriors Way with a profit of -413912431.0 and its also the least popular\n",
    "\n",
    "The Warrior's Way had the highest budget but still had a low profit\n",
    "\n",
    "Lost & Found '  movie had the lowest budget\n",
    "\n",
    "Avatar had the highest revenue with a high profit\n",
    "\n",
    "'Shattered Glass' has the lowest revenue with a low profit,this shows that 'revenue' and 'profit' are positively correlated i.e \n",
    "\n",
    "increase in revenue will lead to an increase in profit and vice versa.\n",
    "\n",
    "Budget of a movie doesn't determine its profit\n",
    "\n",
    "'2015' has the highest profit rate with a profit of 1.456164e+08\n",
    "\n",
    "1966' has lowest profit rate with a profit of 8.558391e+06\n",
    "\n",
    "'Inception' has the highest vote count,'Beautiful' has the lowest votecount with a decrease in popularity and profit\n",
    "\n",
    "There is no correlation between revenue and run_it,time I.e there is no effect of run_Time on the revenue\n",
    "\n",
    "it showe that an increase in all of the p4operties woykd lhead to an increase in the revenue with the profit bring the highest\n",
    "\n",
    "determinant apart from run time\n",
    "\n",
    "movies with higher revenue comes with higher budget, higher popularity, higher profit, and higher vote counts.\n",
    "\n",
    "if the profit increases by a unit ,the revenue increases by a factor of 1.414 \n",
    "\n",
    "if the popularity increases by a unit ,the profit increases by a factor of 6.115e+07\n",
    "\n",
    "# From the analysis of this dataset,I implore production companies to invest into profitable genres (science fiction,thriller adventure,comedy,animation,etc)as this leads to a higher vote count ,profit and popularity due to their correlation,Directors should also consider the cast as most people love Bruce Willis "
   ]
  },
  {
   "cell_type": "markdown",
   "id": "dc5a012d",
   "metadata": {},
   "source": [
    "# LIMITATIONS "
   ]
  },
  {
   "cell_type": "markdown",
   "id": "8a9b90f5",
   "metadata": {},
   "source": [
    "separating the genres column was a bit tasky as it was joined by a '|' separator .\n",
    "\n",
    "There were incorrect values for the budget and revenue column because no movie would have zero values for budget.\n",
    "\n",
    "Too many  missing numbers in the dataset."
   ]
  },
  {
   "cell_type": "code",
   "execution_count": null,
   "id": "be415c6a",
   "metadata": {},
   "outputs": [],
   "source": []
  }
 ],
 "metadata": {
  "kernelspec": {
   "display_name": "Python 3 (ipykernel)",
   "language": "python",
   "name": "python3"
  },
  "language_info": {
   "codemirror_mode": {
    "name": "ipython",
    "version": 3
   },
   "file_extension": ".py",
   "mimetype": "text/x-python",
   "name": "python",
   "nbconvert_exporter": "python",
   "pygments_lexer": "ipython3",
   "version": "3.9.12"
  }
 },
 "nbformat": 4,
 "nbformat_minor": 5
}
